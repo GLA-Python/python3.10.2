{
 "cells": [
  {
   "cell_type": "code",
   "execution_count": 57,
   "metadata": {},
   "outputs": [],
   "source": [
    "def display_available_items(dct):\n",
    "    '''\n",
    "    Display all available items in the store\n",
    "    '''\n",
    "    w = 10\n",
    "    print(\"\\t\\tAvailable Items:\")\n",
    "    print(f\"{'S.No.':<15}{'Item':<15}{'Quanity':<15}{'Cost/Item':<15}\")\n",
    "    for index, row in dct.items():\n",
    "        print(f\"{index:<15}{row['Item']:<15}{row['Quantity']:<15}{row['Cost/Item']:<15}\")\n",
    "    "
   ]
  },
  {
   "cell_type": "code",
   "execution_count": 62,
   "metadata": {},
   "outputs": [],
   "source": [
    "def display_user_cart(dct):\n",
    "    '''\n",
    "    Display all items in the cart\n",
    "    '''\n",
    "    print(\"\\t\\tItems in Cart:\")\n",
    "    print(f\"{'S.No.':<15}{'Item':<15}{'Quanity':<15}{'Total Cost':<15}\")\n",
    "    for index, row in dct.items():\n",
    "        print(f\"{index:<15}{row['Item']:<15}{row['Quantity']:<15}{row['TotalCost']:<15}\")"
   ]
  },
  {
   "cell_type": "code",
   "execution_count": 53,
   "metadata": {},
   "outputs": [],
   "source": [
    "availableItems = {1: {'Item': 'Biscuits', 'Quantity': 5, 'Cost/Item': 20.5}, \n",
    "2: {'Item': 'Chocolates', 'Quantity': 10, 'Cost/Item': 35}, \n",
    "3: {'Item': 'Coffee', 'Quantity': 25, 'Cost/Item': 55},\n",
    "4: {'Item': 'Chips', 'Quantity': 10, 'Cost/Item': 50},\n",
    "5: {'Item': 'Cream', 'Quantity': 5, 'Cost/Item': 30}}"
   ]
  },
  {
   "cell_type": "code",
   "execution_count": 58,
   "metadata": {},
   "outputs": [
    {
     "name": "stdout",
     "output_type": "stream",
     "text": [
      "\t\tAvailable Items:\n",
      "S.No.          Item           Quanity        Cost/Item      \n",
      "1              Biscuits       5              20.5           \n",
      "2              Chocolates     10             35             \n",
      "3              Coffee         25             55             \n",
      "4              Chips          10             50             \n",
      "5              Cream          5              30             \n"
     ]
    }
   ],
   "source": [
    "display_available_items(availableItems)"
   ]
  },
  {
   "cell_type": "code",
   "execution_count": 51,
   "metadata": {},
   "outputs": [
    {
     "ename": "ValueError",
     "evalue": "Unknown format code 'a' for object of type 'int'",
     "output_type": "error",
     "traceback": [
      "\u001b[1;31m---------------------------------------------------------------------------\u001b[0m",
      "\u001b[1;31mValueError\u001b[0m                                Traceback (most recent call last)",
      "\u001b[1;32mc:\\Users\\drami\\OneDrive\\Desktop\\GLA Classes\\Python Classes\\batch 2021-22\\python3.10.2\\shoppingitems.ipynb Cell 4'\u001b[0m in \u001b[0;36m<cell line: 3>\u001b[1;34m()\u001b[0m\n\u001b[0;32m      <a href='vscode-notebook-cell:/c%3A/Users/drami/OneDrive/Desktop/GLA%20Classes/Python%20Classes/batch%202021-22/python3.10.2/shoppingitems.ipynb#ch0000012?line=0'>1</a>\u001b[0m st \u001b[39m=\u001b[39m \u001b[39m23\u001b[39m\n\u001b[0;32m      <a href='vscode-notebook-cell:/c%3A/Users/drami/OneDrive/Desktop/GLA%20Classes/Python%20Classes/batch%202021-22/python3.10.2/shoppingitems.ipynb#ch0000012?line=1'>2</a>\u001b[0m a \u001b[39m=\u001b[39m \u001b[39m12\u001b[39m\n\u001b[1;32m----> <a href='vscode-notebook-cell:/c%3A/Users/drami/OneDrive/Desktop/GLA%20Classes/Python%20Classes/batch%202021-22/python3.10.2/shoppingitems.ipynb#ch0000012?line=2'>3</a>\u001b[0m \u001b[39mprint\u001b[39m(\u001b[39mf\u001b[39m\u001b[39m'\u001b[39m\u001b[39m{\u001b[39;00mst\u001b[39m:\u001b[39;00m\u001b[39m>a\u001b[39m\u001b[39m}\u001b[39;00m\u001b[39m'\u001b[39m)\n",
      "\u001b[1;31mValueError\u001b[0m: Unknown format code 'a' for object of type 'int'"
     ]
    }
   ],
   "source": [
    "st = 23\n",
    "a = 12\n",
    "print(f'{st:>a}')"
   ]
  },
  {
   "cell_type": "code",
   "execution_count": 3,
   "metadata": {},
   "outputs": [],
   "source": [
    "# user demand for items\n",
    "userDemand = {'Biscuits': 5, 'Chocolates': 10, 'Coffee': 25, 'Chips': 10, 'Cream': 5}\n",
    "name = 'Singhal'\n",
    "address = 'Kanpur'\n",
    "distance =  15\n",
    "deliveryCharge = 30\n",
    "bill = 0\n"
   ]
  },
  {
   "cell_type": "code",
   "execution_count": 64,
   "metadata": {},
   "outputs": [
    {
     "name": "stdout",
     "output_type": "stream",
     "text": [
      "\t\tAvailable Items:\n",
      "S.No.          Item           Quanity        Cost/Item      \n",
      "1              Biscuits       5              20.5           \n",
      "2              Chocolates     10             35             \n",
      "3              Coffee         25             55             \n",
      "4              Chips          10             50             \n",
      "5              Cream          5              30             \n",
      "\t\tItems in Cart:\n",
      "S.No.          Item           Quanity        Total Cost     \n",
      "1              Biscuits       5              102.5          \n",
      "2              Chocolates     10             350            \n",
      "3              Coffee         25             1375           \n",
      "4              Chips          10             500            \n",
      "5              Cream          5              150            \n"
     ]
    }
   ],
   "source": [
    "bill = 0\n",
    "user_cart = availableItems.copy()\n",
    "for it in userDemand:\n",
    "    for i in availableItems:\n",
    "        if it ==  availableItems[i]['Item']:\n",
    "            if userDemand[it] <= availableItems[i]['Quantity']:\n",
    "                tt = userDemand[it] * availableItems[i]['Cost/Item']\n",
    "                bill += tt\n",
    "                availableItems[i]['Quantity'] -= userDemand[it]\n",
    "                user_cart[i]['Quantity'] = userDemand[it]\n",
    "                user_cart[i]['TotalCost'] = tt\n",
    "            else:  \n",
    "                print(f\"Sorry, we don't have enough {it} in stock\")\n",
    "                user_cart.pop(i)\n",
    "                break   \n",
    "display_available_items(availableItems)\n",
    "display_user_cart(user_cart)         \n"
   ]
  },
  {
   "cell_type": "code",
   "execution_count": null,
   "metadata": {},
   "outputs": [],
   "source": []
  },
  {
   "cell_type": "code",
   "execution_count": 6,
   "metadata": {},
   "outputs": [
    {
     "name": "stdout",
     "output_type": "stream",
     "text": [
      "         Item  Quantity  cost/item\n",
      "1    Biscuits         5       20.5\n",
      "2  Chocolates        10       35.0\n",
      "3      Coffee        25       55.0\n",
      "4       Chips        10       50.0\n",
      "5       Cream         5       30.0\n"
     ]
    }
   ],
   "source": [
    "df = pd.DataFrame(availableItems.values(), index=availableItems.keys(), columns=availableItems[1].keys())\n",
    "print(df)"
   ]
  },
  {
   "cell_type": "code",
   "execution_count": 7,
   "metadata": {},
   "outputs": [],
   "source": [
    "# user demand for items\n",
    "userDemand = {'Biscuits': 5, 'Chocolates': 10, 'Coffee': 25, 'Chips': 10, 'Cream': 5}\n",
    "name = 'Singhal'\n",
    "address = 'Kanpur'\n",
    "distance =  15\n",
    "deliveryCharge = 30\n",
    "bill = 0\n"
   ]
  },
  {
   "cell_type": "code",
   "execution_count": 8,
   "metadata": {},
   "outputs": [],
   "source": [
    "# calculating bill\n",
    "for i in userDemand:\n",
    "    if userDemand[i] <= df.loc[df['Item'] == i, 'Quantity'].values[0]:\n",
    "        bill += userDemand[i] * df.loc[df['Item'] == i, 'cost/item'].values[0]\n",
    "    else:\n",
    "        bill += df.loc[df['Item'] == i, 'Quantity'].values[0] * df.loc[df['Item'] == i, 'cost/item'].values[0]\n",
    "        userDemand[i] -= df.loc[df['Item'] == i, 'Quantity'].values[0]"
   ]
  },
  {
   "cell_type": "code",
   "execution_count": null,
   "metadata": {},
   "outputs": [],
   "source": []
  },
  {
   "cell_type": "code",
   "execution_count": 10,
   "metadata": {},
   "outputs": [
    {
     "name": "stdout",
     "output_type": "stream",
     "text": [
      "2507.5\n"
     ]
    }
   ],
   "source": [
    "totalbill = bill + deliveryCharge\n",
    "print(totalbill)"
   ]
  }
 ],
 "metadata": {
  "interpreter": {
   "hash": "490f1c68ed42f2c5a574e22fb9e03ff49b98516de8582ff1c5d4fb43fb70f61b"
  },
  "kernelspec": {
   "display_name": "Python 3.10.4 64-bit",
   "language": "python",
   "name": "python3"
  },
  "language_info": {
   "codemirror_mode": {
    "name": "ipython",
    "version": 3
   },
   "file_extension": ".py",
   "mimetype": "text/x-python",
   "name": "python",
   "nbconvert_exporter": "python",
   "pygments_lexer": "ipython3",
   "version": "3.10.4"
  },
  "orig_nbformat": 4
 },
 "nbformat": 4,
 "nbformat_minor": 2
}
