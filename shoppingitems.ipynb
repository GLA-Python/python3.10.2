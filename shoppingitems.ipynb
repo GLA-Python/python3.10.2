{
 "cells": [
  {
   "cell_type": "code",
   "execution_count": 3,
   "metadata": {},
   "outputs": [],
   "source": [
    "import pandas as pd"
   ]
  },
  {
   "cell_type": "code",
   "execution_count": 2,
   "metadata": {},
   "outputs": [],
   "source": [
    "availableItems = {1: {'Item': 'Biscuits', 'Quantity': 5, 'cost/item': 20.5}, \n",
    "2: {'Item': 'Chocolates', 'Quantity': 10, 'cost/item': 35}, \n",
    "3: {'Item': 'Coffee', 'Quantity': 25, 'cost/item': 55},\n",
    "4: {'Item': 'Chips', 'Quantity': 10, 'cost/item': 50},\n",
    "5: {'Item': 'Cream', 'Quantity': 5, 'cost/item': 30}}"
   ]
  },
  {
   "cell_type": "code",
   "execution_count": 6,
   "metadata": {},
   "outputs": [
    {
     "name": "stdout",
     "output_type": "stream",
     "text": [
      "         Item  Quantity  cost/item\n",
      "1    Biscuits         5       20.5\n",
      "2  Chocolates        10       35.0\n",
      "3      Coffee        25       55.0\n",
      "4       Chips        10       50.0\n",
      "5       Cream         5       30.0\n"
     ]
    }
   ],
   "source": [
    "df = pd.DataFrame(availableItems.values(), index=availableItems.keys(), columns=availableItems[1].keys())\n",
    "print(df)"
   ]
  },
  {
   "cell_type": "code",
   "execution_count": 7,
   "metadata": {},
   "outputs": [],
   "source": [
    "# user demand for items\n",
    "userDemand = {'Biscuits': 5, 'Chocolates': 10, 'Coffee': 25, 'Chips': 10, 'Cream': 5}\n",
    "name = 'Singhal'\n",
    "address = 'Kanpur'\n",
    "distance =  15\n",
    "deliveryCharge = 30\n",
    "bill = 0\n"
   ]
  },
  {
   "cell_type": "code",
   "execution_count": 8,
   "metadata": {},
   "outputs": [],
   "source": [
    "# calculating bill\n",
    "for i in userDemand:\n",
    "    if userDemand[i] <= df.loc[df['Item'] == i, 'Quantity'].values[0]:\n",
    "        bill += userDemand[i] * df.loc[df['Item'] == i, 'cost/item'].values[0]\n",
    "    else:\n",
    "        bill += df.loc[df['Item'] == i, 'Quantity'].values[0] * df.loc[df['Item'] == i, 'cost/item'].values[0]\n",
    "        userDemand[i] -= df.loc[df['Item'] == i, 'Quantity'].values[0]"
   ]
  },
  {
   "cell_type": "code",
   "execution_count": 9,
   "metadata": {},
   "outputs": [
    {
     "data": {
      "text/plain": [
       "2477.5"
      ]
     },
     "execution_count": 9,
     "metadata": {},
     "output_type": "execute_result"
    }
   ],
   "source": [
    "totalbill = bill + deliveryCharge\n",
    "print(totalbill)"
   ]
  }
 ],
 "metadata": {
  "interpreter": {
   "hash": "490f1c68ed42f2c5a574e22fb9e03ff49b98516de8582ff1c5d4fb43fb70f61b"
  },
  "kernelspec": {
   "display_name": "Python 3.10.4 64-bit",
   "language": "python",
   "name": "python3"
  },
  "language_info": {
   "codemirror_mode": {
    "name": "ipython",
    "version": 3
   },
   "file_extension": ".py",
   "mimetype": "text/x-python",
   "name": "python",
   "nbconvert_exporter": "python",
   "pygments_lexer": "ipython3",
   "version": "3.10.4"
  },
  "orig_nbformat": 4
 },
 "nbformat": 4,
 "nbformat_minor": 2
}
