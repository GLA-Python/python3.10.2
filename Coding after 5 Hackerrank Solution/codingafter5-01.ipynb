{
 "cells": [
  {
   "cell_type": "markdown",
   "metadata": {},
   "source": [
    "Boolean Expressionlocked\n",
    "Problem\n",
    "Write a program for given three integers a, b, and x, display a if x is 1 and b if x is 0, using only mathematical or bitwise operations. Assume x can only be 1 or 0.\n",
    "\n",
    "Note: flow control statements not allowed (if-else and loops not allowed)\n",
    "\n",
    "Input Format\n",
    "\n",
    "three integers in separate lines\n",
    "\n",
    "1. first integer value of a\n",
    "2. second integer value of b\n",
    "3. third integer value of x"
   ]
  },
  {
   "cell_type": "code",
   "execution_count": null,
   "metadata": {},
   "outputs": [],
   "source": [
    "x = int(input())\n",
    "y = int(input())\n",
    "c = int(input())\n",
    "print(c*x + (1-c)*y)"
   ]
  },
  {
   "cell_type": "markdown",
   "metadata": {},
   "source": [
    "Fill the Waterlocked\n",
    "Problem\n",
    "Submissions\n",
    "Leaderboard\n",
    "Discussions\n",
    "Given a Water Tank (cylindrical shape) with Height=10m, radius=5m. Consider a water pump having a flow rate of 15m3/min now your task is to write a Python program where the user can enter the time (in miniutes) for the pump to be ON and find the status of the tank that can be underflow, overflow, or full with the water at given time for the pump to be on. Also, display the filled height and remaining height of the tank if tank status is an underflow.Display the volume of overflow water in an Overflow condition.\n",
    "\n",
    "value of pi = 3.14\n",
    "\n",
    "Input Format\n",
    "\n",
    "Intger Value (Running Water Pump time)"
   ]
  },
  {
   "cell_type": "code",
   "execution_count": null,
   "metadata": {},
   "outputs": [],
   "source": [
    "f = 15\n",
    "h = 10\n",
    "r = 5\n",
    "t = int(input())\n",
    "pi = 3.14\n",
    "Vtank = pi * r ** 2 * h\n",
    "Vwtr = f * t\n",
    "\n",
    "if Vwtr > Vtank:\n",
    "    print('Overflow')\n",
    "    print(f'{round(Vwtr-Vtank, 2)}')\n",
    "elif Vwtr < Vtank:\n",
    "    print('Underflow ')\n",
    "    ft = round(Vwtr / (pi * r** 2), 2)\n",
    "    fr = round(h - ft, 2)\n",
    "    print(f'{ft}')\n",
    "    print(f'{fr}')\n",
    "else:\n",
    "    print('The water tank is full, turn off the pump. Thank you')"
   ]
  },
  {
   "cell_type": "markdown",
   "metadata": {},
   "source": [
    "loose Numberlocked\n",
    "Problem\n",
    "Submissions\n",
    "Leaderboard\n",
    "Discussions\n",
    "Write a program for given an integer n, perform the following conditional actions:\n",
    "\n",
    "\n",
    "If n is odd, print Weird\n",
    "If n is even and in the inclusive range of 2 to 5, print Not Weird\n",
    "If n is even and in the inclusive range of 6 to 20, print Weird\n",
    "If n is even and greater than 20, print Not Weird\n",
    "Input Format\n",
    "\n",
    "A single line containing a positive integer n"
   ]
  },
  {
   "cell_type": "code",
   "execution_count": null,
   "metadata": {},
   "outputs": [],
   "source": [
    "num = int(input())\n",
    "if num % 2:\n",
    "    print('Weird')\n",
    "else:\n",
    "    if 2 <= num <= 5:\n",
    "        print(\"Not Weird\")\n",
    "    elif 6 <= num <= 20:\n",
    "        print(\"Weird\")\n",
    "    elif num > 20:\n",
    "        print(\"Not Weird\")"
   ]
  }
 ],
 "metadata": {
  "interpreter": {
   "hash": "57baa5815c940fdaff4d14510622de9616cae602444507ba5d0b6727c008cbd6"
  },
  "kernelspec": {
   "display_name": "Python 3.7.2 64-bit",
   "language": "python",
   "name": "python3"
  },
  "language_info": {
   "name": "python",
   "version": "3.7.1"
  },
  "orig_nbformat": 4
 },
 "nbformat": 4,
 "nbformat_minor": 2
}
