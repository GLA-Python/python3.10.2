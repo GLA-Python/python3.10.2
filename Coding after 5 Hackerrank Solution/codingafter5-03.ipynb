{
 "cells": [
  {
   "cell_type": "code",
   "execution_count": 1,
   "metadata": {},
   "outputs": [
    {
     "name": "stdout",
     "output_type": "stream",
     "text": [
      "2\n"
     ]
    }
   ],
   "source": [
    "pos = int(input())\n",
    "count = 0\n",
    "while pos > 0:\n",
    "    count += 1\n",
    "    if count % 3 and count % 10 != 3:\n",
    "        pos -=  1\n",
    "print(count)"
   ]
  },
  {
   "cell_type": "markdown",
   "metadata": {},
   "source": [
    "Given five positive integers, find the minimum and maximum values that can be calculated by summing exactly four of the five integers. Then print the respective minimum and maximum values as a single line of two space-separated long integers.\n",
    "\n",
    "Example\n",
    "\n",
    "The minimum sum is  and the maximum sum is . The function prints\n",
    "\n",
    "16 24\n",
    "Function Description\n",
    "\n",
    "Complete the miniMaxSum function in the editor below.\n",
    "\n",
    "miniMaxSum has the following parameter(s):\n",
    "\n",
    "arr: an array of  integers"
   ]
  },
  {
   "cell_type": "code",
   "execution_count": null,
   "metadata": {},
   "outputs": [],
   "source": [
    "\n",
    "def miniMaxSum(arr):\n",
    "    # Write your code here\n",
    "    arr.sort()\n",
    "    print(sum(arr[:4]), end=' ')\n",
    "    print(sum(arr[1:]))\n",
    "\n",
    "if __name__ == '__main__':\n",
    "\n",
    "    arr = list(map(int, input().rstrip().split()))\n",
    "\n",
    "    miniMaxSum(arr)"
   ]
  },
  {
   "cell_type": "markdown",
   "metadata": {},
   "source": [
    "Tell Me Again!\n",
    "Problem\n",
    "Submissions\n",
    "Leaderboard\n",
    "Discussions\n",
    "The \"Tell Me Again\" is a numbers pattern sequence is implemented as follows: beginning with the term number 1, and next each subsequent term visually describes the digits appearing in the previous term. \n",
    "The first few terms are as follows:"
   ]
  },
  {
   "cell_type": "code",
   "execution_count": 14,
   "metadata": {},
   "outputs": [
    {
     "name": "stdout",
     "output_type": "stream",
     "text": [
      "1\n",
      "1 1\n",
      "2 1\n",
      "1 2 1 1\n",
      "1 1 1 2 2 1\n"
     ]
    }
   ],
   "source": [
    "rows = 4\n",
    "btw = [[1]]\n",
    "# print(*btw[-1])\n",
    "while rows: \n",
    "    next_lst = []\n",
    "    ele = btw[-1]\n",
    "    # item = ele[0]\n",
    "    i = 0\n",
    "    ln = len(ele)\n",
    "    t = 4\n",
    "    while i < ln:\n",
    "        count = 0\n",
    "        item = ele[i]\n",
    "        while i < ln and item == ele[i]:\n",
    "            count += 1\n",
    "            i += 1\n",
    "        next_lst.extend((count, item))\n",
    "    # print(*next_lst)\n",
    "    btw.append(next_lst)\n",
    "    rows -= 1\n",
    "\n",
    "for i in btw:\n",
    "    print(*i)  \n"
   ]
  }
 ],
 "metadata": {
  "interpreter": {
   "hash": "f5ebe8b5f89e594da2b164f45250d907e894c2b2bd96676d17ecb664326f1bc2"
  },
  "kernelspec": {
   "display_name": "Python 3.7.1 ('base')",
   "language": "python",
   "name": "python3"
  },
  "language_info": {
   "codemirror_mode": {
    "name": "ipython",
    "version": 3
   },
   "file_extension": ".py",
   "mimetype": "text/x-python",
   "name": "python",
   "nbconvert_exporter": "python",
   "pygments_lexer": "ipython3",
   "version": "3.7.1"
  },
  "orig_nbformat": 4
 },
 "nbformat": 4,
 "nbformat_minor": 2
}
