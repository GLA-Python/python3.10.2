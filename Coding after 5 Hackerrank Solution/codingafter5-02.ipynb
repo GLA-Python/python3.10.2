{
 "cells": [
  {
   "cell_type": "markdown",
   "metadata": {},
   "source": [
    "Level Zero Up Downlocked\n",
    "Problem\n",
    "Submissions\n",
    "Leaderboard\n",
    "Discussions\n",
    "Given an space separated sequence of integers, calculate the ratios of its elements that are positive, negative, and zero.\n",
    "\n",
    "Display the decimal value of each fraction on a new line with 6 places after the decimal.\n",
    "\n",
    "Note: This challenge introduces precision problems. The test cases are scaled to six decimal places, though answers with absolute error of up to 10^-4 are acceptable.\n",
    "Example arr = [1, 1, 0, -1, -1]\n",
    "\n",
    "There are n=5 elements, two positive, two negative and one zero. \n",
    "Their ratios are 2/5, 2/5 and 1/5. Results are printed as:\n",
    "0.400000\n",
    "0.400000\n",
    "0.200000\n",
    "So, Write a program to print the ratios of positive, negative and zero values in the array. Each value should be printed on a separate line with 6 digits after the decimal.\n",
    "\n",
    "Input Format\n",
    "\n",
    "The first line contains an integer, n, the size of the array.\n",
    "\n",
    "The second line contains n space-separated integers that describe arr[n]."
   ]
  },
  {
   "cell_type": "code",
   "execution_count": null,
   "metadata": {},
   "outputs": [],
   "source": [
    "num = int(input())\n",
    "neg = 0\n",
    "pos = 0\n",
    "zero = 0\n",
    "lst = map(int, input().split())\n",
    "for i in lst:\n",
    "    if i == 0:\n",
    "        zero += 1\n",
    "    elif i > 0:\n",
    "        pos += 1\n",
    "    else:\n",
    "        neg += 1\n",
    "print(f'{pos/num:.6f}')\n",
    "print(f'{neg/num:.6f}')\n",
    "print(f'{zero/num:.6f}')"
   ]
  },
  {
   "cell_type": "markdown",
   "metadata": {},
   "source": [
    "Binary Burj Khalifalocked\n",
    "Problem\n",
    "Submissions\n",
    "Leaderboard\n",
    "Discussions\n",
    "Write the program to create building structure like the burj khaleefa with equivalent binary numbers\n",
    "\n",
    "Input Format\n",
    "\n",
    "input for the height(number of lines)\n",
    "\n",
    "Constraints\n",
    "\n",
    "0>=height and height<=500\n",
    "\n",
    "Output Format\n",
    "\n",
    "pattern with binary number"
   ]
  },
  {
   "cell_type": "code",
   "execution_count": null,
   "metadata": {},
   "outputs": [],
   "source": [
    "num = int(input())\n",
    "ln = len(bin(num)) - 2\n",
    "for i in range(num+1):\n",
    " \n",
    "    print(f'%{ln}s'%bin(i)[2:])"
   ]
  },
  {
   "cell_type": "markdown",
   "metadata": {},
   "source": [
    "detest of threeslocked\n",
    "Problem\n",
    "Submissions\n",
    "Leaderboard\n",
    "Discussions\n",
    "HP:(Hewlett-Packard) is a leading American multinational computer system manufacturer in the world.\n",
    "\n",
    "The company Hewlett-Packard doesn't like integers that are divisible by 3 or end with the digit 3 in their decimal representation. Integers that meet both conditions are disliked by Hewlett-Packard, too.\n",
    "\n",
    "Hewlett-Packard starts to write out the positive (greater than 0) integers which he likes: 1,2,4,5,7,8,10,11,14,16,….\n",
    "\n",
    "Write a program to print the output k-th element of this sequence (the elements are numbered from 1), where user will just enter the position only.\n",
    "\n",
    "Input Format\n",
    "\n",
    "The first line contains one integer value of k(1<=k<=1000)"
   ]
  },
  {
   "cell_type": "code",
   "execution_count": 1,
   "metadata": {},
   "outputs": [],
   "source": [
    "pos = int(input())\n",
    "lst = [i for i in range(1, 100000) if '3' not in str(i) and i % 3]\n",
    "print(lst[pos-1])"
   ]
  },
  {
   "cell_type": "code",
   "execution_count": null,
   "metadata": {},
   "outputs": [],
   "source": []
  }
 ],
 "metadata": {
  "interpreter": {
   "hash": "f5ebe8b5f89e594da2b164f45250d907e894c2b2bd96676d17ecb664326f1bc2"
  },
  "kernelspec": {
   "display_name": "Python 3.7.1 ('base')",
   "language": "python",
   "name": "python3"
  },
  "language_info": {
   "codemirror_mode": {
    "name": "ipython",
    "version": 3
   },
   "file_extension": ".py",
   "mimetype": "text/x-python",
   "name": "python",
   "nbconvert_exporter": "python",
   "pygments_lexer": "ipython3",
   "version": "3.7.1"
  },
  "orig_nbformat": 4
 },
 "nbformat": 4,
 "nbformat_minor": 2
}
