{
 "cells": [
  {
   "cell_type": "code",
   "execution_count": null,
   "metadata": {},
   "outputs": [],
   "source": [
    "def sum_value(a, b):\n",
    "    def ascii(x):\n",
    "        return ord(x)\n",
    "    return ascii(a) + ascii(b)    "
   ]
  },
  {
   "cell_type": "code",
   "execution_count": null,
   "metadata": {},
   "outputs": [],
   "source": [
    "out = sum_value('a', 'b')\n",
    "print(out)"
   ]
  },
  {
   "cell_type": "code",
   "execution_count": null,
   "metadata": {},
   "outputs": [],
   "source": [
    "showInfo(\"Rahul\", \"BCA\")"
   ]
  },
  {
   "cell_type": "code",
   "execution_count": 2,
   "metadata": {},
   "outputs": [
    {
     "name": "stdout",
     "output_type": "stream",
     "text": [
      "Element that appears once in array 4\n"
     ]
    }
   ],
   "source": [
    "# Find the element that appears once in an array where every other element appears twice with O(n)\n",
    "\n",
    "def apears_once(lst: list, n: int)->int:\n",
    "    res = lst[0]\n",
    "    for i in range(1, n):\n",
    "        res ^= lst[i]\n",
    "    return res \n",
    "\n",
    "ls = [2, 3, 4, 2, 3]\n",
    "out = apears_once(ls, len(ls))\n",
    "print(f'Element that appears once in array {out}')    \n"
   ]
  }
 ],
 "metadata": {
  "interpreter": {
   "hash": "490f1c68ed42f2c5a574e22fb9e03ff49b98516de8582ff1c5d4fb43fb70f61b"
  },
  "kernelspec": {
   "display_name": "Python 3.10.4 64-bit",
   "language": "python",
   "name": "python3"
  },
  "language_info": {
   "codemirror_mode": {
    "name": "ipython",
    "version": 3
   },
   "file_extension": ".py",
   "mimetype": "text/x-python",
   "name": "python",
   "nbconvert_exporter": "python",
   "pygments_lexer": "ipython3",
   "version": "3.10.4"
  },
  "orig_nbformat": 4
 },
 "nbformat": 4,
 "nbformat_minor": 2
}
