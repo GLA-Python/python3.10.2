{
 "cells": [
  {
   "cell_type": "code",
   "execution_count": 23,
   "metadata": {},
   "outputs": [
    {
     "name": "stdout",
     "output_type": "stream",
     "text": [
      "*          *\n",
      "**        **\n",
      "***      ***\n",
      "****    ****\n",
      "*****  *****\n",
      "************\n",
      "************\n",
      "*****  *****\n",
      "****    ****\n",
      "***      ***\n",
      "**        **\n",
      "*          *\n"
     ]
    }
   ],
   "source": [
    "'''\n",
    "*      *\n",
    "**    **\n",
    "***  ***\n",
    "********\n",
    "********\n",
    "***  ***\n",
    "**    **\n",
    "*      * \n",
    "'''\n",
    "rows = 6\n",
    "for i in range(1, rows+1):\n",
    "    for j in range(i):\n",
    "        print('*', end='')\n",
    "    for j in range(rows-i):\n",
    "        print(' ', end='')\n",
    "    for j in range(rows-i):\n",
    "        print(' ', end='')\n",
    "    for j in range(i):\n",
    "        print('*', end='')\n",
    "    print()\n",
    "for i in range(1, rows+1):\n",
    "    for j in range(rows-i+1):\n",
    "        print('*', end='')\n",
    "    for j in range(i-1):\n",
    "        print(' ',end='')\n",
    "    for j in range(i-1):\n",
    "        print(' ',end='')\n",
    "    for j in range(rows-i+1):\n",
    "        print('*', end='')\n",
    "    print()"
   ]
  },
  {
   "cell_type": "code",
   "execution_count": 15,
   "metadata": {},
   "outputs": [
    {
     "name": "stdout",
     "output_type": "stream",
     "text": [
      "     *     *     *\n",
      "    **    **    **\n",
      "   ***   ***   ***\n",
      "  ****  ****  ****\n",
      " ***** ***** *****\n",
      "******************\n"
     ]
    }
   ],
   "source": [
    "'''\n",
    "    *     *\n",
    "   **    **\n",
    "  ***   ***\n",
    " ****  ****\n",
    "***********\n",
    "'''\n",
    "rows = 6\n",
    "\n",
    "for i in range(1, rows+1):\n",
    "    for j in range(rows-i):\n",
    "        print(' ', end='')\n",
    "    for j in range(i):\n",
    "        print('*', end='') \n",
    "    for j in range(rows-i):\n",
    "        print(' ', end='')\n",
    "    for j in range(i):\n",
    "        print('*', end='') \n",
    "    for j in range(rows-i):\n",
    "        print(' ', end='')\n",
    "    for j in range(i):\n",
    "        print('*', end='') \n",
    "       \n",
    "      \n",
    "    print()"
   ]
  },
  {
   "cell_type": "code",
   "execution_count": 14,
   "metadata": {},
   "outputs": [
    {
     "name": "stdout",
     "output_type": "stream",
     "text": [
      "A\n",
      "B C\n",
      "D E F\n",
      "G H I J\n",
      "K L M N O\n",
      "P Q R S T U\n"
     ]
    }
   ],
   "source": [
    "'''\n",
    "*\n",
    "**\n",
    "***\n",
    "****\n",
    "*****\n",
    "\n",
    "*****\n",
    "****\n",
    "***\n",
    "**\n",
    "*\n",
    "\n",
    "'''"
   ]
  },
  {
   "cell_type": "code",
   "execution_count": 47,
   "metadata": {},
   "outputs": [
    {
     "name": "stdout",
     "output_type": "stream",
     "text": [
      "      *\n",
      "     ***\n",
      "    *****\n",
      "   *******\n",
      "  *********\n"
     ]
    }
   ],
   "source": [
    "'''\n",
    "    *\n",
    "   **\n",
    "  ***\n",
    " ****\n",
    "*****\n",
    "'''\n",
    "rows = 5\n",
    "from time import sleep\n",
    "for i in range(0, rows):\n",
    "    for _ in range(rows-i+1):\n",
    "        print(' ', end='') \n",
    "    for _ in range(2*i+1):\n",
    "        print('*', end='')\n",
    "    print()\n"
   ]
  },
  {
   "cell_type": "code",
   "execution_count": 45,
   "metadata": {},
   "outputs": [
    {
     "name": "stdout",
     "output_type": "stream",
     "text": [
      "1\n",
      "23\n",
      "456\n",
      "7891\n",
      "23456\n"
     ]
    }
   ],
   "source": [
    "'''\n",
    "1\n",
    "23\n",
    "456\n",
    "'''\n",
    "rows = 5\n",
    "k = 1\n",
    "for i in range(1, rows+1):\n",
    "    for j in range(i):\n",
    "        print(k, end='')\n",
    "        k += 1 \n",
    "        if k >= 10:\n",
    "            k = 1 \n",
    "    print()\n",
    "       "
   ]
  },
  {
   "cell_type": "code",
   "execution_count": 41,
   "metadata": {},
   "outputs": [
    {
     "name": "stdout",
     "output_type": "stream",
     "text": [
      "[(2, 1), (3, 8), (5, 9)]\n"
     ]
    }
   ],
   "source": [
    "ls1 = [2, 3, 5]\n",
    "ls2 = [1, 8, 9]\n",
    "k = list(zip(ls1, ls2))\n",
    "print(k)"
   ]
  },
  {
   "cell_type": "code",
   "execution_count": 32,
   "metadata": {},
   "outputs": [
    {
     "name": "stdout",
     "output_type": "stream",
     "text": [
      "Hi\n",
      "out None\n"
     ]
    }
   ],
   "source": [
    "a = 1000\n",
    "b = 344\n",
    "out = 100 or 200 if a > b and a > 10 else print('Hello') \n",
    "print('out', out)\n",
    "        "
   ]
  },
  {
   "cell_type": "code",
   "execution_count": 41,
   "metadata": {},
   "outputs": [
    {
     "name": "stdout",
     "output_type": "stream",
     "text": [
      "[(10, 5), (5, 4), (3, 6), (2, 7)]\n"
     ]
    }
   ],
   "source": [
    "ls1 = [10, 5, 3, 2, 334, 43]\n",
    "ls2 = [5, 4, 6, 7]\n",
    "ln = len(ls1) if len(ls1) < len(ls2) else len(ls2)\n",
    "ls = []\n",
    "for i in range(ln):\n",
    "    ls.append((ls1[i], ls2[i]))\n",
    "print(out)"
   ]
  },
  {
   "cell_type": "code",
   "execution_count": 15,
   "metadata": {},
   "outputs": [
    {
     "name": "stdout",
     "output_type": "stream",
     "text": [
      "a h\n",
      "b i\n",
      "c ['i', 'i']\n"
     ]
    }
   ],
   "source": [
    "a, b, *c = 'hiii'\n",
    "print('a', a)\n",
    "print('b', b)\n",
    "print('c', c)"
   ]
  }
 ],
 "metadata": {
  "interpreter": {
   "hash": "ac63e7d2902d829a95718f514f583b39cb52f10e7c5524becb094a341f2ea3ca"
  },
  "kernelspec": {
   "display_name": "Python 3.10.4 64-bit (windows store)",
   "language": "python",
   "name": "python3"
  },
  "language_info": {
   "codemirror_mode": {
    "name": "ipython",
    "version": 3
   },
   "file_extension": ".py",
   "mimetype": "text/x-python",
   "name": "python",
   "nbconvert_exporter": "python",
   "pygments_lexer": "ipython3",
   "version": "3.10.4"
  },
  "orig_nbformat": 4
 },
 "nbformat": 4,
 "nbformat_minor": 2
}
