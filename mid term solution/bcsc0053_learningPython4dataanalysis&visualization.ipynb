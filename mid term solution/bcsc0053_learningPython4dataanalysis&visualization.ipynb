{
 "cells": [
  {
   "cell_type": "code",
   "execution_count": null,
   "metadata": {},
   "outputs": [],
   "source": []
  },
  {
   "cell_type": "markdown",
   "metadata": {},
   "source": [
    "Is it possible to find the length of a dictionary in Python3? What’s the\n",
    "difference between list.pop () and dict.pop()? Explain both in detail with\n",
    "suitable examples."
   ]
  },
  {
   "cell_type": "code",
   "execution_count": 6,
   "metadata": {},
   "outputs": [
    {
     "name": "stdout",
     "output_type": "stream",
     "text": [
      "Operation in list GLA\n",
      "Operation in dictionary Zoya\n"
     ]
    }
   ],
   "source": [
    "'''\n",
    "Yes, It is possible to find the length of the dictionary object (numbers of keys) using built-in function len(). \n",
    "'''\n",
    "lst = ['Zoya', 31, 'C', 'GLA']\n",
    "dct = {'name': 'Zoya', 'rolln': 31, 'section': 'C', 'college': 'GLA'}\n",
    "out1 = lst.pop() # no arguments means that last item of the list if available \n",
    "out2 = dct.pop('name', 'no key found')  # at least 1 arguments: remove the key and return value if key is found  \n",
    "print('Operation in list', out1)\n",
    "print('Operation in dictionary', out2)\n"
   ]
  },
  {
   "cell_type": "markdown",
   "metadata": {},
   "source": [
    "A chocolate distributor unit has installed two new automatic arms for the\n",
    "unloading the chocolate bars from containers. Arm A has the capacity to\n",
    "unload one chocolate bar whilst the other arm B unload two bars at a time. In\n",
    "order for any two containers to be unloaded fully and simultaneously by both\n",
    "arms, the distributors has to choose the correct chocolate bars quantity\n",
    "(quantity “X” for container unloaded by arm A and quantity “Y” container\n",
    "unloaded by arm B) in those containers from supplier.\n",
    "The task to develop a code to identify a pair of container quantities (maximum\n",
    "quantity 5000) such that both arms unload all chocolate bars from those\n",
    "containers fully and complete their unloading simultaneously so the\n",
    "following containers can be placed for unloading automatically . The\n",
    "correct pair identified can be marked as ‘Yes’ and for incorrect pairs as ‘No’.\n",
    "Example 1:\n",
    "Input:\n",
    "100---Value of X\n",
    "200--- Value of Y\n",
    "Output:\n",
    "Yes—Print Yes indicating 100 and 200 chocolate bars can be fully emptied\n",
    "simultaneously\n",
    "\n",
    "1 CO3 A\n",
    "N\n",
    "S\n",
    "\n",
    "Explanation: Arm A unloads 100s bars in 100 times Arm B also unloads 200\n",
    "bars in 100 times ; hence both the containers are emptied at the same time and\n",
    "the next pair of containers can be automatically placed for unloading . Hence,\n",
    "the output is a ‘Yes’."
   ]
  },
  {
   "cell_type": "code",
   "execution_count": 7,
   "metadata": {},
   "outputs": [
    {
     "name": "stdout",
     "output_type": "stream",
     "text": [
      "Yes\n"
     ]
    }
   ],
   "source": [
    "X = eval(input('Value of X: '))\n",
    "Y = eval(input('Value of Y: '))\n",
    "print('Yes' if 2 * X == Y else 'No')"
   ]
  },
  {
   "cell_type": "markdown",
   "metadata": {},
   "source": [
    "What are the Python modules? Explain Python standard module math and its\n",
    "uses with suitable examples. What is the difference between function round()\n",
    "and function floor()? Explain both with suitable examples."
   ]
  },
  {
   "cell_type": "code",
   "execution_count": 10,
   "metadata": {},
   "outputs": [
    {
     "name": "stdout",
     "output_type": "stream",
     "text": [
      "real value: 5.54\n",
      "math.floor(): out1 5\n",
      "round(): out2 6\n"
     ]
    }
   ],
   "source": [
    "\"\"\"\n",
    "n Python, Modules are simply files with the “. py” extension containing Python code \n",
    "that can be imported inside another Python Program\n",
    "\"\"\"\n",
    "import math\n",
    "value = 5.54\n",
    "out1 = math.floor(value)  # function in module math\n",
    "out2 = round(value)  # round is built-in function in Python\n",
    "print('real value:', value)\n",
    "print('math.floor(): out1', out1 )\n",
    "print('round(): out2', out2)"
   ]
  },
  {
   "cell_type": "markdown",
   "metadata": {},
   "source": [
    "Write a program to find what value which is needed to be added with a given\n",
    "number (input by user) to make the result as a next upcoming prime number.\n",
    "Input\n",
    "35\n",
    "Output\n",
    "2\n",
    "Explanation: Program take an input from user in form of int number i.e. say 35.\n",
    "Nearest prime number is 37. So, 2 is needed to be added with 35 so that sum is\n",
    "next upcoming prime number which is 37."
   ]
  },
  {
   "cell_type": "code",
   "execution_count": 16,
   "metadata": {},
   "outputs": [
    {
     "name": "stdout",
     "output_type": "stream",
     "text": [
      "next upcoming prime number 5\n",
      "Value needed to be Added 2\n"
     ]
    }
   ],
   "source": [
    "def prime(x: int)->bool:\n",
    "    for i in range(2, x):\n",
    "        if x % i == 0:\n",
    "            return False\n",
    "    return True        \n",
    "\n",
    "num = eval(input('Enter the number ')) + 1\n",
    "count = 1\n",
    "while not prime(num):\n",
    "    num += 1\n",
    "    count += 1\n",
    "else:\n",
    "    print('next upcoming prime number', num)\n",
    "    print('Value needed to be Added', count)    "
   ]
  },
  {
   "cell_type": "markdown",
   "metadata": {},
   "source": [
    "Write a function to flatten a nested dictionary. Namespace the keys with a\n",
    "period.\n",
    "For example, given the following dictionary:\n",
    "{&quot;key&quot;: 3, &quot;foo&quot;: {&quot;a&quot;: 5, &quot;bar&quot;: {&quot;baz&quot;: 8 }}}\n",
    "It should become:\n",
    "{&quot;key&quot;: 3, &quot;foo.a&quot;: 5, &quot;foo.bar.baz&quot;: 8}\n",
    "You can assume keys do not contain dots in them, i.e. no clobbering will\n",
    "Occur"
   ]
  },
  {
   "cell_type": "code",
   "execution_count": 21,
   "metadata": {},
   "outputs": [
    {
     "name": "stdout",
     "output_type": "stream",
     "text": [
      "{'key': 3, 'foo.a': 5, 'foo.bar.baz': 8}\n"
     ]
    }
   ],
   "source": [
    "# dct = eval(input('Enter the nested dictionary'))\n",
    "\n",
    "def flatten_dictionary(dictionary: dict)-> dict:\n",
    "    for key in list(dictionary.keys()):\n",
    "        value = dictionary[key]\n",
    "        if type(value) == dict:\n",
    "            value = flatten_dictionary(value)\n",
    "            del dictionary[key]\n",
    "            for nested_dictionary_key in value:\n",
    "                dictionary[f\"{key}.{nested_dictionary_key}\"] = value[nested_dictionary_key]\n",
    "    return dictionary\n",
    "\n",
    "dct = {\"key\": 3, \"foo\":{\"a\": 5, \"bar\": {\"baz\": 8}}}\n",
    "# print(list(dct.items()))  # [('key', 3), ('foo', {'a': 5, 'bar': {'baz': 8}})]\n",
    "print(flatten_dictionary(dct))"
   ]
  },
  {
   "cell_type": "markdown",
   "metadata": {},
   "source": [
    "Write a function expanding (l) that takes input as a list of integers l and returns True if the absolute difference between each adjacent pair of elements strictly increases.\n",
    "Here are some examples of how your function should work.\n",
    ">>> expanding ([1, 3, 7, 2, 9])\n",
    "True\n",
    "Explanation: Differences between adjacent elements are 3-1 = 2, 7-3 = 4,\n",
    "7-2 = 5 and 9-2 = 7.\n",
    "\n",
    ">>> expanding ([1, 3, 7, 2,-3])\n",
    "False\n",
    "Explanation: Differences between adjacent elements are 3-1 = 2, 7-3 = 4,\n",
    "7-2 = 5, 2-(-3) = 5, so not strictly increasing.\n",
    ">>> expanding ([1, 3, 7, 10])\n",
    "False\n",
    "Explanation: Differences between adjacent elements are 3-1 = 2, 7-3 = 4,\n",
    "10-7 = 3, so not increasing.\n"
   ]
  },
  {
   "cell_type": "code",
   "execution_count": 3,
   "metadata": {},
   "outputs": [
    {
     "name": "stdout",
     "output_type": "stream",
     "text": [
      "list [1, 3, 7, 10]\n",
      "False\n"
     ]
    }
   ],
   "source": [
    "lst = eval(input(\"Enter the eval \"))\n",
    "print('list', lst)\n",
    "diff = abs(lst[1]-lst[0])\n",
    "for i in range(1, len(lst)-1):\n",
    "    diff_next = abs(lst[i+1] - lst[i])\n",
    "    if diff >= diff_next:\n",
    "        print(False)\n",
    "        break\n",
    "    diff = diff_next\n",
    "else:\n",
    "    print(True)    \n",
    "\n"
   ]
  },
  {
   "cell_type": "markdown",
   "metadata": {},
   "source": [
    "Write a function is_sorted(tp), which accepts the argument tp(tuple of the integers) and returns 0 if tuple elements are arranged in ascending order, and returns 1 if elements are arranged in descending order.\n",
    "Return -1 if elements are unsorted.\n",
    "def is_sorted(tp: tuple)-> bool:\n",
    "                  # write logic here\n",
    "t = eval(input())\n",
    "out = is_sorted(t)\n",
    "print(out)\n",
    "sample test cases \n",
    ">>> is_sorted((3, 5, 6, 10))\n",
    "0\n",
    ">>> is_sorted((2, 8, 5, 7))\n",
    "-1\n",
    ">>> is_sorted((9, 3, 1, 0))\n",
    "1\n"
   ]
  },
  {
   "cell_type": "code",
   "execution_count": 6,
   "metadata": {},
   "outputs": [
    {
     "name": "stdout",
     "output_type": "stream",
     "text": [
      "1\n"
     ]
    }
   ],
   "source": [
    "def is_sorted(tp: tuple)-> tuple:\n",
    "    x = tuple(sorted(tp))\n",
    "    return 0 if x == tp else 1 if x[::-1] == tp else -1\n",
    "\n",
    "tp = eval(input('Enter the tuple '))\n",
    "out = is_sorted(tp)\n",
    "print(out)"
   ]
  },
  {
   "cell_type": "markdown",
   "metadata": {},
   "source": [
    "Given a string with some repeated characters, your task is to write a Python script to rearrange the string so that no two adjacent characters are the same.\n",
    "If the given string is successfully rearranged in the correct order (according to the given task), display \"True\" and if this is not possible, display \"False\".\n",
    "\n",
    "For example, given string \"aaabbc\", can be arranged \"ababac\" so output will be \"True\". For the string \"aaab\" output should be \"False\".\n"
   ]
  },
  {
   "cell_type": "code",
   "execution_count": 3,
   "metadata": {},
   "outputs": [
    {
     "name": "stdout",
     "output_type": "stream",
     "text": [
      "False\n"
     ]
    }
   ],
   "source": [
    "st = input('Enter the string ')\n",
    "mxchar = st.count(max(st, key=st.count))\n",
    "rchar = len(st) - mxchar\n",
    "print(mxchar <= rchar*2 if len(st) % 2 else mxchar < (rchar*2-1)) \n",
    "\n"
   ]
  }
 ],
 "metadata": {
  "interpreter": {
   "hash": "8786318122129ba10eb40c9c8a2ede770fe6a9df50dfcd3c6edc33520e4c5279"
  },
  "kernelspec": {
   "display_name": "Python 3.7.2 32-bit",
   "language": "python",
   "name": "python3"
  },
  "language_info": {
   "codemirror_mode": {
    "name": "ipython",
    "version": 3
   },
   "file_extension": ".py",
   "mimetype": "text/x-python",
   "name": "python",
   "nbconvert_exporter": "python",
   "pygments_lexer": "ipython3",
   "version": "3.7.2"
  },
  "orig_nbformat": 4
 },
 "nbformat": 4,
 "nbformat_minor": 2
}
