{
 "cells": [
  {
   "cell_type": "code",
   "execution_count": 1,
   "metadata": {},
   "outputs": [],
   "source": [
    "import numpy as np"
   ]
  },
  {
   "cell_type": "code",
   "execution_count": 2,
   "metadata": {},
   "outputs": [
    {
     "name": "stdout",
     "output_type": "stream",
     "text": [
      "[2, 6, 7] <class 'list'>\n",
      "[2 6 7] <class 'numpy.ndarray'>\n"
     ]
    }
   ],
   "source": [
    "# array(seq, dtype, ndmin):\n",
    "lst = [2, 6, 7]\n",
    "\n",
    "arr = np.array(lst)\n",
    "print(lst, type(lst))\n",
    "print(arr, type(arr))"
   ]
  },
  {
   "cell_type": "code",
   "execution_count": 11,
   "metadata": {},
   "outputs": [
    {
     "name": "stdout",
     "output_type": "stream",
     "text": [
      "[-129, 100, 130] <class 'list'>\n",
      "[ 127  100 -126] <class 'numpy.ndarray'>\n"
     ]
    }
   ],
   "source": [
    "lst = [-129, 100, 130]\n",
    "\n",
    "arr = np.array(lst, dtype='int8')  # convert list into ndarray \n",
    "\n",
    "print(lst, type(lst))\n",
    "print(arr, type(arr))"
   ]
  },
  {
   "cell_type": "code",
   "execution_count": 23,
   "metadata": {},
   "outputs": [
    {
     "name": "stdout",
     "output_type": "stream",
     "text": [
      "10\n",
      "[[[[[[[[[[3 5]]]]]]]]]]\n"
     ]
    }
   ],
   "source": [
    "x = [3, 5]\n",
    "out = np.array(x, ndmin=10)\n",
    "print(out.ndim)\n",
    "print(out)"
   ]
  },
  {
   "cell_type": "code",
   "execution_count": 32,
   "metadata": {},
   "outputs": [
    {
     "name": "stdout",
     "output_type": "stream",
     "text": [
      "[[ 3  5  6  7]\n",
      " [ 4  5  6  3]\n",
      " [43 29  2  2]]\n",
      "(3, 4)\n"
     ]
    }
   ],
   "source": [
    "# reshape()/ shape\n",
    "obj = np.array([3, 5, 6, 7, 4, 5, 6, 3, 43, 29, 2, 2])\n",
    "# arr = obj.reshape(4, 3)\n",
    "obj.shape = 3, 4\n",
    "# print(arr)\n",
    "print(obj)\n",
    "print(obj.shape)"
   ]
  },
  {
   "cell_type": "code",
   "execution_count": 34,
   "metadata": {},
   "outputs": [
    {
     "name": "stdout",
     "output_type": "stream",
     "text": [
      "[4, 6, 8, 24] <class 'list'>\n",
      "[ 4  6  8 24] <class 'numpy.ndarray'>\n"
     ]
    }
   ],
   "source": [
    "# array(seq, dtype, ndmin): \n",
    "lst = [4, 6, 8, 24]\n",
    "\n",
    "out = np.array(lst)  # convert list into ndarray\n",
    "\n",
    "print(lst, type(lst))\n",
    "print(out, type(out))"
   ]
  },
  {
   "cell_type": "code",
   "execution_count": 45,
   "metadata": {},
   "outputs": [
    {
     "name": "stdout",
     "output_type": "stream",
     "text": [
      "[-1, -130, 130] <class 'list'>\n",
      "[255 126 130] <class 'numpy.ndarray'>\n"
     ]
    }
   ],
   "source": [
    "lst = [-1, -130, 130]\n",
    "\n",
    "out = np.array(lst, dtype='uint8')  # convert list into ndarray\n",
    "\n",
    "print(lst, type(lst))\n",
    "print(out, type(out))"
   ]
  },
  {
   "cell_type": "code",
   "execution_count": 55,
   "metadata": {},
   "outputs": [
    {
     "name": "stdout",
     "output_type": "stream",
     "text": [
      "3\n",
      "[[[3 5 7]]]\n"
     ]
    }
   ],
   "source": [
    "lst = [[[3, 5, 7]]]\n",
    "arr = np.array(lst, ndmin=2)\n",
    "\n",
    "print(arr.ndim)\n",
    "print(arr)"
   ]
  },
  {
   "cell_type": "code",
   "execution_count": 63,
   "metadata": {},
   "outputs": [
    {
     "name": "stdout",
     "output_type": "stream",
     "text": [
      "[ 3  4  4  6  7  8  9  0 23  1  2  3]\n",
      "[[ 3  4]\n",
      " [ 4  6]\n",
      " [ 7  8]\n",
      " [ 9  0]\n",
      " [23  1]\n",
      " [ 2  3]]\n"
     ]
    }
   ],
   "source": [
    "# shape/reshape()\n",
    "lst = [3, 4, 4, 6, 7, 8, 9, 0, 23, 1, 2, 3]\n",
    "arr = np.array(lst)\n",
    "\n",
    "# arr.shape = 3, 4\n",
    "\n",
    "out = arr.reshape(6, 2)\n",
    "print(arr)\n",
    "print(out)"
   ]
  },
  {
   "cell_type": "code",
   "execution_count": 69,
   "metadata": {},
   "outputs": [
    {
     "name": "stdout",
     "output_type": "stream",
     "text": [
      "[[1.  1.5]\n",
      " [2.  2.5]\n",
      " [3.  3.5]]\n"
     ]
    }
   ],
   "source": [
    "# arange(start, stop, step)\n",
    "out = np.arange(1, 4, .5).reshape(3, 2)\n",
    "print(out)"
   ]
  },
  {
   "cell_type": "code",
   "execution_count": 74,
   "metadata": {},
   "outputs": [
    {
     "name": "stdout",
     "output_type": "stream",
     "text": [
      "[[ 80  90 100]\n",
      " [184 210 236]\n",
      " [288 330 372]]\n"
     ]
    }
   ],
   "source": [
    "m1 = np.arange(1, 13).reshape(3, 4)\n",
    "m2 = np.arange(2, 14).reshape(4, 3)\n",
    "print(np.matmul(m1, m2))\n"
   ]
  },
  {
   "cell_type": "code",
   "execution_count": 81,
   "metadata": {},
   "outputs": [
    {
     "name": "stdout",
     "output_type": "stream",
     "text": [
      "[5.0000000e-01 1.0000000e+00 1.2246468e-16]\n"
     ]
    }
   ],
   "source": [
    "arr = np.array([30, 90, 180])\n",
    "print(np.sin((arr*np.pi)/180))"
   ]
  },
  {
   "cell_type": "code",
   "execution_count": 82,
   "metadata": {},
   "outputs": [
    {
     "name": "stdout",
     "output_type": "stream",
     "text": [
      "[1.  1.5 2.  2.5 3.  3.5]\n"
     ]
    }
   ],
   "source": [
    "out = np.arange(1, 4, .5)\n",
    "print(out)\n"
   ]
  },
  {
   "cell_type": "code",
   "execution_count": 83,
   "metadata": {},
   "outputs": [
    {
     "name": "stdout",
     "output_type": "stream",
     "text": [
      "[ 5. -2.  4.]\n"
     ]
    }
   ],
   "source": [
    "# around()\n",
    "arr = np.array([4.56, -2.5, 4])\n",
    "out = np.around(arr)\n",
    "print(out)\n"
   ]
  },
  {
   "cell_type": "code",
   "execution_count": 91,
   "metadata": {},
   "outputs": [
    {
     "name": "stdout",
     "output_type": "stream",
     "text": [
      "[0.5        1.         0.54463904]\n"
     ]
    }
   ],
   "source": [
    "# sin()\n",
    "arr = np.array([30, 90, 33])\n",
    "out = np.sin((arr*np.pi)/180)\n",
    "print(out)"
   ]
  },
  {
   "cell_type": "code",
   "execution_count": 99,
   "metadata": {},
   "outputs": [
    {
     "name": "stdout",
     "output_type": "stream",
     "text": [
      "[-3.  3.  5.]\n"
     ]
    }
   ],
   "source": [
    "arr = np.array([-3.5, 3, 4.5])\n",
    "print(np.ceil(arr))"
   ]
  },
  {
   "cell_type": "code",
   "execution_count": null,
   "metadata": {},
   "outputs": [],
   "source": []
  },
  {
   "cell_type": "code",
   "execution_count": 89,
   "metadata": {},
   "outputs": [
    {
     "name": "stdout",
     "output_type": "stream",
     "text": [
      "[13 15 16 75]\n"
     ]
    }
   ],
   "source": [
    "lst = np.array([3, 5, 6, 65])\n",
    "print(lst + 10)"
   ]
  },
  {
   "cell_type": "code",
   "execution_count": 86,
   "metadata": {},
   "outputs": [
    {
     "data": {
      "text/plain": [
       "4.586886"
      ]
     },
     "execution_count": 86,
     "metadata": {},
     "output_type": "execute_result"
    }
   ],
   "source": [
    "round(4.586886, 10)"
   ]
  },
  {
   "cell_type": "code",
   "execution_count": 108,
   "metadata": {},
   "outputs": [
    {
     "name": "stdout",
     "output_type": "stream",
     "text": [
      "[[ 1  2  3  4]\n",
      " [ 5  6  7  8]\n",
      " [ 9 10 11 12]]\n",
      "[[ 2  3  4]\n",
      " [ 5  6  7]\n",
      " [ 8  9 10]\n",
      " [11 12 13]]\n",
      "[[ 80  90 100]\n",
      " [184 210 236]\n",
      " [288 330 372]]\n"
     ]
    }
   ],
   "source": [
    "# addition of two matrix \n",
    "m1 = np.arange(1, 13).reshape(3, 4)\n",
    "print(m1)\n",
    "m2 = np.arange(2, 14).reshape(4, 3)\n",
    "\n",
    "print(m2)\n",
    "# out = np.add(m1, m2)\n",
    "# out = np.dot(m1, m2)\n",
    "out = np.matmul(m1, m2)\n",
    "print(out)"
   ]
  },
  {
   "cell_type": "code",
   "execution_count": 122,
   "metadata": {},
   "outputs": [
    {
     "name": "stdout",
     "output_type": "stream",
     "text": [
      "[[3 5 2 9]\n",
      " [0 2 4 5]\n",
      " [6 4 4 0]]\n",
      "\n",
      "[3.         3.66666667 3.33333333 4.66666667]\n"
     ]
    }
   ],
   "source": [
    "m1 = np.array([3, 5, 2, 9, 0, 2, 4, 5, 6,4, 4, 0]).reshape(3, 4)\n",
    "print(m1)\n",
    "print()\n",
    "out = np.mean(m1, axis=0)\n",
    "print(out)"
   ]
  },
  {
   "cell_type": "code",
   "execution_count": 124,
   "metadata": {},
   "outputs": [
    {
     "name": "stdout",
     "output_type": "stream",
     "text": [
      "[['ピ' 'ピ' 'ピ' 'ピ' 'ピ']\n",
      " ['ピ' 'ピ' 'ピ' 'ピ' 'ピ']\n",
      " ['ピ' 'ピ' 'ピ' 'ピ' 'ピ']\n",
      " ['ピ' 'ピ' 'ピ' 'ピ' 'ピ']\n",
      " ['ピ' 'ピ' 'ピ' 'ピ' 'ピ']]\n"
     ]
    }
   ],
   "source": [
    "va = np.full((5, 5), chr(12520))\n",
    "print(va)"
   ]
  },
  {
   "cell_type": "code",
   "execution_count": 10,
   "metadata": {},
   "outputs": [
    {
     "name": "stdout",
     "output_type": "stream",
     "text": [
      "[ 4. -1.  0.]\n"
     ]
    }
   ],
   "source": [
    "# around()\n",
    "import numpy as np\n",
    "arr = np.array([3.56, -1.4, 0.4])\n",
    "out = np.around(arr)\n",
    "print(out)\n"
   ]
  },
  {
   "cell_type": "code",
   "execution_count": 12,
   "metadata": {},
   "outputs": [
    {
     "name": "stdout",
     "output_type": "stream",
     "text": [
      "[ 2. -4.  0.]\n"
     ]
    }
   ],
   "source": [
    "# ceil()/floor()\n",
    "arr = np.array([2.565, -3.5, .78])\n",
    "out = np.floor(arr)\n",
    "print(out)"
   ]
  },
  {
   "cell_type": "code",
   "execution_count": 23,
   "metadata": {},
   "outputs": [
    {
     "name": "stdout",
     "output_type": "stream",
     "text": [
      "[[ 1  2  3  4]\n",
      " [ 5  6  7  8]\n",
      " [ 9 10 11 12]]\n",
      "\n",
      "[ 45 120 231 384]\n"
     ]
    }
   ],
   "source": [
    "m1 = np.arange(1, 13).reshape(3, 4)\n",
    "print(m1)\n",
    "print()\n",
    "# print(np.max(m1, axis=1))\n",
    "# print(np.sum(m1, axis=1))\n",
    "print(np.prod(m1, axis=0))"
   ]
  },
  {
   "cell_type": "code",
   "execution_count": 39,
   "metadata": {},
   "outputs": [
    {
     "name": "stdout",
     "output_type": "stream",
     "text": [
      "[[1. 1. 1. 1.]\n",
      " [1. 1. 1. 1.]\n",
      " [1. 1. 1. 1.]]\n"
     ]
    }
   ],
   "source": [
    "out = np.empty((3,4))\n",
    "print(out)"
   ]
  },
  {
   "cell_type": "code",
   "execution_count": 5,
   "metadata": {},
   "outputs": [],
   "source": [
    "class a:\n",
    "    pass\n",
    "a.b = 10\n"
   ]
  },
  {
   "cell_type": "code",
   "execution_count": 6,
   "metadata": {},
   "outputs": [
    {
     "data": {
      "text/plain": [
       "10"
      ]
     },
     "execution_count": 6,
     "metadata": {},
     "output_type": "execute_result"
    }
   ],
   "source": [
    "a.b"
   ]
  }
 ],
 "metadata": {
  "interpreter": {
   "hash": "490f1c68ed42f2c5a574e22fb9e03ff49b98516de8582ff1c5d4fb43fb70f61b"
  },
  "kernelspec": {
   "display_name": "Python 3.10.4 64-bit",
   "language": "python",
   "name": "python3"
  },
  "language_info": {
   "codemirror_mode": {
    "name": "ipython",
    "version": 3
   },
   "file_extension": ".py",
   "mimetype": "text/x-python",
   "name": "python",
   "nbconvert_exporter": "python",
   "pygments_lexer": "ipython3",
   "version": "3.10.4"
  },
  "orig_nbformat": 4
 },
 "nbformat": 4,
 "nbformat_minor": 2
}
