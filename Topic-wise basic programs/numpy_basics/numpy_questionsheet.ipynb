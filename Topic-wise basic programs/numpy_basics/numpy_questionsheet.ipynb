{
 "cells": [
  {
   "cell_type": "code",
   "execution_count": 2,
   "metadata": {},
   "outputs": [
    {
     "name": "stdout",
     "output_type": "stream",
     "text": [
      "[23. -3.  4.  4.  3.  2.]\n"
     ]
    }
   ],
   "source": [
    "# task 1\n",
    "import numpy as np\n",
    "lst = list(map(float, input().split()))\n",
    "arr = np.array(lst)\n",
    "print(np.flip(arr))"
   ]
  },
  {
   "cell_type": "code",
   "execution_count": null,
   "metadata": {},
   "outputs": [],
   "source": [
    "# task 2\n",
    "import numpy as np\n",
    "lst = list(map(float, input().split()))\n",
    "arr = np.array(lst).reshape(3, 3)\n",
    "print(arr)"
   ]
  },
  {
   "cell_type": "code",
   "execution_count": 6,
   "metadata": {},
   "outputs": [
    {
     "name": "stdout",
     "output_type": "stream",
     "text": [
      "[[1. 0. 0.]\n",
      " [0. 1. 0.]\n",
      " [0. 0. 1.]]\n"
     ]
    }
   ],
   "source": [
    "# task 3\n",
    "r, c = map(int, input().split())\n",
    "arr = np.eye(r, c)\n",
    "print(arr)"
   ]
  },
  {
   "cell_type": "code",
   "execution_count": 7,
   "metadata": {},
   "outputs": [
    {
     "name": "stdout",
     "output_type": "stream",
     "text": [
      "[[4 6 5 5]\n",
      " [2 3 1 1]]\n",
      "[[ 2  2 -1 -3]\n",
      " [ 2  3  1  1]]\n",
      "[[3 8 6 4]\n",
      " [0 0 0 0]]\n",
      "[[3 2 0 0]\n",
      " [0 0 0 0]]\n",
      "[[0 0 2 1]\n",
      " [0 0 0 0]]\n",
      "[[ 3 16  8  1]\n",
      " [ 1  1  1  1]]\n"
     ]
    },
    {
     "name": "stderr",
     "output_type": "stream",
     "text": [
      "C:\\Users\\drami\\AppData\\Local\\Temp\\ipykernel_17528\\2181836432.py:18: RuntimeWarning: divide by zero encountered in floor_divide\n",
      "  print(np.floor_divide(M1, M2))\n",
      "C:\\Users\\drami\\AppData\\Local\\Temp\\ipykernel_17528\\2181836432.py:19: RuntimeWarning: divide by zero encountered in remainder\n",
      "  print(np.mod(M1, M2))\n"
     ]
    }
   ],
   "source": [
    "# task 4\n",
    "r, c = map(int, input().split())\n",
    "ls1 = []\n",
    "ls2 = []\n",
    "for i in range(r):\n",
    "    ele = list(map(int, input().split()))\n",
    "    ls1.append(ele)\n",
    "for i in range(r):\n",
    "    ele = list(map(int, input().split()))\n",
    "    ls2.append(ele)\n",
    "\n",
    "M1 = np.array(ls1)\n",
    "M2 = np.array(ls2)\n",
    "\n",
    "print(np.add(M1, M2))\n",
    "print(np.subtract(M1, M2))\n",
    "print(np.multiply(M1, M2))\n",
    "print(np.floor_divide(M1, M2))\n",
    "print(np.mod(M1, M2))\n",
    "print(np.power(M1, M2))\n",
    "\n"
   ]
  },
  {
   "cell_type": "code",
   "execution_count": 8,
   "metadata": {},
   "outputs": [
    {
     "name": "stdout",
     "output_type": "stream",
     "text": [
      "[[2 9]\n",
      " [3 0]\n",
      " [1 1]]\n",
      "[2 3 1 9 0 1]\n"
     ]
    }
   ],
   "source": [
    "# task 5\n",
    "r, c = map(int, input().split())\n",
    "ls1 = []\n",
    "for i in range(r):\n",
    "    ele = list(map(int, input().split()))\n",
    "    ls1.append(ele)\n",
    "M = np.array(ls1)\n",
    "print(M.T)\n",
    "print(M.flatten())    "
   ]
  },
  {
   "cell_type": "code",
   "execution_count": null,
   "metadata": {},
   "outputs": [],
   "source": [
    "ls1 = list(map(int, input().split()))\n",
    "print(np.reshape(ls1, (3, 3)))\n"
   ]
  }
 ],
 "metadata": {
  "interpreter": {
   "hash": "490f1c68ed42f2c5a574e22fb9e03ff49b98516de8582ff1c5d4fb43fb70f61b"
  },
  "kernelspec": {
   "display_name": "Python 3.10.4 64-bit",
   "language": "python",
   "name": "python3"
  },
  "language_info": {
   "codemirror_mode": {
    "name": "ipython",
    "version": 3
   },
   "file_extension": ".py",
   "mimetype": "text/x-python",
   "name": "python",
   "nbconvert_exporter": "python",
   "pygments_lexer": "ipython3",
   "version": "3.10.4"
  },
  "orig_nbformat": 4
 },
 "nbformat": 4,
 "nbformat_minor": 2
}
