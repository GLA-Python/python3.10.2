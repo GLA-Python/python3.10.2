{
 "cells": [
  {
   "cell_type": "code",
   "execution_count": 6,
   "metadata": {},
   "outputs": [],
   "source": [
    "import numpy as np"
   ]
  },
  {
   "cell_type": "code",
   "execution_count": 7,
   "metadata": {},
   "outputs": [],
   "source": [
    "\n",
    "arr1 = np.arange(1, 13).reshape(3, 4)\n",
    "arr2 = np.arange(1, 13).reshape(4, 3)\n"
   ]
  },
  {
   "cell_type": "code",
   "execution_count": 11,
   "metadata": {},
   "outputs": [
    {
     "data": {
      "text/plain": [
       "array([[ 70,  80,  90],\n",
       "       [158, 184, 210],\n",
       "       [246, 288, 330]])"
      ]
     },
     "execution_count": 11,
     "metadata": {},
     "output_type": "execute_result"
    }
   ],
   "source": [
    "np.matmul(arr1, arr2)"
   ]
  },
  {
   "cell_type": "code",
   "execution_count": 23,
   "metadata": {},
   "outputs": [
    {
     "name": "stdout",
     "output_type": "stream",
     "text": [
      "[[3, 4], [5, 7], [2, 0]]\n",
      "[[2, 1], [0, 3], [1, 1]]\n",
      "5 5\n",
      "5 10\n",
      "3 1\n"
     ]
    }
   ],
   "source": [
    "# matrix 3 x 2 ==> r=3, c=2 \n",
    "lst1 = [[3, 4], \n",
    "        [5, 7], \n",
    "        [2, 0]]\n",
    "lst2 = [[2, 1], \n",
    "        [0, 3], \n",
    "        [1, 1]]\n",
    "print(lst1)\n",
    "print(lst2)        \n",
    "r1 = len(lst1)\n",
    "c1 = len(lst1[0])\n",
    "r2 = len(lst2)\n",
    "c2 = len(lst2[0])\n",
    "if r1 == r2 and c1 == c2:\n",
    "    out = [[0] * c1 for i in range(r1)] \n",
    "    for i in range(r1):\n",
    "        for j in range(c1):\n",
    "            out[i][j] = lst1[i][j] + lst2[i][j]\n",
    "    for ele in out:\n",
    "        print(*ele)        \n",
    "else:\n",
    "    print('Dimension not valid')"
   ]
  },
  {
   "cell_type": "code",
   "execution_count": 30,
   "metadata": {},
   "outputs": [
    {
     "name": "stdout",
     "output_type": "stream",
     "text": [
      "[[11 20]\n",
      " [14 13]]\n"
     ]
    }
   ],
   "source": [
    "import numpy as np\n",
    "lst1 = [[3, 4], [5, 7], [2, 0]]  # 3 X 2\n",
    "lst2 = [[2, 1], [0, 3], [1, 1]]  # 3 X 2\n",
    "mat1 = np.array(lst1)\n",
    "mat2 = np.array(lst2)\n",
    "mat1.shape = 2, 3\n",
    "out = np.matmul(mat1, mat2)\n",
    "print(out)\n"
   ]
  },
  {
   "cell_type": "code",
   "execution_count": 46,
   "metadata": {},
   "outputs": [
    {
     "name": "stdout",
     "output_type": "stream",
     "text": [
      "[[ 8  4]\n",
      " [13  7]\n",
      " [ 2  0]]\n"
     ]
    }
   ],
   "source": [
    "import numpy as np\n",
    "lst1 = [[2, 4], [3, 7], [1, 0]]\n",
    "lst2 = [[2, 0], [1, 1]]\n",
    "arr1 = np.array(lst1)\n",
    "arr2 = np.array(lst2)\n",
    "\n",
    "out = np.dot(arr1, arr2)\n",
    "print(out)\n",
    "\n",
    "\n"
   ]
  },
  {
   "cell_type": "code",
   "execution_count": null,
   "metadata": {},
   "outputs": [],
   "source": [
    "a, b = 'hi'\n",
    "ls = [[3, 4], [5, 4, 56]]\n",
    "for a, b, *c in ls:\n",
    "    print(a)"
   ]
  },
  {
   "cell_type": "code",
   "execution_count": 38,
   "metadata": {},
   "outputs": [
    {
     "name": "stdout",
     "output_type": "stream",
     "text": [
      "[[0, 0, 0, 0, 0], [0, 0, 0, 0, 0]]\n"
     ]
    }
   ],
   "source": []
  },
  {
   "cell_type": "code",
   "execution_count": 34,
   "metadata": {},
   "outputs": [
    {
     "name": "stdout",
     "output_type": "stream",
     "text": [
      "[4, 6, 7]\n"
     ]
    }
   ],
   "source": [
    "ls = [4, \n",
    "      6, \n",
    "      7]\n",
    "print(lst)"
   ]
  },
  {
   "cell_type": "code",
   "execution_count": 72,
   "metadata": {},
   "outputs": [
    {
     "name": "stdout",
     "output_type": "stream",
     "text": [
      "[[10  4]\n",
      " [18  6]\n",
      " [16  7]]\n"
     ]
    }
   ],
   "source": [
    "import numpy as np\n",
    "lst1 = [[2, 4], [4, 6], [3, 7]]  # 3X2\n",
    "lst2 = [[3, 0], [1, 1]]  # 3X2\n",
    "mat1 = np.array(lst1)\n",
    "mat2 = np.array(lst2)\n",
    "out = np.dot(mat1, mat2)\n",
    "print(out)\n"
   ]
  },
  {
   "cell_type": "code",
   "execution_count": 65,
   "metadata": {},
   "outputs": [
    {
     "name": "stdout",
     "output_type": "stream",
     "text": [
      "Number of rows 2\n",
      "Number of columns 2\n",
      "[[2, 5], [4, 6]]\n"
     ]
    }
   ],
   "source": [
    "lst = [[2, 5], \n",
    "       [4, 6]]\n",
    "r = len(lst)\n",
    "c= len(lst[0])\n",
    "print(f'Number of rows {r}')\n",
    "print(f'Number of columns {c}')\n",
    "print(lst)"
   ]
  },
  {
   "cell_type": "code",
   "execution_count": null,
   "metadata": {},
   "outputs": [],
   "source": []
  }
 ],
 "metadata": {
  "interpreter": {
   "hash": "490f1c68ed42f2c5a574e22fb9e03ff49b98516de8582ff1c5d4fb43fb70f61b"
  },
  "kernelspec": {
   "display_name": "Python 3.10.4 64-bit",
   "language": "python",
   "name": "python3"
  },
  "language_info": {
   "codemirror_mode": {
    "name": "ipython",
    "version": 3
   },
   "file_extension": ".py",
   "mimetype": "text/x-python",
   "name": "python",
   "nbconvert_exporter": "python",
   "pygments_lexer": "ipython3",
   "version": "3.10.4"
  },
  "orig_nbformat": 4
 },
 "nbformat": 4,
 "nbformat_minor": 2
}
