{
 "cells": [
  {
   "cell_type": "code",
   "execution_count": 5,
   "metadata": {},
   "outputs": [
    {
     "name": "stdout",
     "output_type": "stream",
     "text": [
      "statement after if\n"
     ]
    }
   ],
   "source": [
    "# if only statement \n",
    "num = -23\n",
    "if num > 0:\n",
    "    print(\"Number is positive\")\n",
    "\n",
    "print(\"statement after if\")\n"
   ]
  },
  {
   "cell_type": "code",
   "execution_count": 9,
   "metadata": {},
   "outputs": [
    {
     "name": "stdout",
     "output_type": "stream",
     "text": [
      "8 Positive\n"
     ]
    }
   ],
   "source": [
    "# if - else\n",
    "\n",
    "num = 8\n",
    "if num > 0:\n",
    "    print(f'{num} Positive')\n",
    "else:    \n",
    "    print(f'{num} Negative')"
   ]
  },
  {
   "cell_type": "code",
   "execution_count": null,
   "metadata": {},
   "outputs": [],
   "source": [
    "# if-elif-else\n",
    "\n",
    "num = 2\n",
    "if num == 0:\n",
    "    print('Number is Zero')\n",
    "elif num > 0:\n",
    "    print('Number is positive')\n",
    "else:\n",
    "    print('Number is negative')        "
   ]
  }
 ],
 "metadata": {
  "interpreter": {
   "hash": "ac63e7d2902d829a95718f514f583b39cb52f10e7c5524becb094a341f2ea3ca"
  },
  "kernelspec": {
   "display_name": "Python 3.10.2 64-bit (windows store)",
   "language": "python",
   "name": "python3"
  },
  "language_info": {
   "codemirror_mode": {
    "name": "ipython",
    "version": 3
   },
   "file_extension": ".py",
   "mimetype": "text/x-python",
   "name": "python",
   "nbconvert_exporter": "python",
   "pygments_lexer": "ipython3",
   "version": "3.10.2"
  },
  "orig_nbformat": 4
 },
 "nbformat": 4,
 "nbformat_minor": 2
}
