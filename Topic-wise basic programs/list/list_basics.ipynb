{
 "cells": [
  {
   "cell_type": "code",
   "execution_count": 1,
   "metadata": {},
   "outputs": [
    {
     "name": "stdout",
     "output_type": "stream",
     "text": [
      "[] <class 'list'>\n"
     ]
    }
   ],
   "source": [
    "# list appearance\n",
    "lst = list()\n",
    "# lst = []\n",
    "print(lst, type(lst))"
   ]
  },
  {
   "cell_type": "code",
   "execution_count": 2,
   "metadata": {},
   "outputs": [
    {
     "name": "stdout",
     "output_type": "stream",
     "text": [
      "[3, 6, 5, 654] <class 'list'>\n"
     ]
    }
   ],
   "source": [
    "lst = [3, 6, 5, 654]\n",
    "print(lst, type(lst))"
   ]
  },
  {
   "cell_type": "code",
   "execution_count": 8,
   "metadata": {},
   "outputs": [
    {
     "name": "stdout",
     "output_type": "stream",
     "text": [
      "[3, 4, 10]\n"
     ]
    }
   ],
   "source": [
    "# list operation \n",
    "# 1. item deletion\n",
    "lst = [1, 3, 4, 10]\n",
    "del lst[0]\n",
    "print(lst)\n"
   ]
  },
  {
   "cell_type": "code",
   "execution_count": 11,
   "metadata": {},
   "outputs": [
    {
     "name": "stdout",
     "output_type": "stream",
     "text": [
      "[12, 54, 2, 5, 6]\n"
     ]
    }
   ],
   "source": [
    "# item assignment \n",
    "a = [12, 54, 6, 5, 6]\n",
    "a[2] = 2\n",
    "print(a)"
   ]
  },
  {
   "cell_type": "code",
   "execution_count": 21,
   "metadata": {},
   "outputs": [
    {
     "name": "stdout",
     "output_type": "stream",
     "text": [
      "value of a 3\n",
      "value of b [5, 44, 5]\n"
     ]
    }
   ],
   "source": [
    "# list unpacking \n",
    "lst = [3, 5, 44, 5, 34]\n",
    "a, *b, c = lst\n",
    "print('value of a', a)\n",
    "print('value of b', b)"
   ]
  },
  {
   "cell_type": "code",
   "execution_count": 24,
   "metadata": {},
   "outputs": [
    {
     "name": "stdout",
     "output_type": "stream",
     "text": [
      "[1, 2, 3, 4, 5, 6, 7, 8, 9, 10, 11, 12, 13, 14, 15, 16, 17, 18, 19, 20, 21, 22, 23, 24, 25, 26, 27, 28, 29, 30, 31, 32, 33, 34, 35, 36, 37, 38, 39, 40, 41, 42, 43, 44, 45, 46, 47, 48, 49, 50, 51, 52, 53, 54, 55]\n"
     ]
    }
   ],
   "source": [
    "print(list(range(1, 56)))"
   ]
  },
  {
   "cell_type": "code",
   "execution_count": 25,
   "metadata": {},
   "outputs": [
    {
     "data": {
      "text/plain": [
       "{3, 5, 6, 11, 14, 18, 29, 35, 37, 42, 43, 45, 46, 47}"
      ]
     },
     "execution_count": 25,
     "metadata": {},
     "output_type": "execute_result"
    }
   ],
   "source": [
    "lst1 = [1, 15, 24, 51, 55, 50, 53, 21, 22, 38, 17, 12, 34, 52,\\\n",
    "19, 27, 48, 40, 39, 10, 23, 49, 31, 32, 54, 8, 25, 41, 44, 26,\\\n",
    "7, 4, 2, 33, 30, 36, 13, 28, 20, 16, 9]\n",
    "lst2 = list(range(1, 56))\n",
    "\n",
    "set(lst2) - set(lst1)\n",
    "\n"
   ]
  },
  {
   "cell_type": "code",
   "execution_count": 15,
   "metadata": {},
   "outputs": [
    {
     "name": "stdout",
     "output_type": "stream",
     "text": [
      "[3, 5, 'hello', 100, [2, 4, 5]]\n"
     ]
    }
   ],
   "source": [
    "# append()\n",
    "lst = [3, 5, 'hello']\n",
    "lst.append(100)\n",
    "lst.append([2, 4, 5])\n",
    "print(lst) "
   ]
  },
  {
   "cell_type": "code",
   "execution_count": 17,
   "metadata": {},
   "outputs": [
    {
     "name": "stdout",
     "output_type": "stream",
     "text": [
      "[3, 5, 'hello', 'h', 'e', 'l', 'l', 'o']\n"
     ]
    }
   ],
   "source": [
    "# extend()\n",
    "lst = [3, 5, 'hello']\n",
    "lst.extend('hello')\n",
    "\n",
    "print(lst) "
   ]
  },
  {
   "cell_type": "code",
   "execution_count": 22,
   "metadata": {},
   "outputs": [
    {
     "name": "stdout",
     "output_type": "stream",
     "text": [
      "[3, 5, 'hello', 100]\n"
     ]
    }
   ],
   "source": [
    "# insert()\n",
    "lst = [3, 5, 'hello']\n",
    "lst.insert(4, 100)\n",
    "print(lst) "
   ]
  },
  {
   "cell_type": "code",
   "execution_count": 34,
   "metadata": {},
   "outputs": [
    {
     "name": "stdout",
     "output_type": "stream",
     "text": [
      "[32, 5, 4, 3, 2, 0]\n"
     ]
    }
   ],
   "source": [
    "# clear()\n",
    "lst = [3, 4, 5, 0, 32, 2]\n",
    "lst.sort(reverse=True)\n",
    "print(lst)"
   ]
  },
  {
   "cell_type": "code",
   "execution_count": null,
   "metadata": {},
   "outputs": [],
   "source": []
  },
  {
   "cell_type": "code",
   "execution_count": 1,
   "metadata": {},
   "outputs": [
    {
     "name": "stdout",
     "output_type": "stream",
     "text": [
      "name1 ravi\n",
      "name2 saket\n"
     ]
    }
   ],
   "source": [
    "# unpack the list \n",
    "ls = ['ravi', 'saket', 100, 101]\n",
    "name1, name2, marks1, marks2 = ls\n",
    "print('name1', name1)\n",
    "print('name2', name2)\n"
   ]
  },
  {
   "cell_type": "code",
   "execution_count": 7,
   "metadata": {},
   "outputs": [
    {
     "data": {
      "text/plain": [
       "18"
      ]
     },
     "execution_count": 7,
     "metadata": {},
     "output_type": "execute_result"
    }
   ],
   "source": [
    "lst1 = [31, 13, 24, 28, 48, 12, 55, 41, 49, 40, 20, 4,\\\n",
    "27, 30, 3, 11, 8, 18, 19, 17, 53, 37, 51, 44, 5, 9, 54, 26, 25, 33, \n",
    "7, 34, 22, 16, 10, 2, 15, 28, 39, 57]\n",
    "lst2 = list(range(1, 58))\n",
    "len(set(lst2) - set(lst1) )"
   ]
  },
  {
   "cell_type": "code",
   "execution_count": 3,
   "metadata": {},
   "outputs": [
    {
     "name": "stdout",
     "output_type": "stream",
     "text": [
      "[1, 2, 3, 4, 5, 6, 7, 8, 9, 10, 11, 12, 13, 14, 15, 16, 17, 18, 19, 20, 21, 22, 23, 24, 25, 26, 27, 28, 29, 30, 31, 32, 33, 34, 35, 36, 37, 38, 39, 40, 41, 42, 43, 44, 45, 46, 47, 48, 49, 50, 51, 52, 53, 54, 55, 56, 57]\n"
     ]
    }
   ],
   "source": [
    "k = list(range(1, 58))\n",
    "print(k)"
   ]
  },
  {
   "cell_type": "code",
   "execution_count": 27,
   "metadata": {},
   "outputs": [
    {
     "name": "stdout",
     "output_type": "stream",
     "text": [
      "True\n"
     ]
    }
   ],
   "source": [
    "# list initialization \n",
    "st1 = []\n",
    "st2 = list()\n",
    "print(st1 == st2)"
   ]
  },
  {
   "cell_type": "code",
   "execution_count": 33,
   "metadata": {},
   "outputs": [
    {
     "name": "stdout",
     "output_type": "stream",
     "text": [
      "[3, 5, 56, 5, 'hello']\n"
     ]
    }
   ],
   "source": [
    "# operations with list\n",
    "a = [3, 5, 56, 5]\n",
    "b = ['hello']\n",
    "out = a + b\n",
    "print(out)\n"
   ]
  },
  {
   "cell_type": "code",
   "execution_count": 35,
   "metadata": {},
   "outputs": [
    {
     "name": "stdout",
     "output_type": "stream",
     "text": [
      "[]\n"
     ]
    }
   ],
   "source": [
    "# \n",
    "lst = [3, 5]\n",
    "out = lst * 0\n",
    "print(out)"
   ]
  },
  {
   "cell_type": "code",
   "execution_count": 44,
   "metadata": {},
   "outputs": [
    {
     "name": "stdout",
     "output_type": "stream",
     "text": [
      "24\n",
      "32\n",
      "40\n",
      "42\n",
      "51\n"
     ]
    }
   ],
   "source": [
    "\n",
    "lst1 = [41, 23, 35, 25, 27, 29, 48, 36, 37, 31, 39, 53, 30, 43,\\\n",
    "    44, 50, 26, 28, 47, 38, 49, 33, 46, 52, 34, 45]\n",
    "lst2 = list(range(23, 54))\n",
    "for i in lst2:\n",
    "    if i not in lst1:\n",
    "        print(i)"
   ]
  },
  {
   "cell_type": "code",
   "execution_count": 4,
   "metadata": {},
   "outputs": [
    {
     "name": "stdout",
     "output_type": "stream",
     "text": [
      "[20, 30, 22, 17] <class 'list'>\n"
     ]
    }
   ],
   "source": [
    "# list formation\n",
    "marks = [20, 30, 22, 17]\n",
    "print(marks, type(marks))"
   ]
  },
  {
   "cell_type": "code",
   "execution_count": 10,
   "metadata": {},
   "outputs": [
    {
     "name": "stdout",
     "output_type": "stream",
     "text": [
      "[5, 100]\n"
     ]
    }
   ],
   "source": [
    "# list is mutable\n",
    "ls = [2, 5, 100]\n",
    "ls[0] = 120  # item assignment \n",
    "del ls[0]  # item deletion\n",
    "print(ls) "
   ]
  },
  {
   "cell_type": "code",
   "execution_count": 13,
   "metadata": {},
   "outputs": [
    {
     "name": "stdout",
     "output_type": "stream",
     "text": [
      "1\n"
     ]
    }
   ],
   "source": [
    "# methods in a list \n",
    "ls = [3, 5, 7, 8, 65]\n",
    "out = ls.index(5)\n",
    "print(out)"
   ]
  },
  {
   "cell_type": "code",
   "execution_count": 20,
   "metadata": {},
   "outputs": [
    {
     "name": "stdout",
     "output_type": "stream",
     "text": [
      "['anubhav', 100, [10, 323]]\n"
     ]
    }
   ],
   "source": [
    "# append()\n",
    "lst = []\n",
    "lst.append('anubhav')\n",
    "lst.append(100)\n",
    "lst.append([10, 323])\n",
    "print(lst)"
   ]
  },
  {
   "cell_type": "code",
   "execution_count": 27,
   "metadata": {},
   "outputs": [
    {
     "name": "stdout",
     "output_type": "stream",
     "text": [
      "[3, 5, 7, 7, 'hello']\n"
     ]
    }
   ],
   "source": [
    "# extend()\n",
    "lst = [3, 5, 7, 7]\n",
    "x = ['hello']\n",
    "lst.extend(x)\n",
    "print(lst)\n"
   ]
  },
  {
   "cell_type": "code",
   "execution_count": 36,
   "metadata": {},
   "outputs": [
    {
     "name": "stdout",
     "output_type": "stream",
     "text": [
      "[3, 100, 30, 5, 7, 8]\n"
     ]
    }
   ],
   "source": [
    "# insert()\n",
    "lst = [3, 5, 7, 8]\n",
    "for i in [100, 30]:\n",
    "    lst.insert(1, i)\n",
    "print(lst)"
   ]
  },
  {
   "cell_type": "code",
   "execution_count": 44,
   "metadata": {},
   "outputs": [
    {
     "name": "stdout",
     "output_type": "stream",
     "text": [
      "deleted 7\n",
      "[3, 5]\n"
     ]
    }
   ],
   "source": [
    "# clear()/pop()\n",
    "ls = [3, 5, 7]\n",
    "# ls.clear()\n",
    "out = ls.pop()\n",
    "print('deleted', out)\n",
    "print(ls)"
   ]
  },
  {
   "cell_type": "code",
   "execution_count": 48,
   "metadata": {},
   "outputs": [
    {
     "name": "stdout",
     "output_type": "stream",
     "text": [
      "['mishra', 'saket']\n"
     ]
    }
   ],
   "source": [
    "# remove()\n",
    "\n",
    "ls = ['chandan', 'mishra', 'saket']\n",
    "ls.remove('chandan')\n",
    "print(ls)"
   ]
  },
  {
   "cell_type": "code",
   "execution_count": 58,
   "metadata": {},
   "outputs": [
    {
     "name": "stdout",
     "output_type": "stream",
     "text": [
      "ls [3, 5, 67, 87]\n",
      "pf [1000, 5, 67, 87, 100]\n"
     ]
    }
   ],
   "source": [
    "# copy()\n",
    "ls = [3, 5, 67, 87]\n",
    "pf = ls.copy()\n",
    "pf.append(100)\n",
    "pf[0] = 1000\n",
    "print('ls', ls)\n",
    "print('pf', pf)"
   ]
  },
  {
   "cell_type": "code",
   "execution_count": 64,
   "metadata": {},
   "outputs": [
    {
     "name": "stdout",
     "output_type": "stream",
     "text": [
      "[63, 8, 5, 3, 0]\n"
     ]
    }
   ],
   "source": [
    "# sort()/reverse()\n",
    "lst = [3, 5, 63, 8, 0]\n",
    "lst.sort(reverse=True)\n",
    "# lst.reverse()\n",
    "print(lst)"
   ]
  },
  {
   "cell_type": "code",
   "execution_count": 67,
   "metadata": {},
   "outputs": [
    {
     "name": "stdout",
     "output_type": "stream",
     "text": [
      "['ravi', 'zoya', 'amar', 'saket', 'amarjeet']\n"
     ]
    }
   ],
   "source": [
    "# sorting the string \n",
    "lst = ['ravi', 'zoya','saket', 'amar', 'amarjeet']\n",
    "\n",
    "lst.sort(key=len)\n",
    "\n",
    "print(lst)"
   ]
  },
  {
   "cell_type": "code",
   "execution_count": 14,
   "metadata": {},
   "outputs": [
    {
     "name": "stdout",
     "output_type": "stream",
     "text": [
      "[2, 4, 6, 7] 2438876224000\n",
      "[100, 6, 7] 2438876224000\n"
     ]
    }
   ],
   "source": [
    "a = [2, 4, 6, 7]\n",
    "print(a, id(a))\n",
    "a[0] = 100  # item assignment\n",
    "del a[1]\n",
    "print(a, id(a))\n",
    "# print(id(b))"
   ]
  },
  {
   "cell_type": "code",
   "execution_count": 15,
   "metadata": {},
   "outputs": [
    {
     "name": "stdout",
     "output_type": "stream",
     "text": [
      "hello\n"
     ]
    }
   ],
   "source": [
    "# item assignment\n",
    "# item deletion\n",
    "a = 'hello'\n",
    "# del a[0]  # error \n",
    "print(a)"
   ]
  },
  {
   "cell_type": "code",
   "execution_count": 16,
   "metadata": {},
   "outputs": [
    {
     "name": "stdout",
     "output_type": "stream",
     "text": [
      "[23, 53, 12, 45, 20, 32, 25]\n"
     ]
    }
   ],
   "source": [
    "# list operation \n",
    "marks1 = [23, 53, 12, 45, 20]\n",
    "marks2 = [32, 25]\n",
    "final_marks = marks1 + marks2\n",
    "print(final_marks)"
   ]
  },
  {
   "cell_type": "code",
   "execution_count": 18,
   "metadata": {},
   "outputs": [
    {
     "name": "stdout",
     "output_type": "stream",
     "text": [
      "[]\n"
     ]
    }
   ],
   "source": [
    "lst = [12, 45] * 0\n",
    "print(lst)"
   ]
  },
  {
   "cell_type": "code",
   "execution_count": 21,
   "metadata": {},
   "outputs": [
    {
     "name": "stdout",
     "output_type": "stream",
     "text": [
      "[3] <class 'list'>\n"
     ]
    }
   ],
   "source": [
    "# how to access the items \n",
    "# 1. indexing\n",
    "# 2. slicing range\n",
    "ls = [3, 2.5, 'hello']\n",
    "out = ls[0:1]\n",
    "print(out, type(out))"
   ]
  },
  {
   "cell_type": "code",
   "execution_count": 27,
   "metadata": {},
   "outputs": [
    {
     "name": "stdout",
     "output_type": "stream",
     "text": [
      "[3, 6, 33, 20] 2438876260480\n",
      "[] 2438876264192\n"
     ]
    }
   ],
   "source": [
    "# methods in a list \n",
    "ls = [3, 6, 33, 20]\n",
    "ls2 = ls.copy()\n",
    "ls2.clear()\n",
    "print(ls, id(ls))\n",
    "print(ls2, id(ls2))"
   ]
  },
  {
   "cell_type": "code",
   "execution_count": null,
   "metadata": {},
   "outputs": [],
   "source": [
    "a, b = ['HI', 100]"
   ]
  },
  {
   "cell_type": "code",
   "execution_count": 1,
   "metadata": {},
   "outputs": [
    {
     "name": "stdout",
     "output_type": "stream",
     "text": [
      "10\n"
     ]
    }
   ],
   "source": [
    "'''\n",
    "input->  3 4 5 6 7\n",
    "output-> 10\n",
    "\n",
    "input-> 1 3 5 7 9\n",
    "output-> 0\n",
    "\n",
    "'''\n",
    "k = input()  # '3 4 5 6 7'\n",
    "out = k.split()  # ['3', '4', '5', '6', '7']\n",
    "lst = list(map(int, out))\n",
    "s = 0\n",
    "for i in lst:\n",
    "    if i % 2 == 0:\n",
    "        s += i\n",
    "print(s)\n",
    "\n"
   ]
  },
  {
   "cell_type": "code",
   "execution_count": 56,
   "metadata": {},
   "outputs": [
    {
     "name": "stdout",
     "output_type": "stream",
     "text": [
      "12\n"
     ]
    }
   ],
   "source": [
    "\n",
    "sum=0\n",
    "num_lst = list(map(int, input('Enter Value ').split()))\n",
    "for i in num_lst:\n",
    "    if i%2==0:\n",
    "        sum=sum+i\n",
    "print (sum)\n",
    "\n"
   ]
  },
  {
   "cell_type": "code",
   "execution_count": 55,
   "metadata": {},
   "outputs": [
    {
     "name": "stdout",
     "output_type": "stream",
     "text": [
      "[34, 45, 23]\n"
     ]
    }
   ],
   "source": [
    "lst = [34.5, 45.32, 23]\n",
    "out = list(map(int, lst))\n",
    "print(out)"
   ]
  },
  {
   "cell_type": "code",
   "execution_count": 50,
   "metadata": {},
   "outputs": [
    {
     "name": "stdout",
     "output_type": "stream",
     "text": [
      "16\n"
     ]
    }
   ],
   "source": [
    "lst = input('Enter comma separated elements ')\n",
    "out = lst.split(',')\n",
    "lst_num = []\n",
    "for i in out:\n",
    "    lst_num.append(int(i))\n",
    "s = sum(lst_num)\n",
    "print(s)"
   ]
  }
 ],
 "metadata": {
  "interpreter": {
   "hash": "ac63e7d2902d829a95718f514f583b39cb52f10e7c5524becb094a341f2ea3ca"
  },
  "kernelspec": {
   "display_name": "Python 3.10.2 64-bit (windows store)",
   "language": "python",
   "name": "python3"
  },
  "language_info": {
   "codemirror_mode": {
    "name": "ipython",
    "version": 3
   },
   "file_extension": ".py",
   "mimetype": "text/x-python",
   "name": "python",
   "nbconvert_exporter": "python",
   "pygments_lexer": "ipython3",
   "version": "3.10.2"
  },
  "orig_nbformat": 4
 },
 "nbformat": 4,
 "nbformat_minor": 2
}
