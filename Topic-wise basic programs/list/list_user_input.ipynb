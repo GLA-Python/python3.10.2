{
 "cells": [
  {
   "cell_type": "code",
   "execution_count": 24,
   "metadata": {},
   "outputs": [
    {
     "name": "stdout",
     "output_type": "stream",
     "text": [
      "6\n"
     ]
    }
   ],
   "source": [
    "# how to read list from user \n",
    "'''\n",
    "30 53 54 50 45\n",
    "[3, 5, 56, 3]\n",
    "\n",
    "'''\n",
    "# a = input('Enter the values ')  # '30 53 54 50 45'\n",
    "\n",
    "res = list(map(int, input().split()))\n",
    "s = 0\n",
    "for i in res:\n",
    "    if i % 2 == 0:\n",
    "        s += i\n",
    "print(s)        "
   ]
  },
  {
   "cell_type": "code",
   "execution_count": 19,
   "metadata": {},
   "outputs": [
    {
     "name": "stdout",
     "output_type": "stream",
     "text": [
      "['hello', 'python', 'class']\n"
     ]
    }
   ],
   "source": [
    "st = '30 53 54 50 45'\n"
   ]
  },
  {
   "cell_type": "code",
   "execution_count": 12,
   "metadata": {},
   "outputs": [
    {
     "name": "stdout",
     "output_type": "stream",
     "text": [
      "255\n"
     ]
    }
   ],
   "source": [
    "a = 0xff\n",
    "print(a)"
   ]
  }
 ],
 "metadata": {
  "interpreter": {
   "hash": "ac63e7d2902d829a95718f514f583b39cb52f10e7c5524becb094a341f2ea3ca"
  },
  "kernelspec": {
   "display_name": "Python 3.10.2 64-bit (windows store)",
   "language": "python",
   "name": "python3"
  },
  "language_info": {
   "codemirror_mode": {
    "name": "ipython",
    "version": 3
   },
   "file_extension": ".py",
   "mimetype": "text/x-python",
   "name": "python",
   "nbconvert_exporter": "python",
   "pygments_lexer": "ipython3",
   "version": "3.10.2"
  },
  "orig_nbformat": 4
 },
 "nbformat": 4,
 "nbformat_minor": 2
}
