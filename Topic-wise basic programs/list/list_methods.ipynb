{
 "cells": [
  {
   "cell_type": "code",
   "execution_count": 6,
   "metadata": {},
   "outputs": [
    {
     "name": "stdout",
     "output_type": "stream",
     "text": [
      "[90, 'hello', [2, 4]]\n"
     ]
    }
   ],
   "source": [
    "# methods in a list object \n",
    "# append()\n",
    "lst = []\n",
    "lst.append(90)\n",
    "lst.append('hello')\n",
    "lst.append([2, 4])\n",
    "print(lst)"
   ]
  },
  {
   "cell_type": "code",
   "execution_count": 10,
   "metadata": {},
   "outputs": [
    {
     "name": "stdout",
     "output_type": "stream",
     "text": [
      "[100, 3, 5, 7, 'h', 'e', 'l', 'l', 'o']\n"
     ]
    }
   ],
   "source": [
    "# extend()\n",
    "lst = [100]\n",
    "lst.extend([3, 5, 7])\n",
    "lst.extend('hello')\n",
    "print(lst)"
   ]
  },
  {
   "cell_type": "code",
   "execution_count": 15,
   "metadata": {},
   "outputs": [
    {
     "name": "stdout",
     "output_type": "stream",
     "text": [
      "[100, 2, 5, 456]\n"
     ]
    }
   ],
   "source": [
    "# insert()\n",
    "num = 2\n",
    "lst = [2, 5, 456]\n",
    "lst.insert(num%2, 100)\n",
    "print(lst)\n"
   ]
  },
  {
   "cell_type": "code",
   "execution_count": 18,
   "metadata": {},
   "outputs": [
    {
     "name": "stdout",
     "output_type": "stream",
     "text": [
      "before clear() [4, 6, 7, 4, 6, 4, 54]\n",
      "After clear() []\n"
     ]
    }
   ],
   "source": [
    "# clear()\n",
    "lst = [4, 6, 7, 4, 6, 4, 54]\n",
    "print('before clear()', lst)\n",
    "lst.clear()\n",
    "print('After clear()', lst)\n"
   ]
  },
  {
   "cell_type": "code",
   "execution_count": 21,
   "metadata": {},
   "outputs": [
    {
     "name": "stdout",
     "output_type": "stream",
     "text": [
      "['saket', 'Shubham', 100]\n"
     ]
    }
   ],
   "source": [
    "# remove()\n",
    "lst = ['ravi', 'saket', 'Shubham', 100]\n",
    "lst.remove('ravi')\n",
    "# lst.remove('ankit')  # error \n",
    "print(lst)"
   ]
  },
  {
   "cell_type": "code",
   "execution_count": 24,
   "metadata": {},
   "outputs": [
    {
     "name": "stdout",
     "output_type": "stream",
     "text": [
      "removed item saket\n",
      "['ravi', 'Shubham', 100]\n"
     ]
    }
   ],
   "source": [
    "# pop()\n",
    "lst = ['ravi', 'saket', 'Shubham', 100]\n",
    "out = lst.pop(1) \n",
    "print('removed item', out)\n",
    "print(lst)"
   ]
  },
  {
   "cell_type": "code",
   "execution_count": 28,
   "metadata": {},
   "outputs": [
    {
     "name": "stdout",
     "output_type": "stream",
     "text": [
      "{1, 4, 6, 7, 8, 10, 13, 14, 15, 19, 24, 25, 28, 37, 38, 39, 44, 47, 50, 55, 59, 60}\n"
     ]
    }
   ],
   "source": [
    "lst1 = [53, 36, 16, 49, 41, 42, 45, 26, 54, 56, 17, 3, 21, 5, 9, 2, 46,\\\n",
    "34, 27, 23, 57, 35, 30, 18, 48, 40, 43, 11, 12, 58, 51, 52, 31, 33, 29, 22, 20, 32 ]\n",
    "lst2 = list(range(1, 61))\n",
    "print(set(lst2) - set(lst1))"
   ]
  },
  {
   "cell_type": "code",
   "execution_count": 26,
   "metadata": {},
   "outputs": [
    {
     "data": {
      "text/plain": [
       "[1, 2, 3, 4, 5, 6, 7, 8, 9]"
      ]
     },
     "execution_count": 26,
     "metadata": {},
     "output_type": "execute_result"
    }
   ],
   "source": [
    "list(range(1, 10))"
   ]
  }
 ],
 "metadata": {
  "interpreter": {
   "hash": "57baa5815c940fdaff4d14510622de9616cae602444507ba5d0b6727c008cbd6"
  },
  "kernelspec": {
   "display_name": "Python 3.7.2 64-bit",
   "language": "python",
   "name": "python3"
  },
  "language_info": {
   "codemirror_mode": {
    "name": "ipython",
    "version": 3
   },
   "file_extension": ".py",
   "mimetype": "text/x-python",
   "name": "python",
   "nbconvert_exporter": "python",
   "pygments_lexer": "ipython3",
   "version": "3.10.2"
  },
  "orig_nbformat": 4
 },
 "nbformat": 4,
 "nbformat_minor": 2
}
