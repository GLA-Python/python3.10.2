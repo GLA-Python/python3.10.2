{
 "cells": [
  {
   "cell_type": "code",
   "execution_count": 3,
   "metadata": {},
   "outputs": [
    {
     "data": {
      "text/plain": [
       "''"
      ]
     },
     "execution_count": 3,
     "metadata": {},
     "output_type": "execute_result"
    }
   ],
   "source": [
    "# string :\" sequence of char\"\n",
    "# initialization of string \n",
    "st = str()\n",
    "# print(st, type(st))\n",
    "\n",
    "\n",
    "\n",
    "\"\"\"\n",
    "string\n",
    "what is the string?\n",
    "Physical Appearance\n",
    "\n",
    "\"\"\"\n",
    "a = 'hello'\n",
    "a2 = \"hello\"\n",
    "a3 = '''hello'''\n",
    "a4 = \"\"\"hello\"\"\"\n",
    "st"
   ]
  },
  {
   "cell_type": "code",
   "execution_count": 16,
   "metadata": {},
   "outputs": [
    {
     "name": "stdout",
     "output_type": "stream",
     "text": [
      "False\n"
     ]
    }
   ],
   "source": [
    "st = 'hello\\npython'\n",
    "st2 = '''hello\n",
    "python'''\n",
    "out = st2 == st\n",
    "print(out)"
   ]
  },
  {
   "cell_type": "code",
   "execution_count": 35,
   "metadata": {},
   "outputs": [
    {
     "name": "stdout",
     "output_type": "stream",
     "text": [
      "h\n"
     ]
    }
   ],
   "source": [
    "# accessing the elements(chars) \n",
    "# indexing: get the element at position\n",
    "st = '''hello python'''\n",
    "out = st[-12] \n",
    "print(out)"
   ]
  },
  {
   "cell_type": "code",
   "execution_count": 51,
   "metadata": {},
   "outputs": [
    {
     "name": "stdout",
     "output_type": "stream",
     "text": [
      "\n"
     ]
    }
   ],
   "source": [
    "# slicing range\n",
    "st = 'hello python'\n",
    "# str[start:stop:step]\n",
    "out = st[::-1]\n",
    "print(out)"
   ]
  },
  {
   "cell_type": "code",
   "execution_count": null,
   "metadata": {},
   "outputs": [],
   "source": [
    "# palindrome\n",
    "st = input('Enter the name ')\n",
    "out = st[::-1]\n",
    "if out == st:\n",
    "    print('Palindrome')\n",
    "else:\n",
    "    print('Not Palindrome')    "
   ]
  },
  {
   "cell_type": "code",
   "execution_count": 58,
   "metadata": {},
   "outputs": [
    {
     "name": "stdout",
     "output_type": "stream",
     "text": [
      "hello\n",
      "olleh\n"
     ]
    }
   ],
   "source": [
    "# reverse the string \n",
    "st = 'hello'\n",
    "out = st[5::-2]\n",
    "# [5, 3, 1] --> [4, 2, 0]\n",
    "print(st)\n",
    "print(out)\n"
   ]
  },
  {
   "cell_type": "code",
   "execution_count": 14,
   "metadata": {},
   "outputs": [
    {
     "name": "stdout",
     "output_type": "stream",
     "text": [
      " oll\n"
     ]
    }
   ],
   "source": [
    "st = 'hello world'\n",
    "# indexing \n",
    "# out = st[-1]\n",
    "# slicing range\n",
    "# out = st[start:stop:step]\n",
    "out = st[5:1:-1]\n",
    "print(out)"
   ]
  }
 ],
 "metadata": {
  "interpreter": {
   "hash": "8786318122129ba10eb40c9c8a2ede770fe6a9df50dfcd3c6edc33520e4c5279"
  },
  "kernelspec": {
   "display_name": "Python 3.7.2 32-bit",
   "language": "python",
   "name": "python3"
  },
  "language_info": {
   "codemirror_mode": {
    "name": "ipython",
    "version": 3
   },
   "file_extension": ".py",
   "mimetype": "text/x-python",
   "name": "python",
   "nbconvert_exporter": "python",
   "pygments_lexer": "ipython3",
   "version": "3.7.2"
  },
  "orig_nbformat": 4
 },
 "nbformat": 4,
 "nbformat_minor": 2
}
