{
 "cells": [
  {
   "cell_type": "code",
   "execution_count": 3,
   "metadata": {},
   "outputs": [
    {
     "data": {
      "text/plain": [
       "''"
      ]
     },
     "execution_count": 3,
     "metadata": {},
     "output_type": "execute_result"
    }
   ],
   "source": [
    "# string :\" sequence of char\"\n",
    "# initialization of string \n",
    "st = str()\n",
    "# print(st, type(st))\n",
    "\n",
    "\n",
    "\n",
    "\"\"\"\n",
    "string\n",
    "what is the string?\n",
    "Physical Appearance\n",
    "\n",
    "\"\"\"\n",
    "a = 'hello'\n",
    "a2 = \"hello\"\n",
    "a3 = '''hello'''\n",
    "a4 = \"\"\"hello\"\"\"\n",
    "st"
   ]
  },
  {
   "cell_type": "code",
   "execution_count": 16,
   "metadata": {},
   "outputs": [
    {
     "name": "stdout",
     "output_type": "stream",
     "text": [
      "False\n"
     ]
    }
   ],
   "source": [
    "st = 'hello\\npython'\n",
    "st2 = '''hello\n",
    "python'''\n",
    "out = st2 == st\n",
    "print(out)"
   ]
  },
  {
   "cell_type": "code",
   "execution_count": 35,
   "metadata": {},
   "outputs": [
    {
     "name": "stdout",
     "output_type": "stream",
     "text": [
      "h\n"
     ]
    }
   ],
   "source": [
    "# accessing the elements(chars) \n",
    "# indexing: get the element at position\n",
    "st = '''hello python'''\n",
    "out = st[-12] \n",
    "print(out)"
   ]
  },
  {
   "cell_type": "code",
   "execution_count": 51,
   "metadata": {},
   "outputs": [
    {
     "name": "stdout",
     "output_type": "stream",
     "text": [
      "\n"
     ]
    }
   ],
   "source": [
    "# slicing range\n",
    "st = 'hello python'\n",
    "# str[start:stop:step]\n",
    "out = st[::-1]\n",
    "print(out)"
   ]
  },
  {
   "cell_type": "code",
   "execution_count": null,
   "metadata": {},
   "outputs": [],
   "source": [
    "# palindrome\n",
    "st = input('Enter the name ')\n",
    "out = st[::-1]\n",
    "if out == st:\n",
    "    print('Palindrome')\n",
    "else:\n",
    "    print('Not Palindrome')    "
   ]
  },
  {
   "cell_type": "code",
   "execution_count": 59,
   "metadata": {},
   "outputs": [
    {
     "name": "stdout",
     "output_type": "stream",
     "text": [
      "hello\n",
      "olh\n"
     ]
    }
   ],
   "source": [
    "# reverse the string \n",
    "st = 'hello'\n",
    "out = st[5::-2]\n",
    "# [5, 3, 1] --> [4, 2, 0]\n",
    "print(st)\n",
    "print(out)\n"
   ]
  },
  {
   "cell_type": "code",
   "execution_count": 14,
   "metadata": {},
   "outputs": [
    {
     "name": "stdout",
     "output_type": "stream",
     "text": [
      " oll\n"
     ]
    }
   ],
   "source": [
    "st = 'hello world'\n",
    "# indexing \n",
    "# out = st[-1]\n",
    "# slicing range\n",
    "# out = st[start:stop:step]\n",
    "out = st[5:1:-1]\n",
    "print(out)"
   ]
  },
  {
   "cell_type": "code",
   "execution_count": 1,
   "metadata": {},
   "outputs": [
    {
     "name": "stdout",
     "output_type": "stream",
     "text": [
      "Value of a H\n",
      "Value of b I\n"
     ]
    }
   ],
   "source": [
    "# unpack string \n",
    "a, b = 'HI'\n",
    "print('Value of a', a)\n",
    "print('Value of b', b)"
   ]
  },
  {
   "cell_type": "code",
   "execution_count": 2,
   "metadata": {},
   "outputs": [
    {
     "name": "stdout",
     "output_type": "stream",
     "text": [
      "value of a h\n",
      "value of b ['e', 'l', 'l', 'o']\n"
     ]
    }
   ],
   "source": [
    "# optional too many unpack \n",
    "st = 'hello'\n",
    "# a, b = st  # Error: Too many unpack values \n",
    "\n",
    "a, *b = st\n",
    "print('value of a', a)\n",
    "print('value of b', b)"
   ]
  },
  {
   "cell_type": "code",
   "execution_count": 3,
   "metadata": {},
   "outputs": [
    {
     "name": "stdout",
     "output_type": "stream",
     "text": [
      "value of a h\n",
      "value of b ['e', 'l', 'l']\n",
      "value of c o\n"
     ]
    }
   ],
   "source": [
    "# optional too many unpack \n",
    "st = 'hello'\n",
    "# a, b = st  # Error: Too many unpack values \n",
    "\n",
    "a, *b, c = st\n",
    "print('value of a', a)\n",
    "print('value of b', b)\n",
    "print('value of c', c)"
   ]
  },
  {
   "cell_type": "code",
   "execution_count": 4,
   "metadata": {},
   "outputs": [
    {
     "name": "stdout",
     "output_type": "stream",
     "text": [
      "HiPython\n"
     ]
    }
   ],
   "source": [
    "# arithmatic operators with string \n",
    "# concatenation \n",
    "st1 = 'Hi'\n",
    "st2 = 'Python'\n",
    "st = st1 + st2 \n",
    "print(st)"
   ]
  },
  {
   "cell_type": "code",
   "execution_count": 8,
   "metadata": {},
   "outputs": [
    {
     "name": "stdout",
     "output_type": "stream",
     "text": [
      "HiHiHiHi\n"
     ]
    }
   ],
   "source": [
    "# repition\n",
    "st = 'Hi'\n",
    "# print(st*2)\n",
    "# print(2*st)\n",
    "print(2*st*2)"
   ]
  },
  {
   "cell_type": "code",
   "execution_count": 5,
   "metadata": {},
   "outputs": [
    {
     "name": "stdout",
     "output_type": "stream",
     "text": [
      "Value of a H\n",
      "Value of b ['E', 'L', 'L']\n",
      "Value of c O\n"
     ]
    }
   ],
   "source": [
    "st = 'HELLO'\n",
    "a, *b, c = st\n",
    "print('Value of a', a)\n",
    "print('Value of b', b)\n",
    "print('Value of c', c)"
   ]
  },
  {
   "cell_type": "code",
   "execution_count": 10,
   "metadata": {},
   "outputs": [
    {
     "name": "stdout",
     "output_type": "stream",
     "text": [
      "hello 3 Python\n"
     ]
    }
   ],
   "source": [
    "st = 'hello %d Python'\n",
    "print(st % 3.6)"
   ]
  },
  {
   "cell_type": "code",
   "execution_count": 19,
   "metadata": {},
   "outputs": [
    {
     "name": "stdout",
     "output_type": "stream",
     "text": [
      "Value of a H\n",
      "Value of b ['E', 'L', 'L']\n",
      "Value of c O\n"
     ]
    }
   ],
   "source": [
    "# string unpacking \n",
    "a, *b, c = 'HELLO'\n",
    "print('Value of a', a)\n",
    "print('Value of b', b)\n",
    "print('Value of c', c)\n"
   ]
  },
  {
   "cell_type": "code",
   "execution_count": 29,
   "metadata": {},
   "outputs": [
    {
     "data": {
      "text/plain": [
       "''"
      ]
     },
     "execution_count": 29,
     "metadata": {},
     "output_type": "execute_result"
    }
   ],
   "source": [
    "num = 10\n",
    "st = 'Hi'\n",
    "num%2*st*2"
   ]
  },
  {
   "cell_type": "code",
   "execution_count": 57,
   "metadata": {},
   "outputs": [
    {
     "name": "stdout",
     "output_type": "stream",
     "text": [
      "True\n"
     ]
    }
   ],
   "source": [
    "st ='hello'\n",
    "out = st.isascii()\n",
    "print(out)"
   ]
  },
  {
   "cell_type": "code",
   "execution_count": 55,
   "metadata": {},
   "outputs": [
    {
     "name": "stdout",
     "output_type": "stream",
     "text": [
      "hello ❤ 😒\n"
     ]
    }
   ],
   "source": [
    "st = b'hello \\xe2\\x9d\\xa4 \\xf0\\x9f\\x98\\x92'\n",
    "out = st.decode('utf', errors = 'replace')\n",
    "print(out)"
   ]
  },
  {
   "cell_type": "code",
   "execution_count": 47,
   "metadata": {},
   "outputs": [
    {
     "data": {
      "text/plain": [
       "'😒'"
      ]
     },
     "execution_count": 47,
     "metadata": {},
     "output_type": "execute_result"
    }
   ],
   "source": [
    "chr(128530)"
   ]
  },
  {
   "cell_type": "code",
   "execution_count": 65,
   "metadata": {},
   "outputs": [
    {
     "name": "stdout",
     "output_type": "stream",
     "text": [
      "Value of a h\n",
      "value of b i\n",
      "Value of t 🤷\n"
     ]
    }
   ],
   "source": [
    "# unpack the string \n",
    "a, b, t = 'hi🤷'\n",
    "print('Value of a', a)\n",
    "print('value of b', b)\n",
    "print('Value of t', t)"
   ]
  },
  {
   "cell_type": "code",
   "execution_count": 69,
   "metadata": {},
   "outputs": [
    {
     "name": "stdout",
     "output_type": "stream",
     "text": [
      "hihi\n"
     ]
    }
   ],
   "source": [
    "num = 3\n",
    "st = 'hi'\n",
    "out = num%2*st*2\n",
    "print(out)"
   ]
  },
  {
   "cell_type": "code",
   "execution_count": 86,
   "metadata": {},
   "outputs": [
    {
     "name": "stdout",
     "output_type": "stream",
     "text": [
      "b'hello \\xf0\\x9f\\xa4\\xa3 \\xf0\\x9f\\xa4\\xb7 \\xf0\\x9f\\x98\\x93'\n"
     ]
    }
   ],
   "source": [
    "st = 'hello 🤣 🤷 😓'\n",
    "out = st.encode('utf')\n",
    "print(out)"
   ]
  },
  {
   "cell_type": "code",
   "execution_count": 88,
   "metadata": {},
   "outputs": [
    {
     "name": "stdout",
     "output_type": "stream",
     "text": [
      "hello ���� ���� ����\n"
     ]
    }
   ],
   "source": [
    "sb = b'hello \\xf0\\x9f\\xa4\\xa3 \\xf0\\x9f\\xa4\\xb7 \\xf0\\x9f\\x98\\x93'\n",
    "out = sb.decode('ascii', errors='replace')\n",
    "print(out)"
   ]
  },
  {
   "cell_type": "code",
   "execution_count": 92,
   "metadata": {},
   "outputs": [
    {
     "data": {
      "text/plain": [
       "'hello\\\\tpython'"
      ]
     },
     "execution_count": 92,
     "metadata": {},
     "output_type": "execute_result"
    }
   ],
   "source": [
    "st = r'hello\\tpython'\n",
    "st"
   ]
  },
  {
   "cell_type": "code",
   "execution_count": 96,
   "metadata": {},
   "outputs": [
    {
     "name": "stdout",
     "output_type": "stream",
     "text": [
      "hello python 4234234asa#232\n"
     ]
    }
   ],
   "source": [
    "st = 'Hello Python 4234234asa#232'\n",
    "out = st.casefold()\n",
    "print(out)"
   ]
  },
  {
   "cell_type": "code",
   "execution_count": 107,
   "metadata": {},
   "outputs": [
    {
     "name": "stdout",
     "output_type": "stream",
     "text": [
      "['hello', '', '', '', '', 'pythaaon\\nclaass']\n"
     ]
    }
   ],
   "source": [
    "# split()\n",
    "st = 'hello     pythaaon\\nclaass'\n",
    "out = st.split(' ')\n",
    "print(out) "
   ]
  },
  {
   "cell_type": "code",
   "execution_count": 7,
   "metadata": {},
   "outputs": [
    {
     "name": "stdout",
     "output_type": "stream",
     "text": [
      "False\n"
     ]
    }
   ],
   "source": [
    "ls = ['ayush', 23, 7.5, 'gla university']\n",
    "out = 'ayushi' in ls\n",
    "print(out)"
   ]
  },
  {
   "cell_type": "code",
   "execution_count": 12,
   "metadata": {},
   "outputs": [
    {
     "name": "stdout",
     "output_type": "stream",
     "text": [
      "ls [3, 5, 7]\n",
      "pf []\n"
     ]
    }
   ],
   "source": [
    "ls = [3, 5, 7]\n",
    "pf = ls.copy()\n",
    "pf.append(100)\n",
    "pf.clear()\n",
    "print('ls', ls)\n",
    "print('pf', pf)"
   ]
  },
  {
   "cell_type": "code",
   "execution_count": 18,
   "metadata": {},
   "outputs": [
    {
     "name": "stdout",
     "output_type": "stream",
     "text": [
      "['ayush', 'saket', 'anubhav', 'H', 'I']\n"
     ]
    }
   ],
   "source": [
    "# append\n",
    "ls = ['ayush']\n",
    "ph = ['saket', 'anubhav']\n",
    "ls.extend(ph)\n",
    "ls.extend('HI')\n",
    "print(ls)"
   ]
  },
  {
   "cell_type": "code",
   "execution_count": 23,
   "metadata": {},
   "outputs": [
    {
     "name": "stdout",
     "output_type": "stream",
     "text": [
      "[4, 6, 87, 35, 3, 100]\n"
     ]
    }
   ],
   "source": [
    "# insert()\n",
    "lst = [4, 6, 87, 35, 3]\n",
    "lst.insert(-1, 100)\n",
    "print(lst)"
   ]
  },
  {
   "cell_type": "code",
   "execution_count": 25,
   "metadata": {},
   "outputs": [
    {
     "name": "stdout",
     "output_type": "stream",
     "text": [
      "1\n"
     ]
    }
   ],
   "source": [
    "# index\n",
    "ls = ['anupam', 'vishnu', 'ravi', 'vishnu']\n",
    "out = ls.index('vishnu')\n",
    "print(out)"
   ]
  },
  {
   "cell_type": "code",
   "execution_count": 29,
   "metadata": {},
   "outputs": [
    {
     "name": "stdout",
     "output_type": "stream",
     "text": [
      "[3, 7, 45, 7]\n"
     ]
    }
   ],
   "source": [
    "ls = [3, 7, 45 ,7]\n",
    "out = list(ls)\n",
    "print(out)"
   ]
  },
  {
   "cell_type": "code",
   "execution_count": 9,
   "metadata": {},
   "outputs": [
    {
     "name": "stdout",
     "output_type": "stream",
     "text": [
      "\n"
     ]
    }
   ],
   "source": [
    "a = 20\n",
    "a_out = \n",
    "print(a_out)"
   ]
  }
 ],
 "metadata": {
  "interpreter": {
   "hash": "8786318122129ba10eb40c9c8a2ede770fe6a9df50dfcd3c6edc33520e4c5279"
  },
  "kernelspec": {
   "display_name": "Python 3.7.2 32-bit",
   "language": "python",
   "name": "python3"
  },
  "language_info": {
   "codemirror_mode": {
    "name": "ipython",
    "version": 3
   },
   "file_extension": ".py",
   "mimetype": "text/x-python",
   "name": "python",
   "nbconvert_exporter": "python",
   "pygments_lexer": "ipython3",
   "version": "3.7.2"
  },
  "orig_nbformat": 4
 },
 "nbformat": 4,
 "nbformat_minor": 2
}
