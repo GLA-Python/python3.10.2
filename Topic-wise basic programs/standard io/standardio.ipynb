{
 "cells": [
  {
   "cell_type": "code",
   "execution_count": 15,
   "metadata": {},
   "outputs": [
    {
     "name": "stdout",
     "output_type": "stream",
     "text": [
      "34 <class 'str'>\n"
     ]
    }
   ],
   "source": [
    "# standard io in Python\n",
    "'''read the user data and display on consol'''\n",
    "\n",
    "a = input('Enter the data ')\n",
    "# a = 34\n",
    "print(a, type(a))"
   ]
  },
  {
   "cell_type": "code",
   "execution_count": 20,
   "metadata": {},
   "outputs": [
    {
     "name": "stdout",
     "output_type": "stream",
     "text": [
      "23.6 <class 'float'>\n"
     ]
    }
   ],
   "source": [
    "# read the number from user \n",
    "num = eval(input('Enter the number ')) \n",
    "print(num, type(num))"
   ]
  },
  {
   "cell_type": "code",
   "execution_count": 24,
   "metadata": {},
   "outputs": [
    {
     "name": "stdout",
     "output_type": "stream",
     "text": [
      "43 <class 'int'>\n"
     ]
    }
   ],
   "source": [
    "a = 23\n",
    "x = type(a)\n",
    "b = x('43')\n",
    "print(b, type(b))"
   ]
  },
  {
   "cell_type": "code",
   "execution_count": 29,
   "metadata": {},
   "outputs": [
    {
     "name": "stdout",
     "output_type": "stream",
     "text": [
      "Sum of\n",
      "24\n",
      "and\n",
      "67\n",
      "is\n",
      "91\n"
     ]
    }
   ],
   "source": [
    "# sum of two number (optional positional argv)\n",
    "a = eval(input('Enter the first number '))\n",
    "b = eval(input('Enter the second number '))\n",
    "c = a + b\n",
    "print('Sum of', a, 'and', b, 'is', c, sep='\\n')  "
   ]
  },
  {
   "cell_type": "code",
   "execution_count": 39,
   "metadata": {},
   "outputs": [
    {
     "name": "stdout",
     "output_type": "stream",
     "text": [
      "sum of 3.000      and 5.00 is 8\n"
     ]
    }
   ],
   "source": [
    "# sum of two number (string format specifiers)\n",
    "a = eval(input('Enter the first number '))\n",
    "b = eval(input('Enter the second number '))\n",
    "c = a + b\n",
    "# x = 'sum of %d and %.3f is %.3f'%(a, b, c)\n",
    "# x = 'sum of {} and {} is {}'.format(a, b, c)\n",
    "x = f'sum of {a:<10.3f} and {b:.2f} is {c}'\n",
    "print(x)  "
   ]
  },
  {
   "cell_type": "code",
   "execution_count": 35,
   "metadata": {},
   "outputs": [
    {
     "name": "stdout",
     "output_type": "stream",
     "text": [
      "result is 3.623555444\n"
     ]
    }
   ],
   "source": [
    "a = 3.623555444\n",
    "out = f'result is {a:.2f}'\n",
    "print(out)"
   ]
  },
  {
   "cell_type": "code",
   "execution_count": 33,
   "metadata": {},
   "outputs": [
    {
     "name": "stdout",
     "output_type": "stream",
     "text": [
      "\\\\\n"
     ]
    }
   ],
   "source": [
    "# raw string:  \n",
    "st = r'\\\\'\n",
    "print(st)"
   ]
  },
  {
   "cell_type": "code",
   "execution_count": 1,
   "metadata": {},
   "outputs": [
    {
     "name": "stdout",
     "output_type": "stream",
     "text": [
      "1000 <class 'str'>\n"
     ]
    }
   ],
   "source": [
    "# read number from user\n",
    "k = eval(input('Enter the number'))\n",
    "print(k, type(k))"
   ]
  },
  {
   "cell_type": "code",
   "execution_count": null,
   "metadata": {},
   "outputs": [],
   "source": [
    "a = 10\n",
    "b = 23\n",
    "out = a + b\n",
    "print(f'result is {out}')"
   ]
  },
  {
   "cell_type": "code",
   "execution_count": 18,
   "metadata": {},
   "outputs": [
    {
     "name": "stdout",
     "output_type": "stream",
     "text": [
      "hello <class 'str'>\n"
     ]
    }
   ],
   "source": [
    "# read the number from the user \n",
    "n = eval(input('Enter the number '))\n",
    "print(n, type(n))"
   ]
  },
  {
   "cell_type": "code",
   "execution_count": 21,
   "metadata": {},
   "outputs": [
    {
     "name": "stdout",
     "output_type": "stream",
     "text": [
      "10\n"
     ]
    }
   ],
   "source": [
    "a = 'hello2'\n",
    "hello2 = 10\n",
    "print(hello2)"
   ]
  }
 ],
 "metadata": {
  "interpreter": {
   "hash": "ac63e7d2902d829a95718f514f583b39cb52f10e7c5524becb094a341f2ea3ca"
  },
  "kernelspec": {
   "display_name": "Python 3.10.2 64-bit (windows store)",
   "language": "python",
   "name": "python3"
  },
  "language_info": {
   "codemirror_mode": {
    "name": "ipython",
    "version": 3
   },
   "file_extension": ".py",
   "mimetype": "text/x-python",
   "name": "python",
   "nbconvert_exporter": "python",
   "pygments_lexer": "ipython3",
   "version": "3.10.2"
  },
  "orig_nbformat": 4
 },
 "nbformat": 4,
 "nbformat_minor": 2
}
