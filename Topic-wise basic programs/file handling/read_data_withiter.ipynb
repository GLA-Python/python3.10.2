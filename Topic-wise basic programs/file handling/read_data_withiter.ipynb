{
 "cells": [
  {
   "cell_type": "code",
   "execution_count": 30,
   "metadata": {},
   "outputs": [
    {
     "name": "stdout",
     "output_type": "stream",
     "text": [
      "Happy Birthday\n",
      "God Bless you\n",
      "\n"
     ]
    }
   ],
   "source": [
    "with open('birthdaywishes.txt', 'r') as f:\n",
    "    data = f.read()\n",
    "    print(data)\n"
   ]
  },
  {
   "cell_type": "code",
   "execution_count": 1,
   "metadata": {},
   "outputs": [],
   "source": [
    "# words count \n",
    "f = open('birthdaywishes.txt', 'r')\n",
    "data = f.read()\n",
    "words = data.split()\n",
    "print(words)\n",
    "print(len(words))\n",
    "f.close()"
   ]
  },
  {
   "cell_type": "code",
   "execution_count": 7,
   "metadata": {},
   "outputs": [
    {
     "name": "stdout",
     "output_type": "stream",
     "text": [
      "83\n",
      "b'\\r\\n'\n"
     ]
    }
   ],
   "source": [
    "with open(r'C:\\Users\\drami\\OneDrive\\Desktop\\section J\\calc.txt', 'ab+') as f:\n",
    "    f.seek(-10, 2)\n",
    "    '''\n",
    "    origin:\n",
    "    0 - beginning\n",
    "    1 - current\n",
    "    2 - end \n",
    "    '''\n",
    "    data = f.read(5)\n",
    "    f.seek(-2, 1)\n",
    "    data = f.read(5)\n",
    "    print(f.tell())\n",
    "    print(f.read())\n",
    "    # print(data)"
   ]
  },
  {
   "cell_type": "code",
   "execution_count": 1,
   "metadata": {},
   "outputs": [
    {
     "name": "stdout",
     "output_type": "stream",
     "text": [
      "4\n"
     ]
    }
   ],
   "source": [
    "f = open('data.txt', 'r')\n",
    "x = f.read()\n",
    "data = x.split()\n",
    "print(len(data))\n",
    "f.close()"
   ]
  },
  {
   "cell_type": "code",
   "execution_count": 3,
   "metadata": {},
   "outputs": [],
   "source": [
    "# next(f)"
   ]
  },
  {
   "cell_type": "code",
   "execution_count": 26,
   "metadata": {},
   "outputs": [],
   "source": [
    "\n",
    "data = map(float, [1, 2, 3, 4])"
   ]
  },
  {
   "cell_type": "code",
   "execution_count": 27,
   "metadata": {},
   "outputs": [
    {
     "name": "stdout",
     "output_type": "stream",
     "text": [
      "1.0\n"
     ]
    }
   ],
   "source": [
    "for i in data:\n",
    "    print(i)\n",
    "    out = list(data)"
   ]
  }
 ],
 "metadata": {
  "interpreter": {
   "hash": "490f1c68ed42f2c5a574e22fb9e03ff49b98516de8582ff1c5d4fb43fb70f61b"
  },
  "kernelspec": {
   "display_name": "Python 3.10.4 64-bit",
   "language": "python",
   "name": "python3"
  },
  "language_info": {
   "codemirror_mode": {
    "name": "ipython",
    "version": 3
   },
   "file_extension": ".py",
   "mimetype": "text/x-python",
   "name": "python",
   "nbconvert_exporter": "python",
   "pygments_lexer": "ipython3",
   "version": "3.10.4"
  },
  "orig_nbformat": 4
 },
 "nbformat": 4,
 "nbformat_minor": 2
}
