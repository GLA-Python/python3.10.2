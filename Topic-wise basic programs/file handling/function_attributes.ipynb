{
 "cells": [
  {
   "cell_type": "code",
   "execution_count": null,
   "metadata": {},
   "outputs": [],
   "source": [
    "# file handling - function attributes\n",
    "\n",
    "'''\n",
    "1. open the file: file handler or file object\n",
    "\n",
    "2. read/write operations on the file\n",
    "\n",
    "3. close the file\n",
    "\n",
    "'''"
   ]
  },
  {
   "cell_type": "code",
   "execution_count": 3,
   "metadata": {},
   "outputs": [],
   "source": [
    "f = open(r'C:\\Users\\drami\\OneDrive\\Desktop\\section F\\data.txt', 'w')\n",
    "# f.write(\"Hello World\")\n",
    "print(\"Hello World\", file=f)\n",
    "f.close()"
   ]
  },
  {
   "cell_type": "code",
   "execution_count": 101,
   "metadata": {},
   "outputs": [
    {
     "name": "stdout",
     "output_type": "stream",
     "text": [
      "\n",
      "\n",
      "choices \n",
      "1. Addition\n",
      "2. Subtraction\n",
      "3. Multiplication\n",
      "4. Division\n",
      "\n"
     ]
    }
   ],
   "source": [
    "# write(): write the data to the file in the form of string only \n",
    "import time\n",
    "a = int(input('Enter the first number: '))\n",
    "b = int(input('Enter the second number: '))\n",
    "print('''\n",
    "\n",
    "choices \n",
    "1. Addition\n",
    "2. Subtraction\n",
    "3. Multiplication\n",
    "4. Division\n",
    "''')\n",
    "choice = int(input('Enter your choice 1/2/3/4: '))\n",
    "\n",
    "op = None\n",
    "res = 0\n",
    "\n",
    "if choice == 1:\n",
    "    op = 'Addition'\n",
    "    res = a + b \n",
    "elif choice == 2:\n",
    "    op = 'Subtraction'\n",
    "    res = a - b\n",
    "elif choice == 3:\n",
    "    op = 'Multiplication'\n",
    "    res = a * b\n",
    "elif choice == 4:\n",
    "    op = 'Division'\n",
    "    res = a / b\n",
    "\n",
    "out = f'{a}\\t{b}\\t{op}\\t{res}\\t{time.asctime()}\\n'\n",
    "\n",
    "f = open('calci.txt', 'a')\n",
    "# print(out)\n",
    "f.write(out)\n",
    "f.close()\n"
   ]
  },
  {
   "cell_type": "code",
   "execution_count": 14,
   "metadata": {},
   "outputs": [
    {
     "name": "stdout",
     "output_type": "stream",
     "text": [
      " Birt\n",
      "location:  10\n"
     ]
    }
   ],
   "source": [
    "# read mode : read()/readline()/readlines()\n",
    "# 1. read(): read the entire data from the file and \n",
    "# return the data in the form of string if size is not specified\n",
    "f = open('birthdaywishes.txt', 'r')\n",
    "\n",
    "data = f.read(5)\n",
    "\n",
    "data2 = f.read(5)\n",
    "loc = f.tell()\n",
    "print(data2)\n",
    "print('location: ', loc)\n",
    "f.close()"
   ]
  },
  {
   "cell_type": "code",
   "execution_count": 24,
   "metadata": {},
   "outputs": [
    {
     "name": "stdout",
     "output_type": "stream",
     "text": [
      "Happy Birt\n",
      "hday\n",
      "\n"
     ]
    }
   ],
   "source": [
    "# readline(): read the current line from the file and return the data in the form of string\n",
    "f = open('birthdaywishes.txt', 'r')\n",
    "data = f.readline(10)\n",
    "data2 = f.readline()\n",
    "# data3 = f.readline()\n",
    "print(data)\n",
    "print(data2) \n",
    "f.close()"
   ]
  },
  {
   "cell_type": "code",
   "execution_count": 39,
   "metadata": {},
   "outputs": [
    {
     "name": "stdout",
     "output_type": "stream",
     "text": [
      "location 10\n"
     ]
    }
   ],
   "source": [
    "# read mode : r/r+\n",
    "# 1. read()/readline()/readlines()\n",
    "'''\n",
    "open\n",
    "read/write\n",
    "closing\n",
    "'''\n",
    "# 1. read(): read the entire of the file and return the data in the forms of \n",
    "# string if size is not specified\n",
    "f = open('birthdaywishes.txt', 'r')\n",
    "\n",
    "data = f.read(5)\n",
    "data2 = f.read(5)\n",
    "loc = f.tell()\n",
    "# print(data2)\n",
    "print('location', loc)\n",
    "f.close()\n"
   ]
  },
  {
   "cell_type": "code",
   "execution_count": 52,
   "metadata": {},
   "outputs": [
    {
     "name": "stdout",
     "output_type": "stream",
     "text": [
      "Hap\n"
     ]
    }
   ],
   "source": [
    "# readline(): it will read the current line only and return data in the form of string \n",
    "f = open('birthdaywishes.txt', 'r')\n",
    "# rw_data = f.read(15)\n",
    "data = f.readline(3)\n",
    "print(data)\n",
    "f.close()"
   ]
  },
  {
   "cell_type": "code",
   "execution_count": 58,
   "metadata": {},
   "outputs": [
    {
     "name": "stdout",
     "output_type": "stream",
     "text": [
      "['Happy Birthday\\n', 'God Bless you\\n']\n"
     ]
    }
   ],
   "source": [
    "# readlines(): read the entire file and return the data in the form of list\n",
    "f = open('birthdaywishes.txt', 'r')\n",
    "data = f.readlines(15)\n",
    "print(data)\n",
    "f.close()"
   ]
  },
  {
   "cell_type": "code",
   "execution_count": 94,
   "metadata": {},
   "outputs": [],
   "source": [
    "# next()\n",
    "\n",
    "lst = map(float, range(1, 6))\n",
    "out = next(lst)\n",
    "# print(out)"
   ]
  },
  {
   "cell_type": "code",
   "execution_count": 99,
   "metadata": {},
   "outputs": [
    {
     "name": "stdout",
     "output_type": "stream",
     "text": [
      "Happy Birthday\n",
      "\n",
      "God Bless you\n",
      "\n"
     ]
    }
   ],
   "source": [
    "f = open('birthdaywishes.txt', 'r')\n",
    "for i in f:\n",
    "    print(i)"
   ]
  },
  {
   "cell_type": "code",
   "execution_count": 123,
   "metadata": {},
   "outputs": [],
   "source": [
    "# read()/readline()/readlines()\n",
    "# next()\n",
    "lt = map(float, [1, 2, 3, 4, 5])\n"
   ]
  },
  {
   "cell_type": "code",
   "execution_count": 136,
   "metadata": {},
   "outputs": [
    {
     "name": "stdout",
     "output_type": "stream",
     "text": [
      "['Happy', 'Birthday', 'God', 'Bless', 'you']\n"
     ]
    }
   ],
   "source": [
    "f = open('birthdaywishes.txt', 'r')\n",
    "data = f.read().split()\n",
    "print(data)\n",
    "f.close()    "
   ]
  },
  {
   "cell_type": "code",
   "execution_count": 128,
   "metadata": {},
   "outputs": [
    {
     "ename": "StopIteration",
     "evalue": "",
     "output_type": "error",
     "traceback": [
      "\u001b[1;31m---------------------------------------------------------------------------\u001b[0m",
      "\u001b[1;31mStopIteration\u001b[0m                             Traceback (most recent call last)",
      "\u001b[1;32mc:\\Users\\drami\\OneDrive\\Desktop\\GLA Classes\\Python Classes\\batch 2021-22\\python3.10.2\\Topic-wise basic programs\\file handling\\function_attributes.ipynb Cell 13'\u001b[0m in \u001b[0;36m<cell line: 1>\u001b[1;34m()\u001b[0m\n\u001b[1;32m----> <a href='vscode-notebook-cell:/c%3A/Users/drami/OneDrive/Desktop/GLA%20Classes/Python%20Classes/batch%202021-22/python3.10.2/Topic-wise%20basic%20programs/file%20handling/function_attributes.ipynb#ch0000012?line=0'>1</a>\u001b[0m \u001b[39mnext\u001b[39;49m(f)\n",
      "\u001b[1;31mStopIteration\u001b[0m: "
     ]
    }
   ],
   "source": []
  }
 ],
 "metadata": {
  "interpreter": {
   "hash": "490f1c68ed42f2c5a574e22fb9e03ff49b98516de8582ff1c5d4fb43fb70f61b"
  },
  "kernelspec": {
   "display_name": "Python 3.10.4 64-bit",
   "language": "python",
   "name": "python3"
  },
  "language_info": {
   "codemirror_mode": {
    "name": "ipython",
    "version": 3
   },
   "file_extension": ".py",
   "mimetype": "text/x-python",
   "name": "python",
   "nbconvert_exporter": "python",
   "pygments_lexer": "ipython3",
   "version": "3.10.4"
  },
  "orig_nbformat": 4
 },
 "nbformat": 4,
 "nbformat_minor": 2
}
