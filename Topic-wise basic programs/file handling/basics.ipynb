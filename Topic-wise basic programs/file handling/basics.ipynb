{
 "cells": [
  {
   "cell_type": "code",
   "execution_count": 2,
   "metadata": {},
   "outputs": [],
   "source": [
    "with open('abc.txt', 'w') as f:\n",
    "    print('Hello Python', file=f)\n",
    "    print('class', file=f)\n"
   ]
  },
  {
   "cell_type": "code",
   "execution_count": 5,
   "metadata": {},
   "outputs": [
    {
     "name": "stdout",
     "output_type": "stream",
     "text": [
      "['Hello Python', 'class']\n"
     ]
    }
   ],
   "source": [
    "with open('abc.txt') as f:\n",
    "    lst = list(map(lambda x: x[:-1],  f.readlines()))\n",
    "    print(lst)"
   ]
  },
  {
   "cell_type": "code",
   "execution_count": 14,
   "metadata": {},
   "outputs": [],
   "source": [
    "f = open('abc.txt')"
   ]
  },
  {
   "cell_type": "code",
   "execution_count": 15,
   "metadata": {},
   "outputs": [
    {
     "name": "stdout",
     "output_type": "stream",
     "text": [
      "Hello Python\n",
      "class\n"
     ]
    }
   ],
   "source": [
    "for i in f:\n",
    "    print(i, end='')"
   ]
  },
  {
   "cell_type": "code",
   "execution_count": null,
   "metadata": {},
   "outputs": [],
   "source": [
    "# New topic: File handling\n",
    "# reading and writing operations with files\n",
    "'''file handling is the process of reading and writing data to files.'''\n",
    "# what is file:\n",
    "'''\n",
    "file: just a information container that can be read and written.\n",
    "'''\n",
    "# type of file: \n",
    "'''\n",
    "1. text file \n",
    "2. binary file \n",
    "3. compressed file\n",
    "'''\n"
   ]
  },
  {
   "cell_type": "code",
   "execution_count": 42,
   "metadata": {},
   "outputs": [],
   "source": [
    "f = open(r'C:\\Users\\drami\\OneDrive\\Desktop\\sections\\data.mp4', 'w')\n",
    "for i in range(1, 11):\n",
    "    for j in range(1, 11):\n",
    "        print(i*j, end='\\t', file=f)\n",
    "    print(file=f) \n",
    "f.close()       "
   ]
  },
  {
   "cell_type": "code",
   "execution_count": 39,
   "metadata": {},
   "outputs": [
    {
     "name": "stdout",
     "output_type": "stream",
     "text": [
      "hello\\nworld\n"
     ]
    }
   ],
   "source": [
    "st = r'hello\\nworld'\n",
    "print(st)"
   ]
  },
  {
   "cell_type": "code",
   "execution_count": 22,
   "metadata": {},
   "outputs": [],
   "source": []
  },
  {
   "cell_type": "code",
   "execution_count": null,
   "metadata": {},
   "outputs": [],
   "source": [
    "# open(): the built-n function \n",
    "'''\n",
    "syntax:\n",
    "handler = open('filename', 'mode')\n",
    "mode:\n",
    "'r': read only \n",
    "'w': write only\n",
    "'a': write only in append mode\n",
    "'''"
   ]
  },
  {
   "cell_type": "code",
   "execution_count": 19,
   "metadata": {},
   "outputs": [
    {
     "name": "stdout",
     "output_type": "stream",
     "text": [
      "hello\\nworld\n"
     ]
    }
   ],
   "source": [
    "st = r'hello\\nworld'\n",
    "print(st)"
   ]
  },
  {
   "cell_type": "code",
   "execution_count": 26,
   "metadata": {},
   "outputs": [
    {
     "name": "stdout",
     "output_type": "stream",
     "text": [
      "file succesfully open for operation\n",
      "File saved\n"
     ]
    }
   ],
   "source": [
    "# f = open(filename, permision_mode)\n",
    "'''\n",
    "return the file handler f\n",
    "'''\n",
    "f = open('data.txt', 'w')\n",
    "if f.closed:\n",
    "    print('File not open')\n",
    "else:    \n",
    "    print('file succesfully open for operation')\n",
    "    f.write('This is my first line\\n')\n",
    "    f.write('This is my second line')\n",
    "    f.close()\n",
    "    if f.closed:\n",
    "        print('File saved')\n"
   ]
  },
  {
   "cell_type": "code",
   "execution_count": null,
   "metadata": {},
   "outputs": [],
   "source": []
  },
  {
   "cell_type": "code",
   "execution_count": 6,
   "metadata": {},
   "outputs": [],
   "source": [
    "# write operation in a file \n",
    "'''\n",
    "1. write(): write the data in the form of string\n",
    "2. writelines(): write the data of a list object(list of strings ) in to file \n",
    "'''\n",
    "f=open('birthdaywishes.txt','w')\n",
    "f.write('happy birthday manya\\n')\n",
    "f.write('God Bless you')\n",
    "f.close()"
   ]
  },
  {
   "cell_type": "code",
   "execution_count": 10,
   "metadata": {},
   "outputs": [],
   "source": [
    "# writelines() \n",
    "lst = ['Happy Birthday\\n', 'God Bless you\\n']\n",
    "f = open('birthdaywishes.txt', 'w')\n",
    "f.writelines(lst)\n",
    "f.close()\n"
   ]
  },
  {
   "cell_type": "code",
   "execution_count": 13,
   "metadata": {},
   "outputs": [
    {
     "name": "stdout",
     "output_type": "stream",
     "text": [
      " Birt\n"
     ]
    }
   ],
   "source": [
    "# read the data from file object \n",
    "'''\n",
    "1. read()\n",
    "2. readline()\n",
    "3. readlines()\n",
    "# next(f)\n",
    "# using for loop\n",
    "'''\n",
    "f = open('birthdaywishes.txt', 'r')\n",
    "data1 = f.read(5)\n",
    "data2 = f.read(5)\n",
    "print(data2)\n",
    "f.close()"
   ]
  },
  {
   "cell_type": "code",
   "execution_count": 23,
   "metadata": {},
   "outputs": [
    {
     "name": "stdout",
     "output_type": "stream",
     "text": [
      "py Birthday\n",
      "\n"
     ]
    }
   ],
   "source": [
    "# readline()\n",
    "f = open('birthdaywishes.txt', 'r')\n",
    "# out = f.read(3)\n",
    "data = f.readline(20)\n",
    "print(data)\n",
    "f.close()"
   ]
  },
  {
   "cell_type": "code",
   "execution_count": 32,
   "metadata": {},
   "outputs": [
    {
     "name": "stdout",
     "output_type": "stream",
     "text": [
      "['Happy Birthday\\n', 'God Bless you\\n']\n"
     ]
    }
   ],
   "source": [
    "# readlines()\n",
    "f = open('birthdaywishes.txt', 'r')\n",
    "lst = f.readlines(15)\n",
    "print(lst)\n",
    "f.close()"
   ]
  },
  {
   "cell_type": "code",
   "execution_count": null,
   "metadata": {},
   "outputs": [],
   "source": [
    "# next()\n",
    "# for loop"
   ]
  },
  {
   "cell_type": "code",
   "execution_count": 5,
   "metadata": {},
   "outputs": [
    {
     "name": "stdout",
     "output_type": "stream",
     "text": [
      "4\t6\tMultiplication\t24\tThu May 19 11:54:00 2022\n",
      "\n"
     ]
    }
   ],
   "source": [
    "with open('calci.txt', 'r') as f:\n",
    "    data = f.read()\n",
    "    print(data)\n"
   ]
  }
 ],
 "metadata": {
  "interpreter": {
   "hash": "490f1c68ed42f2c5a574e22fb9e03ff49b98516de8582ff1c5d4fb43fb70f61b"
  },
  "kernelspec": {
   "display_name": "Python 3.10.4 64-bit",
   "language": "python",
   "name": "python3"
  },
  "language_info": {
   "codemirror_mode": {
    "name": "ipython",
    "version": 3
   },
   "file_extension": ".py",
   "mimetype": "text/x-python",
   "name": "python",
   "nbconvert_exporter": "python",
   "pygments_lexer": "ipython3",
   "version": "3.10.4"
  },
  "orig_nbformat": 4
 },
 "nbformat": 4,
 "nbformat_minor": 2
}
