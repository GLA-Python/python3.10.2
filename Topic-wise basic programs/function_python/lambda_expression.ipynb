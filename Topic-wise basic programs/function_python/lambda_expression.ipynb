{
 "cells": [
  {
   "cell_type": "code",
   "execution_count": 34,
   "metadata": {},
   "outputs": [
    {
     "name": "stdout",
     "output_type": "stream",
     "text": [
      "15\n"
     ]
    }
   ],
   "source": [
    "# topic: lambda expression\n",
    "# or Annonymous Function \n",
    "# syntax\n",
    "# function_name = lambda parameter_list : return exression\n",
    "\n",
    "out = sum(3, 5)\n",
    "print(out)    \n",
    "del sum"
   ]
  },
  {
   "cell_type": "code",
   "execution_count": 7,
   "metadata": {},
   "outputs": [
    {
     "name": "stdout",
     "output_type": "stream",
     "text": [
      "-40.0\n"
     ]
    }
   ],
   "source": [
    "# lambda expression for C to F\n",
    "\n",
    "C2F = lambda x: (9 / 5) * x + 32\n",
    "\n",
    "out = C2F(-40)\n",
    "print(out)"
   ]
  },
  {
   "cell_type": "code",
   "execution_count": 14,
   "metadata": {},
   "outputs": [],
   "source": []
  },
  {
   "cell_type": "code",
   "execution_count": 17,
   "metadata": {},
   "outputs": [
    {
     "name": "stdout",
     "output_type": "stream",
     "text": [
      "[32, 63, 0, 4, 7]\n"
     ]
    }
   ],
   "source": [
    "lst = [34, 65, 2, 6, 9]\n",
    "out = map(lambda x:x-2 , lst)\n",
    "print(list(out))"
   ]
  },
  {
   "cell_type": "code",
   "execution_count": 19,
   "metadata": {},
   "outputs": [
    {
     "name": "stdout",
     "output_type": "stream",
     "text": [
      "['ankur', 'anubhav', 'shubham', 'venktash']\n"
     ]
    }
   ],
   "source": [
    "# use of lambda in sorting \n",
    "\n",
    "lst = ['shubham', 'anubhav', 'venktash', 'ankur']\n",
    "lst.sort()\n",
    "print(lst)"
   ]
  },
  {
   "cell_type": "code",
   "execution_count": 20,
   "metadata": {},
   "outputs": [
    {
     "name": "stdout",
     "output_type": "stream",
     "text": [
      "['ankur', 'shubham', 'anubhav', 'venktash']\n"
     ]
    }
   ],
   "source": [
    "# customize sorting : sorting based on length of string \n",
    "lst = ['shubham', 'anubhav', 'venktash', 'ankur']\n",
    "lst.sort(key=len)\n",
    "print(lst)"
   ]
  },
  {
   "cell_type": "code",
   "execution_count": 23,
   "metadata": {},
   "outputs": [
    {
     "name": "stdout",
     "output_type": "stream",
     "text": [
      "['venktash', 'shubham', 'ankur', 'anubhav']\n"
     ]
    }
   ],
   "source": [
    "# customize sorting : sorting based on last char of the string\n",
    "\n",
    "lst = ['shubham', 'anubhav', 'venktash', 'ankur']\n",
    "lst.sort(key=lambda x : x[-1])\n",
    "print(lst)"
   ]
  },
  {
   "cell_type": "code",
   "execution_count": 35,
   "metadata": {},
   "outputs": [
    {
     "name": "stdout",
     "output_type": "stream",
     "text": [
      "['anubhav', 'shubham', 'ankurzz', 'venktash']\n"
     ]
    }
   ],
   "source": [
    "# customize sorting : sorting based on ascii-weight\n",
    "\n",
    "lst = ['shubham', 'anubhav', 'venktash', 'ankurzz']\n",
    "lst.sort(key=lambda x : sum ([ord(i) for i in x]))\n",
    "print(lst)\n",
    "\n",
    "# 667379\n"
   ]
  },
  {
   "cell_type": "code",
   "execution_count": 33,
   "metadata": {},
   "outputs": [
    {
     "ename": "TypeError",
     "evalue": "<lambda>() missing 1 required positional argument: 'y'",
     "output_type": "error",
     "traceback": [
      "\u001b[1;31m---------------------------------------------------------------------------\u001b[0m",
      "\u001b[1;31mTypeError\u001b[0m                                 Traceback (most recent call last)",
      "\u001b[1;32mc:\\Users\\drami\\OneDrive\\Desktop\\GLA Classes\\Python Classes\\batch 2021-22\\python3.10.2\\Topic-wise basic programs\\function_python\\lambda_expression.ipynb Cell 9'\u001b[0m in \u001b[0;36m<cell line: 5>\u001b[1;34m()\u001b[0m\n\u001b[0;32m      <a href='vscode-notebook-cell:/c%3A/Users/drami/OneDrive/Desktop/GLA%20Classes/Python%20Classes/batch%202021-22/python3.10.2/Topic-wise%20basic%20programs/function_python/lambda_expression.ipynb#ch0000009?line=1'>2</a>\u001b[0m     \u001b[39mreturn\u001b[39;00m \u001b[39msum\u001b[39m([\u001b[39mord\u001b[39m(i) \u001b[39mfor\u001b[39;00m i \u001b[39min\u001b[39;00m x])\n\u001b[0;32m      <a href='vscode-notebook-cell:/c%3A/Users/drami/OneDrive/Desktop/GLA%20Classes/Python%20Classes/batch%202021-22/python3.10.2/Topic-wise%20basic%20programs/function_python/lambda_expression.ipynb#ch0000009?line=3'>4</a>\u001b[0m lst \u001b[39m=\u001b[39m [\u001b[39m'\u001b[39m\u001b[39mshubham\u001b[39m\u001b[39m'\u001b[39m, \u001b[39m'\u001b[39m\u001b[39manubhav\u001b[39m\u001b[39m'\u001b[39m, \u001b[39m'\u001b[39m\u001b[39mvenktash\u001b[39m\u001b[39m'\u001b[39m, \u001b[39m'\u001b[39m\u001b[39mankurzz\u001b[39m\u001b[39m'\u001b[39m]\n\u001b[1;32m----> <a href='vscode-notebook-cell:/c%3A/Users/drami/OneDrive/Desktop/GLA%20Classes/Python%20Classes/batch%202021-22/python3.10.2/Topic-wise%20basic%20programs/function_python/lambda_expression.ipynb#ch0000009?line=4'>5</a>\u001b[0m lst\u001b[39m.\u001b[39;49msort(key\u001b[39m=\u001b[39;49mascii_sum)\n\u001b[0;32m      <a href='vscode-notebook-cell:/c%3A/Users/drami/OneDrive/Desktop/GLA%20Classes/Python%20Classes/batch%202021-22/python3.10.2/Topic-wise%20basic%20programs/function_python/lambda_expression.ipynb#ch0000009?line=5'>6</a>\u001b[0m \u001b[39mprint\u001b[39m(lst)\n",
      "\u001b[1;32mc:\\Users\\drami\\OneDrive\\Desktop\\GLA Classes\\Python Classes\\batch 2021-22\\python3.10.2\\Topic-wise basic programs\\function_python\\lambda_expression.ipynb Cell 9'\u001b[0m in \u001b[0;36mascii_sum\u001b[1;34m(x)\u001b[0m\n\u001b[0;32m      <a href='vscode-notebook-cell:/c%3A/Users/drami/OneDrive/Desktop/GLA%20Classes/Python%20Classes/batch%202021-22/python3.10.2/Topic-wise%20basic%20programs/function_python/lambda_expression.ipynb#ch0000009?line=0'>1</a>\u001b[0m \u001b[39mdef\u001b[39;00m \u001b[39mascii_sum\u001b[39m(x):\n\u001b[1;32m----> <a href='vscode-notebook-cell:/c%3A/Users/drami/OneDrive/Desktop/GLA%20Classes/Python%20Classes/batch%202021-22/python3.10.2/Topic-wise%20basic%20programs/function_python/lambda_expression.ipynb#ch0000009?line=1'>2</a>\u001b[0m     \u001b[39mreturn\u001b[39;00m \u001b[39msum\u001b[39;49m([\u001b[39mord\u001b[39;49m(i) \u001b[39mfor\u001b[39;49;00m i \u001b[39min\u001b[39;49;00m x])\n",
      "\u001b[1;31mTypeError\u001b[0m: <lambda>() missing 1 required positional argument: 'y'"
     ]
    }
   ],
   "source": [
    "def ascii_sum(x):\n",
    "    return sum([ord(i) for i in x])\n",
    "\n",
    "lst = ['shubham', 'anubhav', 'venktash', 'ankurzz']\n",
    "lst.sort(key=ascii_sum)\n",
    "print(lst)"
   ]
  },
  {
   "cell_type": "code",
   "execution_count": 24,
   "metadata": {},
   "outputs": [
    {
     "name": "stdout",
     "output_type": "stream",
     "text": [
      "800\n"
     ]
    }
   ],
   "source": [
    "def ascii_sum(st):\n",
    "    s = 0\n",
    "    for i in st:\n",
    "        s += ord(i)\n",
    "    return s    \n",
    "s = 'Gajender'\n",
    "print(ascii_sum(s))\n"
   ]
  },
  {
   "cell_type": "code",
   "execution_count": null,
   "metadata": {},
   "outputs": [],
   "source": [
    "'''\n",
    "Topic: Anonymous Function\n",
    "lambda function or lambda expression \n",
    "\n",
    "'''"
   ]
  },
  {
   "cell_type": "code",
   "execution_count": 1,
   "metadata": {},
   "outputs": [
    {
     "name": "stdout",
     "output_type": "stream",
     "text": [
      "8\n"
     ]
    }
   ],
   "source": [
    "# def add(a,b):\n",
    "#     return a+b\n",
    "\n",
    "add = lambda a, b: a + b    \n",
    "'''\n",
    "collable_variable = lambda argv_list : return_expression\n",
    "'''\n",
    "out = add(3, 5)\n",
    "print(out)"
   ]
  },
  {
   "cell_type": "code",
   "execution_count": 2,
   "metadata": {},
   "outputs": [
    {
     "name": "stdout",
     "output_type": "stream",
     "text": [
      "-40.0\n"
     ]
    }
   ],
   "source": [
    "# lambda function C to F\n",
    "# def c2f(c):\n",
    "#     return 1.8 * c + 32\n",
    "\n",
    "c2f = lambda c : 1.8 * c + 32\n",
    "\n",
    "out = c2f(-40)\n",
    "\n",
    "print(out)"
   ]
  },
  {
   "cell_type": "code",
   "execution_count": 10,
   "metadata": {},
   "outputs": [
    {
     "name": "stdout",
     "output_type": "stream",
     "text": [
      "[2, 54, 32, 21, 0]\n"
     ]
    }
   ],
   "source": [
    "# use of lambda in map()\n",
    "\n",
    "ls = [4, 56, 34, 23, 2]\n",
    "out = map(lambda x : x - 2, ls)\n",
    "print(list(out))\n"
   ]
  },
  {
   "cell_type": "code",
   "execution_count": 15,
   "metadata": {},
   "outputs": [
    {
     "name": "stdout",
     "output_type": "stream",
     "text": [
      "['ana', 'anand', 'venktash', 'shubham', 'anubhav']\n"
     ]
    }
   ],
   "source": [
    "# use of lambda in sorting \n",
    "\n",
    "lst = ['anand', 'shubham', 'anubhav', 'venktash', 'ana']\n",
    "lst.sort(key=lambda x:x[-1])\n",
    "print(lst)"
   ]
  },
  {
   "cell_type": "code",
   "execution_count": 17,
   "metadata": {},
   "outputs": [
    {
     "name": "stdout",
     "output_type": "stream",
     "text": [
      "44\n"
     ]
    }
   ],
   "source": [
    "# Topic: Anonymous Function or lambda function\n",
    "'''\n",
    "syntax :\n",
    "\n",
    "collable_variable = lambda argvs : return_expression\n",
    "\n",
    "'''\n",
    "# def sum(a, b) :\n",
    "#     return a + b\n",
    "\n",
    "sum = lambda a, b: a + b\n",
    "\n",
    "out = sum(10, 34)\n",
    "print(out)"
   ]
  },
  {
   "cell_type": "code",
   "execution_count": 18,
   "metadata": {},
   "outputs": [
    {
     "name": "stdout",
     "output_type": "stream",
     "text": [
      "-40.0\n"
     ]
    }
   ],
   "source": [
    "# lambda function C to F\n",
    "\n",
    "c2f = lambda c: 1.8 * c + 32\n",
    "out = c2f(-40)\n",
    "print(out)"
   ]
  },
  {
   "cell_type": "code",
   "execution_count": 26,
   "metadata": {},
   "outputs": [
    {
     "name": "stdout",
     "output_type": "stream",
     "text": [
      "[-8, 34, -10, 35]\n"
     ]
    }
   ],
   "source": [
    "# use of lambda in map \n",
    "\n",
    "lst = [2, 44, 0, 45]\n",
    "out = map(lambda x: x-10, lst)\n",
    "print(list(out))\n",
    "\n"
   ]
  },
  {
   "cell_type": "code",
   "execution_count": 27,
   "metadata": {},
   "outputs": [
    {
     "name": "stdout",
     "output_type": "stream",
     "text": [
      "['o', 'd', 'a']\n"
     ]
    }
   ],
   "source": [
    "lst = ['hello', 'world', 'gla']\n",
    "out = map(lambda x:x[-1], lst)\n",
    "print(list(out))"
   ]
  },
  {
   "cell_type": "code",
   "execution_count": 43,
   "metadata": {},
   "outputs": [
    {
     "data": {
      "text/plain": [
       "2"
      ]
     },
     "execution_count": 43,
     "metadata": {},
     "output_type": "execute_result"
    }
   ],
   "source": [
    "# use of lambda in filter \n",
    "\n",
    "lst = [1, 2, 3, 4, 5, 6, 7, 8]\n",
    "out = filter(lambda x: x%2==0, lst)\n",
    "next(out)"
   ]
  },
  {
   "cell_type": "code",
   "execution_count": 51,
   "metadata": {},
   "outputs": [
    {
     "name": "stdout",
     "output_type": "stream",
     "text": [
      "['zoya', 'venktash', 'anu', 'Anubhav']\n"
     ]
    }
   ],
   "source": [
    "'use of lambda in sorting '\n",
    "\n",
    "lst = ['Anubhav', 'zoya', 'venktash', 'anu']\n",
    "lst.sort(key=lambda x: x[-1])\n",
    "print(lst)"
   ]
  },
  {
   "cell_type": "code",
   "execution_count": 57,
   "metadata": {},
   "outputs": [
    {
     "name": "stdout",
     "output_type": "stream",
     "text": [
      "['anu', 'zoya', 'Anubhav', 'venktash']\n"
     ]
    }
   ],
   "source": [
    "# sort the list of string with ascii-weight of string \n",
    "\n",
    "lst = ['Anubhav', 'zoya', 'venktash', 'anu']\n",
    "lst.sort(key=lambda x: sum([ord(i) for i in x]))\n",
    "print(lst)\n"
   ]
  },
  {
   "cell_type": "code",
   "execution_count": null,
   "metadata": {},
   "outputs": [],
   "source": [
    "\n"
   ]
  }
 ],
 "metadata": {
  "interpreter": {
   "hash": "e65f2adb31837d233cc97b3b943d57fac211464870b834ca167e6cf16cdc309b"
  },
  "kernelspec": {
   "display_name": "Python 3.10.4 64-bit",
   "language": "python",
   "name": "python3"
  },
  "language_info": {
   "codemirror_mode": {
    "name": "ipython",
    "version": 3
   },
   "file_extension": ".py",
   "mimetype": "text/x-python",
   "name": "python",
   "nbconvert_exporter": "python",
   "pygments_lexer": "ipython3",
   "version": "3.10.4"
  },
  "orig_nbformat": 4
 },
 "nbformat": 4,
 "nbformat_minor": 2
}
