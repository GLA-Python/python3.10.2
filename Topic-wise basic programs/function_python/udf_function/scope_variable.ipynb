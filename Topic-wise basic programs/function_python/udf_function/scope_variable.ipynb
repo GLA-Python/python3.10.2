{
 "cells": [
  {
   "cell_type": "code",
   "execution_count": 5,
   "metadata": {},
   "outputs": [
    {
     "name": "stdout",
     "output_type": "stream",
     "text": [
      "100\n"
     ]
    }
   ],
   "source": [
    "def greet():\n",
    "    a = 10  # local variable \n",
    "\n",
    "a = 100  # global variable \n",
    "greet()\n",
    "print(a)"
   ]
  },
  {
   "cell_type": "code",
   "execution_count": 12,
   "metadata": {},
   "outputs": [
    {
     "name": "stdout",
     "output_type": "stream",
     "text": [
      "4\n",
      "1\n",
      "1\n",
      "99\n"
     ]
    }
   ],
   "source": [
    "def greet():\n",
    "    def function1():\n",
    "        a = 0\n",
    "    def function2():\n",
    "        nonlocal a\n",
    "        a = 1\n",
    "    def function3():\n",
    "        global a\n",
    "        a = 99\n",
    "    a = 4\n",
    "    function1()\n",
    "    print(a)\n",
    "    function2()\n",
    "    print(a)\n",
    "    function3()\n",
    "    print(a)        \n",
    "\n",
    "a = 100  # global variable \n",
    "greet()\n",
    "print(a)"
   ]
  },
  {
   "cell_type": "code",
   "execution_count": 2,
   "metadata": {},
   "outputs": [
    {
     "name": "stdout",
     "output_type": "stream",
     "text": [
      "100\n"
     ]
    }
   ],
   "source": []
  }
 ],
 "metadata": {
  "interpreter": {
   "hash": "e65f2adb31837d233cc97b3b943d57fac211464870b834ca167e6cf16cdc309b"
  },
  "kernelspec": {
   "display_name": "Python 3.10.4 64-bit",
   "language": "python",
   "name": "python3"
  },
  "language_info": {
   "codemirror_mode": {
    "name": "ipython",
    "version": 3
   },
   "file_extension": ".py",
   "mimetype": "text/x-python",
   "name": "python",
   "nbconvert_exporter": "python",
   "pygments_lexer": "ipython3",
   "version": "3.10.4"
  },
  "orig_nbformat": 4
 },
 "nbformat": 4,
 "nbformat_minor": 2
}
