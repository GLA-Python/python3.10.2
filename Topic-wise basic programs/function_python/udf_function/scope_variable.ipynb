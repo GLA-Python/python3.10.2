{
 "cells": [
  {
   "cell_type": "code",
   "execution_count": 5,
   "metadata": {},
   "outputs": [
    {
     "name": "stdout",
     "output_type": "stream",
     "text": [
      "100\n"
     ]
    }
   ],
   "source": [
    "def greet():\n",
    "    a = 10  # local variable \n",
    "\n",
    "a = 100  # global variable \n",
    "greet()\n",
    "print(a)"
   ]
  },
  {
   "cell_type": "code",
   "execution_count": 12,
   "metadata": {},
   "outputs": [
    {
     "name": "stdout",
     "output_type": "stream",
     "text": [
      "4\n",
      "1\n",
      "1\n",
      "99\n"
     ]
    }
   ],
   "source": [
    "def greet():\n",
    "    def function1():\n",
    "        a = 0\n",
    "    def function2():\n",
    "        nonlocal a\n",
    "        a = 1\n",
    "    def function3():\n",
    "        global a\n",
    "        a = 99\n",
    "    a = 4\n",
    "    function1()\n",
    "    print(a)\n",
    "    function2()\n",
    "    print(a)\n",
    "    function3()\n",
    "    print(a)        \n",
    "\n",
    "a = 100  # global variable \n",
    "greet()\n",
    "print(a)"
   ]
  },
  {
   "cell_type": "code",
   "execution_count": 2,
   "metadata": {},
   "outputs": [
    {
     "name": "stdout",
     "output_type": "stream",
     "text": [
      "100\n"
     ]
    }
   ],
   "source": []
  },
  {
   "cell_type": "code",
   "execution_count": 4,
   "metadata": {},
   "outputs": [],
   "source": [
    "'''\n",
    "Variable scope in Python\n",
    "1. local\n",
    "2. global\n",
    "3. nonlocal \n",
    "\n",
    "'''\n",
    "del a "
   ]
  },
  {
   "cell_type": "code",
   "execution_count": 10,
   "metadata": {},
   "outputs": [
    {
     "name": "stdout",
     "output_type": "stream",
     "text": [
      "34\n",
      "200\n",
      "200\n",
      "1\n"
     ]
    }
   ],
   "source": [
    "def fun():\n",
    "    def fun1():\n",
    "        print(a)\n",
    "    def fun2():\n",
    "        nonlocal a\n",
    "        a = 200\n",
    "    def fun3():\n",
    "        global a\n",
    "        a = 1\n",
    "    a = 34\n",
    "    fun1()\n",
    "    print(a)\n",
    "    fun2()\n",
    "    print(a)\n",
    "    fun3()\n",
    "    print(a)            \n",
    "a = 100  # global variable \n",
    "fun()\n",
    "print(a)"
   ]
  },
  {
   "cell_type": "code",
   "execution_count": 16,
   "metadata": {},
   "outputs": [
    {
     "name": "stdout",
     "output_type": "stream",
     "text": [
      "Unsorted\n"
     ]
    }
   ],
   "source": [
    "def issorted(lst: list)->bool:\n",
    "    # logic here\n",
    "    return  lst in [sorted(lst),  sorted(lst, reverse=True)]\n",
    "     \n",
    "\n",
    "if __name__ == '__main__':\n",
    "    arr = [4, 5, 6, 56, 1]  # user data\n",
    "    out = issorted(arr)\n",
    "    print('Sorted' if out else 'Unsorted')\n"
   ]
  },
  {
   "cell_type": "code",
   "execution_count": 19,
   "metadata": {},
   "outputs": [],
   "source": [
    "# variable scope in Python\n",
    "'''\n",
    "There are three type of variable scope in Python\n",
    "1. local \n",
    "2. global \n",
    "3. nonlocal \n",
    "'''\n",
    "del a"
   ]
  },
  {
   "cell_type": "code",
   "execution_count": 23,
   "metadata": {},
   "outputs": [
    {
     "name": "stdout",
     "output_type": "stream",
     "text": [
      "0\n"
     ]
    }
   ],
   "source": [
    "def function():\n",
    "    def fun1():\n",
    "        a = 0\n",
    "    def fun2():\n",
    "        nonlocal a\n",
    "        a = 35\n",
    "    def fun3():\n",
    "        global a\n",
    "        a = 33    \n",
    "        \n",
    "    a = 10  # nonlocal variable\n",
    "    fun1()\n",
    "    print(a)\n",
    "    fun2()\n",
    "    print(a)\n",
    "    fun3()\n",
    "    print(a)\n",
    "a = 100  # global \n",
    "function()\n",
    "print(a)  \n",
    "\n"
   ]
  },
  {
   "cell_type": "code",
   "execution_count": null,
   "metadata": {},
   "outputs": [],
   "source": [
    "def count_cv(word):\n",
    "    # logic here \n",
    "    vow=0\n",
    "    cow=0\n",
    "    for i  in word.lower():\n",
    "        if i in 'aeiou':\n",
    "            vow+=1\n",
    "        elif 'a'<=i<='z':\n",
    "            cow+=1\n",
    "    \n",
    "    return vow, cow \n",
    "\n",
    "st = input('Enter the word')\n",
    "out = count_cv(st)\n",
    "print(out)"
   ]
  },
  {
   "cell_type": "code",
   "execution_count": 3,
   "metadata": {},
   "outputs": [],
   "source": [
    "# variable scope in Python \n",
    "'''\n",
    "There are three type of variable scope in Python\n",
    "1. local\n",
    "2. global \n",
    "3. nonlocal \n",
    "\n",
    "'''\n",
    "del a "
   ]
  },
  {
   "cell_type": "code",
   "execution_count": 12,
   "metadata": {},
   "outputs": [
    {
     "name": "stdout",
     "output_type": "stream",
     "text": [
      "33\n",
      "34\n",
      "34\n",
      "123\n"
     ]
    }
   ],
   "source": [
    "def add():\n",
    "    def fun1():\n",
    "        a = 0  # local \n",
    "    def fun2():\n",
    "        nonlocal a\n",
    "        a = 34\n",
    "    def fun3():\n",
    "        global a\n",
    "        a = 123\n",
    "    a = 33  # nonlocal \n",
    "    fun1()\n",
    "    print(a)\n",
    "    fun2()\n",
    "    print(a)\n",
    "    fun3() \n",
    "    print(a)       \n",
    "a = 10  # global variable \n",
    "add()\n",
    "print(a)\n"
   ]
  }
 ],
 "metadata": {
  "interpreter": {
   "hash": "e65f2adb31837d233cc97b3b943d57fac211464870b834ca167e6cf16cdc309b"
  },
  "kernelspec": {
   "display_name": "Python 3.10.4 64-bit",
   "language": "python",
   "name": "python3"
  },
  "language_info": {
   "codemirror_mode": {
    "name": "ipython",
    "version": 3
   },
   "file_extension": ".py",
   "mimetype": "text/x-python",
   "name": "python",
   "nbconvert_exporter": "python",
   "pygments_lexer": "ipython3",
   "version": "3.10.4"
  },
  "orig_nbformat": 4
 },
 "nbformat": 4,
 "nbformat_minor": 2
}
