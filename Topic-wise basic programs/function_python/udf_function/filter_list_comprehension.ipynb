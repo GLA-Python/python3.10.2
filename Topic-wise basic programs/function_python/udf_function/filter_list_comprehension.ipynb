{
 "cells": [
  {
   "cell_type": "code",
   "execution_count": 1,
   "metadata": {},
   "outputs": [],
   "source": [
    "def prime(x: int)->bool:\n",
    "    'function for prime number return True/False'\n",
    "    for i in range(2, x):\n",
    "        if x % i == 0:\n",
    "            return False\n",
    "    return True         \n"
   ]
  },
  {
   "cell_type": "code",
   "execution_count": 4,
   "metadata": {},
   "outputs": [
    {
     "name": "stdout",
     "output_type": "stream",
     "text": [
      "Prime Numbers [2, 3, 5, 7, 11]\n",
      "Non Prime Numbers [4, 6, 8, 9]\n"
     ]
    }
   ],
   "source": [
    "# filter all prime numbers from given list(using list comprehension)\n",
    "\n",
    "lst = [2, 3, 4, 5, 6, 7, 8, 9, 11]\n",
    "out1 = [i for i in lst if prime(i)]  # [exp for i in seq if condition]\n",
    "out2 = [i for i in lst if not prime(i)]\n",
    "\n",
    "print('Prime Numbers', out1)\n",
    "print('Non Prime Numbers', out2)"
   ]
  },
  {
   "cell_type": "code",
   "execution_count": 8,
   "metadata": {},
   "outputs": [],
   "source": [
    "def apna_function(x):\n",
    "    return x > 10"
   ]
  },
  {
   "cell_type": "code",
   "execution_count": 11,
   "metadata": {},
   "outputs": [
    {
     "name": "stdout",
     "output_type": "stream",
     "text": [
      "[30, 11]\n"
     ]
    }
   ],
   "source": [
    "# filter vs map\n",
    "lst = [2, 30, 4, 5, 6, 7, 8, 9, 11]\n",
    "out = list(filter(apna_function, lst))\n",
    "print(out)\n"
   ]
  },
  {
   "cell_type": "code",
   "execution_count": null,
   "metadata": {},
   "outputs": [],
   "source": [
    "_ = 'Hi'"
   ]
  },
  {
   "cell_type": "code",
   "execution_count": 17,
   "metadata": {},
   "outputs": [
    {
     "name": "stdout",
     "output_type": "stream",
     "text": [
      "Hello Python\n",
      "\n"
     ]
    }
   ],
   "source": [
    "print('Hello Python')\n",
    "print(_)"
   ]
  }
 ],
 "metadata": {
  "interpreter": {
   "hash": "e65f2adb31837d233cc97b3b943d57fac211464870b834ca167e6cf16cdc309b"
  },
  "kernelspec": {
   "display_name": "Python 3.10.4 64-bit",
   "language": "python",
   "name": "python3"
  },
  "language_info": {
   "codemirror_mode": {
    "name": "ipython",
    "version": 3
   },
   "file_extension": ".py",
   "mimetype": "text/x-python",
   "name": "python",
   "nbconvert_exporter": "python",
   "pygments_lexer": "ipython3",
   "version": "3.10.4"
  },
  "orig_nbformat": 4
 },
 "nbformat": 4,
 "nbformat_minor": 2
}
