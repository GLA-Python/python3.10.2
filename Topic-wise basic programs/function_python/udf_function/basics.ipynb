{
 "cells": [
  {
   "cell_type": "code",
   "execution_count": 1,
   "metadata": {},
   "outputs": [],
   "source": [
    "# functions\n",
    "'''\n",
    "1. built-in  : len(), sorted()\n",
    "2. user define : custum\n",
    "'''\n",
    "def prime(a):\n",
    "    for i in range(2, a):\n",
    "        if a % i == 0:\n",
    "            return 'Not Prime'\n",
    "    return 'Prime'\n",
    "\n",
    "def perfect(a):\n",
    "    s = 0\n",
    "    for i in range(1, a):\n",
    "        if a % i == 0:\n",
    "            s += i\n",
    "\n",
    "    return 'Perfect number' if s == a else 'Not Perfect number'\n"
   ]
  },
  {
   "cell_type": "code",
   "execution_count": 2,
   "metadata": {},
   "outputs": [
    {
     "name": "stdout",
     "output_type": "stream",
     "text": [
      "Not Prime\n",
      "Perfect number\n"
     ]
    }
   ],
   "source": [
    "\n",
    "\n",
    "num = int(input())\n",
    "out1 = prime(num)\n",
    "out2 = perfect(num)\n",
    "print(out1)\n",
    "print(out2)\n"
   ]
  },
  {
   "cell_type": "code",
   "execution_count": 4,
   "metadata": {},
   "outputs": [
    {
     "name": "stdout",
     "output_type": "stream",
     "text": [
      "{2: 4, 4: 16, 16: 256, 256: 65536, 65536: 4294967296}\n"
     ]
    }
   ],
   "source": [
    "i = 2\n",
    "dct = {}\n",
    "count =0\n",
    "while count < 5:\n",
    "    v = i ** 2\n",
    "    dct[i] = v\n",
    "    i = v\n",
    "    count += 1\n",
    "\n",
    "print(dct)\n"
   ]
  },
  {
   "cell_type": "code",
   "execution_count": 10,
   "metadata": {},
   "outputs": [],
   "source": [
    "def info(x):\n",
    "    print(f'Name: {x}')\n",
    "    print('University: GLA')\n",
    "    print('Branch ECE(Minor CS)')\n",
    "\n"
   ]
  },
  {
   "cell_type": "code",
   "execution_count": 12,
   "metadata": {},
   "outputs": [
    {
     "name": "stdout",
     "output_type": "stream",
     "text": [
      "Name: Vikash\n",
      "University: GLA\n",
      "Branch ECE(Minor CS)\n",
      "Name: Ankit\n",
      "University: GLA\n",
      "Branch ECE(Minor CS)\n",
      "Name: Shubham\n",
      "University: GLA\n",
      "Branch ECE(Minor CS)\n"
     ]
    }
   ],
   "source": [
    "info('Vikash')\n",
    "info('Ankit')\n",
    "info('Shubham')"
   ]
  },
  {
   "cell_type": "code",
   "execution_count": 24,
   "metadata": {},
   "outputs": [
    {
     "name": "stdout",
     "output_type": "stream",
     "text": [
      "['o', 'l', 'l', 'h', 'e']\n"
     ]
    }
   ],
   "source": [
    "st = 'hello'\n",
    "st = sorted(st, reverse=True)\n",
    "print(st)\n"
   ]
  }
 ],
 "metadata": {
  "interpreter": {
   "hash": "e65f2adb31837d233cc97b3b943d57fac211464870b834ca167e6cf16cdc309b"
  },
  "kernelspec": {
   "display_name": "Python 3.10.4 64-bit",
   "language": "python",
   "name": "python3"
  },
  "language_info": {
   "codemirror_mode": {
    "name": "ipython",
    "version": 3
   },
   "file_extension": ".py",
   "mimetype": "text/x-python",
   "name": "python",
   "nbconvert_exporter": "python",
   "pygments_lexer": "ipython3",
   "version": "3.10.4"
  },
  "orig_nbformat": 4
 },
 "nbformat": 4,
 "nbformat_minor": 2
}
