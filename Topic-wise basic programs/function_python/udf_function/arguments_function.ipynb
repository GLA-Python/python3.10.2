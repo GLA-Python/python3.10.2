{
 "cells": [
  {
   "cell_type": "code",
   "execution_count": null,
   "metadata": {},
   "outputs": [],
   "source": [
    "'''\n",
    "1. With arguments No Return - print()\n",
    "2. With arguments With Return - min()/max()/len()/sum().... \n",
    "3. Without arguments With return - input()/random()\n",
    "4. Without arguments without Return - display_info()/referesh()\n",
    "'''"
   ]
  },
  {
   "cell_type": "code",
   "execution_count": null,
   "metadata": {},
   "outputs": [],
   "source": [
    "# arguments in a function\n",
    "'''\n",
    "1. Positional Arguments\n",
    "    1. Optional Positional Arguments(Arbitrary Parameters)\n",
    "2. Keywords Arguments\n",
    "    1. Optional Keywords Arguments\n",
    "3. Deafult Arguments\n",
    "'''"
   ]
  },
  {
   "cell_type": "code",
   "execution_count": 17,
   "metadata": {},
   "outputs": [],
   "source": [
    "def add(b, a=0):\n",
    "    return a + b"
   ]
  },
  {
   "cell_type": "code",
   "execution_count": 19,
   "metadata": {},
   "outputs": [
    {
     "data": {
      "text/plain": [
       "10"
      ]
     },
     "execution_count": 19,
     "metadata": {},
     "output_type": "execute_result"
    }
   ],
   "source": [
    "num1 = 10\n",
    "num2 = 20\n",
    "add(num1)"
   ]
  },
  {
   "cell_type": "code",
   "execution_count": 32,
   "metadata": {},
   "outputs": [
    {
     "name": "stdout",
     "output_type": "stream",
     "text": [
      "17\n"
     ]
    }
   ],
   "source": [
    "def optional_sum(*c, d):\n",
    "    s = 0\n",
    "    for i in c:\n",
    "        s += i\n",
    "    return s\n",
    "\n",
    "\n",
    "out = optional_sum(4, 6, 7, d=(10, 4))\n",
    "print(out)"
   ]
  },
  {
   "cell_type": "code",
   "execution_count": 50,
   "metadata": {},
   "outputs": [],
   "source": [
    "def info(**kw):\n",
    "    st = f'''\n",
    "    Name: {kw.get('name')}\n",
    "    CPI: {kw.get('cpi')}\n",
    "    Roll Number: {kw.get('rolln')}\n",
    "    Section: {kw.get('sec')}\n",
    "    '''\n",
    "    return st"
   ]
  },
  {
   "cell_type": "code",
   "execution_count": 51,
   "metadata": {},
   "outputs": [
    {
     "name": "stdout",
     "output_type": "stream",
     "text": [
      "\n",
      "    Name: Rahul\n",
      "    CPI: None\n",
      "    Roll Number: None\n",
      "    Section: J\n",
      "    \n"
     ]
    }
   ],
   "source": [
    "dct = {'name':'Rahul', 'sec': 'J', 'rolln': 45}\n",
    "x = info(**dct)\n",
    "print(x)"
   ]
  }
 ],
 "metadata": {
  "interpreter": {
   "hash": "e65f2adb31837d233cc97b3b943d57fac211464870b834ca167e6cf16cdc309b"
  },
  "kernelspec": {
   "display_name": "Python 3.10.4 64-bit",
   "language": "python",
   "name": "python3"
  },
  "language_info": {
   "codemirror_mode": {
    "name": "ipython",
    "version": 3
   },
   "file_extension": ".py",
   "mimetype": "text/x-python",
   "name": "python",
   "nbconvert_exporter": "python",
   "pygments_lexer": "ipython3",
   "version": "3.10.4"
  },
  "orig_nbformat": 4
 },
 "nbformat": 4,
 "nbformat_minor": 2
}
