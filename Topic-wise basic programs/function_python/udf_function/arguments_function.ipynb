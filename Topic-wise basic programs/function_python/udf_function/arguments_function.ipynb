{
 "cells": [
  {
   "cell_type": "code",
   "execution_count": null,
   "metadata": {},
   "outputs": [],
   "source": [
    "'''\n",
    "1. With arguments No Return - print()\n",
    "2. With arguments With Return - min()/max()/len()/sum().... \n",
    "3. Without arguments With return - input()/random()\n",
    "4. Without arguments without Return - display_info()/referesh()\n",
    "'''"
   ]
  },
  {
   "cell_type": "code",
   "execution_count": null,
   "metadata": {},
   "outputs": [],
   "source": [
    "# arguments in a function\n",
    "'''\n",
    "1. Positional Arguments\n",
    "    1. Optional Positional Arguments(Arbitrary Parameters)\n",
    "2. Keywords Arguments\n",
    "    1. Optional Keywords Arguments\n",
    "3. Deafult Arguments\n",
    "'''"
   ]
  },
  {
   "cell_type": "code",
   "execution_count": 15,
   "metadata": {},
   "outputs": [],
   "source": [
    "def info(name, rolln, cpi, sec='F'):\n",
    "    out = f'''\n",
    "    Name: {name}\n",
    "    Roll Number: {rolln}\n",
    "    CPI: {cpi}\n",
    "    Section: {sec}\n",
    "    '''\n",
    "    return out"
   ]
  },
  {
   "cell_type": "code",
   "execution_count": 17,
   "metadata": {},
   "outputs": [
    {
     "name": "stdout",
     "output_type": "stream",
     "text": [
      "\n",
      "    Name: Shubham\n",
      "    Roll Number: 34\n",
      "    CPI: 5.7\n",
      "    Section: A\n",
      "    \n"
     ]
    }
   ],
   "source": [
    "ret = info('Shubham', 34, 5.7, 'A')\n",
    "print(ret)"
   ]
  },
  {
   "cell_type": "code",
   "execution_count": 17,
   "metadata": {},
   "outputs": [],
   "source": [
    "def add(b, a=0):\n",
    "    return a + b"
   ]
  },
  {
   "cell_type": "code",
   "execution_count": 19,
   "metadata": {},
   "outputs": [
    {
     "data": {
      "text/plain": [
       "10"
      ]
     },
     "execution_count": 19,
     "metadata": {},
     "output_type": "execute_result"
    }
   ],
   "source": [
    "num1 = 10\n",
    "num2 = 20\n",
    "add(num1)"
   ]
  },
  {
   "cell_type": "code",
   "execution_count": 32,
   "metadata": {},
   "outputs": [
    {
     "name": "stdout",
     "output_type": "stream",
     "text": [
      "17\n"
     ]
    }
   ],
   "source": [
    "def optional_sum(*c, d):\n",
    "    s = 0\n",
    "    for i in c:\n",
    "        s += i\n",
    "    return s\n",
    "\n",
    "\n",
    "out = optional_sum(4, 6, 7, d=(10, 4))\n",
    "print(out)"
   ]
  },
  {
   "cell_type": "code",
   "execution_count": 25,
   "metadata": {},
   "outputs": [],
   "source": [
    "def info(**kw):\n",
    "    print(kw)\n",
    "    kw2 = kw.copy()\n",
    "    for k in kw2.keys():\n",
    "        kw[k.lower()] = kw.pop(k)\n",
    "    print(kw)\n",
    "    st = f'''\n",
    "    Name: {kw.get('name')}\n",
    "    CPI: {kw.get('cpi')}\n",
    "    Roll Number: {kw.get('rolln')}\n",
    "    Section: {kw.get('sec')}\n",
    "    '''\n",
    "    return st"
   ]
  },
  {
   "cell_type": "code",
   "execution_count": 26,
   "metadata": {},
   "outputs": [
    {
     "name": "stdout",
     "output_type": "stream",
     "text": [
      "{'NamE': 'Anjali'}\n",
      "{'name': 'Anjali'}\n",
      "\n",
      "    Name: Anjali\n",
      "    CPI: None\n",
      "    Roll Number: None\n",
      "    Section: None\n",
      "    \n"
     ]
    }
   ],
   "source": [
    "\n",
    "print(info(NamE='Anjali'))"
   ]
  },
  {
   "cell_type": "code",
   "execution_count": 9,
   "metadata": {},
   "outputs": [
    {
     "name": "stdout",
     "output_type": "stream",
     "text": [
      "3#5#6\n"
     ]
    }
   ],
   "source": [
    "st = [3, 5, 6]\n",
    "print(*st, sep='#')"
   ]
  },
  {
   "cell_type": "code",
   "execution_count": 28,
   "metadata": {},
   "outputs": [
    {
     "name": "stdout",
     "output_type": "stream",
     "text": [
      "Present\n"
     ]
    }
   ],
   "source": [
    "def attendance(rolln, lst=range(23, 54)):\n",
    "    return rolln in lst\n",
    "\n",
    "# main code\n",
    "rn = int(input('Enter the Roll Number '))\n",
    "out = attendance(rn, [23, 45, 78, 23])\n",
    "print('Present' if out else 'Absent')"
   ]
  },
  {
   "cell_type": "code",
   "execution_count": 1,
   "metadata": {},
   "outputs": [
    {
     "name": "stdout",
     "output_type": "stream",
     "text": [
      "Not a Prime\n"
     ]
    }
   ],
   "source": [
    "def prime(num):\n",
    "    count=0\n",
    "    for i in range(1,num+1):\n",
    "        if num%i==0:\n",
    "            count+=1\n",
    "    return count==2\n",
    "\n",
    "n = int(input('Enter the number '))\n",
    "out = prime(n)\n",
    "print('Prime Number' if out else 'Not a Prime')"
   ]
  }
 ],
 "metadata": {
  "interpreter": {
   "hash": "e65f2adb31837d233cc97b3b943d57fac211464870b834ca167e6cf16cdc309b"
  },
  "kernelspec": {
   "display_name": "Python 3.10.4 64-bit",
   "language": "python",
   "name": "python3"
  },
  "language_info": {
   "codemirror_mode": {
    "name": "ipython",
    "version": 3
   },
   "file_extension": ".py",
   "mimetype": "text/x-python",
   "name": "python",
   "nbconvert_exporter": "python",
   "pygments_lexer": "ipython3",
   "version": "3.10.4"
  },
  "orig_nbformat": 4
 },
 "nbformat": 4,
 "nbformat_minor": 2
}
