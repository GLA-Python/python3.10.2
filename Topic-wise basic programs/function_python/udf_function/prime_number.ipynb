{
 "cells": [
  {
   "cell_type": "code",
   "execution_count": 8,
   "metadata": {},
   "outputs": [],
   "source": [
    "def info(x):\n",
    "    print(f'Name: {x}')\n",
    "    print('GLA University Mathura')\n",
    "    print('Computer department')\n"
   ]
  },
  {
   "cell_type": "code",
   "execution_count": 10,
   "metadata": {},
   "outputs": [
    {
     "name": "stdout",
     "output_type": "stream",
     "text": [
      "Name: Ravi\n",
      "GLA University Mathura\n",
      "Computer department\n",
      "Name: Saket\n",
      "GLA University Mathura\n",
      "Computer department\n"
     ]
    }
   ],
   "source": [
    "info('Ravi')\n",
    "info('Saket')\n",
    "\n"
   ]
  },
  {
   "cell_type": "code",
   "execution_count": 16,
   "metadata": {},
   "outputs": [],
   "source": [
    "def prime(x):\n",
    "    c=0\n",
    "    for i in range(1, x+1):\n",
    "        if x%i==0:\n",
    "            c=c+1\n",
    "    if c==2:\n",
    "        return 'Prime Number'\n",
    "    else:\n",
    "        return \"Not prime Number\"      \n",
    "\n",
    "\n",
    "def perfect(x):\n",
    "    s=0\n",
    "    for i in range(1,x):\n",
    "        if x%i==0:\n",
    "            s=s+i\n",
    "    if  s==x:\n",
    "        return \" perfact number\"\n",
    "    else:\n",
    "        return  \"not perfact\"   "
   ]
  },
  {
   "cell_type": "code",
   "execution_count": 19,
   "metadata": {},
   "outputs": [
    {
     "name": "stdout",
     "output_type": "stream",
     "text": [
      "Not prime Number\n",
      " perfact number\n"
     ]
    }
   ],
   "source": [
    "num = 28\n",
    "\n",
    "out1 = prime(num)\n",
    "out2 = perfect(num)\n",
    "\n",
    "print(out1)\n",
    "print(out2)"
   ]
  },
  {
   "cell_type": "code",
   "execution_count": 13,
   "metadata": {},
   "outputs": [],
   "source": [
    "def pow(a: int, b: int)->int:\n",
    "    '''This is power function\n",
    "    '''\n",
    "    s = 1\n",
    "    for i in range(b):\n",
    "        s *= a\n",
    "    return s    "
   ]
  },
  {
   "cell_type": "code",
   "execution_count": 16,
   "metadata": {},
   "outputs": [
    {
     "name": "stdout",
     "output_type": "stream",
     "text": [
      "16\n"
     ]
    }
   ],
   "source": [
    "out = pow(2, 4)\n",
    "print(out)"
   ]
  }
 ],
 "metadata": {
  "interpreter": {
   "hash": "e65f2adb31837d233cc97b3b943d57fac211464870b834ca167e6cf16cdc309b"
  },
  "kernelspec": {
   "display_name": "Python 3.10.4 64-bit",
   "language": "python",
   "name": "python3"
  },
  "language_info": {
   "codemirror_mode": {
    "name": "ipython",
    "version": 3
   },
   "file_extension": ".py",
   "mimetype": "text/x-python",
   "name": "python",
   "nbconvert_exporter": "python",
   "pygments_lexer": "ipython3",
   "version": "3.10.4"
  },
  "orig_nbformat": 4
 },
 "nbformat": 4,
 "nbformat_minor": 2
}
