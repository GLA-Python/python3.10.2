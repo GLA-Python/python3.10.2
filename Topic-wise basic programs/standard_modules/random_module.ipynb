{
 "cells": [
  {
   "cell_type": "code",
   "execution_count": null,
   "metadata": {},
   "outputs": [],
   "source": [
    "# standard modules in Python \n",
    "'''\n",
    "1. random\n",
    "2. math\n",
    "3. numpy(third party)\n",
    "'''"
   ]
  },
  {
   "cell_type": "code",
   "execution_count": 11,
   "metadata": {},
   "outputs": [
    {
     "name": "stdout",
     "output_type": "stream",
     "text": [
      "manish\n"
     ]
    }
   ],
   "source": [
    "import random\n",
    "lst = ['ravi', 'rahul', 'zoya', 'manish']\n",
    "out = random.choice(lst)\n",
    "print(out)\n"
   ]
  },
  {
   "cell_type": "code",
   "execution_count": 16,
   "metadata": {},
   "outputs": [
    {
     "name": "stdout",
     "output_type": "stream",
     "text": [
      "14\n"
     ]
    }
   ],
   "source": [
    "# randrange(): generate and return the random number between the given range with step size \n",
    "import random \n",
    "out = random.randrange(2, 100, 2)\n",
    "print(out)\n"
   ]
  },
  {
   "cell_type": "code",
   "execution_count": 29,
   "metadata": {},
   "outputs": [
    {
     "name": "stdout",
     "output_type": "stream",
     "text": [
      "4\n"
     ]
    }
   ],
   "source": [
    "# randint(): return random value between the given range both upper and lower values included \n",
    "import random \n",
    "out = random.randint(1, 4)\n",
    "print(out)\n"
   ]
  },
  {
   "cell_type": "code",
   "execution_count": 30,
   "metadata": {},
   "outputs": [
    {
     "name": "stdout",
     "output_type": "stream",
     "text": [
      "Number is too small\n",
      "Number is too small\n",
      "Number is too small\n",
      "Number is too small\n",
      "Number is too small\n",
      "Number is too large\n",
      "You Won!\n"
     ]
    }
   ],
   "source": [
    "# guess the number : game\n",
    "rl = random.randint(1, 100)\n",
    "count = 0\n",
    "while True:\n",
    "    count += 1\n",
    "    num = int(input('Enter the number '))\n",
    "\n",
    "    if num == rl:\n",
    "        print(f'You Won! with score {count}')\n",
    "        break\n",
    "    elif num < rl:\n",
    "        print('Number is too small')\n",
    "    elif num > rl:\n",
    "        print('Number is too large')\n",
    "\n",
    "\n",
    "\n"
   ]
  },
  {
   "cell_type": "code",
   "execution_count": null,
   "metadata": {},
   "outputs": [],
   "source": [
    "# ludo \n",
    "import random\n",
    "while 1:\n",
    "    val = random.randint(1, 6)\n",
    "    print(val)\n",
    "    input('Enter for new value')\n"
   ]
  },
  {
   "cell_type": "code",
   "execution_count": 33,
   "metadata": {},
   "outputs": [
    {
     "name": "stdout",
     "output_type": "stream",
     "text": [
      "manya\n"
     ]
    }
   ],
   "source": [
    "# choice(): return the random element from any seq\n",
    "\n",
    "lst = ['vishakha', 'manya', 'ritu', 'anshika']\n",
    "out = random.choice(lst)\n",
    "print(out)"
   ]
  },
  {
   "cell_type": "code",
   "execution_count": 41,
   "metadata": {},
   "outputs": [
    {
     "name": "stdout",
     "output_type": "stream",
     "text": [
      "['manya', 'vishakha', 'vishakha', 'vishakha', 'vishakha', 'vishakha', 'vishakha', 'vishakha', 'vishakha', 'vishakha', 'vishakha', 'vishakha', 'vishakha', 'manya', 'vishakha', 'vishakha', 'manya', 'manya', 'vishakha', 'vishakha']\n"
     ]
    }
   ],
   "source": [
    "# choices(): return the random element from any seq\n",
    "\n",
    "lst = ['vishakha', 'manya', 'ritu', 'anshika']\n",
    "out = random.choices(lst, weights=[50, 20, 1, 0], k=20)\n",
    "print(out)"
   ]
  },
  {
   "cell_type": "code",
   "execution_count": 46,
   "metadata": {},
   "outputs": [
    {
     "name": "stdout",
     "output_type": "stream",
     "text": [
      "['ritu', 'manya', 'anshika']\n"
     ]
    }
   ],
   "source": [
    "# sample(): return the random element from any seq\n",
    "\n",
    "lst = ['vishakha', 'manya', 'ritu', 'anshika']\n",
    "out = random.sample(lst, k=3)\n",
    "print(out)"
   ]
  },
  {
   "cell_type": "code",
   "execution_count": 70,
   "metadata": {},
   "outputs": [
    {
     "name": "stdout",
     "output_type": "stream",
     "text": [
      "086735\n"
     ]
    }
   ],
   "source": [
    "out = random.random()\n",
    "out = str(out)[-6:]\n",
    "print(out)"
   ]
  },
  {
   "cell_type": "code",
   "execution_count": 74,
   "metadata": {},
   "outputs": [
    {
     "name": "stdout",
     "output_type": "stream",
     "text": [
      "['ritu', 'anshika', 'manya', 'vishakha']\n"
     ]
    }
   ],
   "source": [
    "\n",
    "lst = ['vishakha', 'manya', 'ritu', 'anshika']\n",
    "random.shuffle(lst)\n",
    "print(lst)"
   ]
  },
  {
   "cell_type": "code",
   "execution_count": 84,
   "metadata": {},
   "outputs": [
    {
     "name": "stdout",
     "output_type": "stream",
     "text": [
      "2\n"
     ]
    }
   ],
   "source": [
    "out = random.getrandbits(2)\n",
    "print(out) "
   ]
  },
  {
   "cell_type": "code",
   "execution_count": 99,
   "metadata": {},
   "outputs": [
    {
     "name": "stdout",
     "output_type": "stream",
     "text": [
      "<map object at 0x000001C483B1DF90>\n"
     ]
    }
   ],
   "source": [
    "f = 1\n",
    "def mul(a):\n",
    "    global f\n",
    "    f *= a\n",
    "    print('hi')\n",
    "    return f\n",
    "\n",
    "ls = [1, 2, 3, 4, 5]\n",
    "print(f)\n"
   ]
  },
  {
   "cell_type": "code",
   "execution_count": 43,
   "metadata": {},
   "outputs": [
    {
     "name": "stdout",
     "output_type": "stream",
     "text": [
      "11\n"
     ]
    }
   ],
   "source": [
    "import random\n",
    "out = random.getrandbits(4)\n",
    "print(out)"
   ]
  },
  {
   "cell_type": "code",
   "execution_count": 44,
   "metadata": {},
   "outputs": [
    {
     "name": "stdout",
     "output_type": "stream",
     "text": [
      "Too Small\n",
      "Too Large\n",
      "Too Large\n",
      "Too Large\n",
      "Too Small\n",
      "Too Small\n"
     ]
    },
    {
     "name": "stderr",
     "output_type": "stream",
     "text": [
      "\n",
      "KeyboardInterrupt\n",
      "\n"
     ]
    }
   ],
   "source": [
    "rnum = random.randint(1, 100)\n",
    "count = 10\n",
    "while count:\n",
    "    count -= 1\n",
    "    unum = int(input('Guess the number '))\n",
    "    if unum == rnum:\n",
    "        print(f'You Won!✌️ with score {count}')\n",
    "        break\n",
    "    elif unum < rnum:\n",
    "        print('Too Small')\n",
    "    else:\n",
    "        print('Too Large')\n",
    "else:\n",
    "    print('You lose ❤️')"
   ]
  },
  {
   "cell_type": "code",
   "execution_count": 59,
   "metadata": {},
   "outputs": [
    {
     "name": "stdout",
     "output_type": "stream",
     "text": [
      "045193\n"
     ]
    }
   ],
   "source": [
    "# 6 digit otp \n",
    "out = random.random()\n",
    "print(str(out)[-6:])"
   ]
  },
  {
   "cell_type": "code",
   "execution_count": null,
   "metadata": {},
   "outputs": [],
   "source": [
    "'''\n",
    "1. integers: uniform integer \n",
    "2. sequential \n",
    "3. real value: a) uniform b) triagular \n",
    "'''"
   ]
  },
  {
   "cell_type": "code",
   "execution_count": 75,
   "metadata": {},
   "outputs": [
    {
     "name": "stdout",
     "output_type": "stream",
     "text": [
      "5\n"
     ]
    }
   ],
   "source": [
    "# 1. randrange(start, stop, step):\n",
    "# 2. randint(start, stop)\n",
    "# 3. getrandbits(k)\n",
    "import random \n",
    "out = random.getrandbits(4)\n",
    "print(out) "
   ]
  },
  {
   "cell_type": "code",
   "execution_count": 76,
   "metadata": {},
   "outputs": [
    {
     "name": "stdout",
     "output_type": "stream",
     "text": [
      "[3, 3, 5, 65]\n"
     ]
    }
   ],
   "source": [
    "lst = [3, 5, 65, 3]\n",
    "random.shuffle(lst)\n",
    "print(lst)"
   ]
  },
  {
   "cell_type": "code",
   "execution_count": 84,
   "metadata": {},
   "outputs": [
    {
     "name": "stdout",
     "output_type": "stream",
     "text": [
      "0.9792386873250495\n"
     ]
    }
   ],
   "source": [
    "# random functions works on real values\n",
    "# 1. random()\n",
    "# 2. uniform(start, stop)\n",
    "# 3. triangular(start, stop, mode(base))\n",
    "out = random.random()\n",
    "print(out)"
   ]
  },
  {
   "cell_type": "code",
   "execution_count": 90,
   "metadata": {},
   "outputs": [
    {
     "name": "stdout",
     "output_type": "stream",
     "text": [
      "19.53948006078742\n"
     ]
    }
   ],
   "source": [
    "# uniform(start, stop)\n",
    "out = random.uniform(1, 20)\n",
    "print(out) "
   ]
  },
  {
   "cell_type": "code",
   "execution_count": 105,
   "metadata": {},
   "outputs": [
    {
     "name": "stdout",
     "output_type": "stream",
     "text": [
      "7.717175367235788\n"
     ]
    }
   ],
   "source": [
    "# triangular(start, stop, mode)\n",
    "out = random.triangular(1, 20, 7)\n",
    "print(out)"
   ]
  },
  {
   "cell_type": "code",
   "execution_count": 122,
   "metadata": {},
   "outputs": [],
   "source": [
    "random.seed(20)"
   ]
  },
  {
   "cell_type": "code",
   "execution_count": 126,
   "metadata": {},
   "outputs": [
    {
     "name": "stdout",
     "output_type": "stream",
     "text": [
      "20\n"
     ]
    }
   ],
   "source": [
    "\n",
    "out = random.randint(1, 100)\n",
    "print(out)\n"
   ]
  },
  {
   "cell_type": "code",
   "execution_count": 130,
   "metadata": {},
   "outputs": [
    {
     "name": "stdout",
     "output_type": "stream",
     "text": [
      "[1.0, 1.5, 2.0, 2.5, 3.0, 3.5, 4.0, 4.5, 5.0, 5.5, 6.0, 6.5, 7.0, 7.5, 8.0, 8.5, 9.0, 9.5]\n"
     ]
    }
   ],
   "source": [
    "import numpy\n",
    "out = numpy.arange(1, 10, .5)\n",
    "print(list(out))"
   ]
  },
  {
   "cell_type": "code",
   "execution_count": 132,
   "metadata": {},
   "outputs": [
    {
     "name": "stdout",
     "output_type": "stream",
     "text": [
      "8.0\n"
     ]
    }
   ],
   "source": [
    "import math\n",
    "lst = [3, 5]\n",
    "out = math.fsum(lst)\n",
    "print(out)"
   ]
  },
  {
   "cell_type": "code",
   "execution_count": 136,
   "metadata": {},
   "outputs": [
    {
     "data": {
      "text/plain": [
       "False"
      ]
     },
     "execution_count": 136,
     "metadata": {},
     "output_type": "execute_result"
    }
   ],
   "source": [
    "v = float('inf')\n",
    "math.isfinite(v)"
   ]
  },
  {
   "cell_type": "code",
   "execution_count": 2,
   "metadata": {},
   "outputs": [
    {
     "name": "stdout",
     "output_type": "stream",
     "text": [
      "3\n"
     ]
    }
   ],
   "source": [
    "# random module \n",
    "import random\n",
    "out = random.randint(1, 10)\n",
    "print(out)\n",
    "\n",
    "'''\n",
    "1. integer: uniform values \n",
    "a) randrange(start, stop, step)\n",
    "b) randint(start, stop)\n",
    "c) getrandbits(width)\n",
    "\n",
    "2. sequential \n",
    "a) choice(lst) \n",
    "'''"
   ]
  },
  {
   "cell_type": "code",
   "execution_count": 6,
   "metadata": {},
   "outputs": [
    {
     "name": "stdout",
     "output_type": "stream",
     "text": [
      "hello\n"
     ]
    }
   ],
   "source": [
    "# choice(): return any random element from the seq\n",
    "# lst = [4, 6, 7, 5, 23]\n",
    "lst = ('hello', 'hi', 'python')\n",
    "out = random.choice(lst)\n",
    "print(out)\n"
   ]
  },
  {
   "cell_type": "code",
   "execution_count": 10,
   "metadata": {},
   "outputs": [
    {
     "name": "stdout",
     "output_type": "stream",
     "text": [
      "['shubham', 'saket', 'saket', 'shubham', 'ravi', 'shubham', 'ravi', 'ravi', 'saket', 'shubham']\n"
     ]
    }
   ],
   "source": [
    "# choices(seq, k): return the number of choices(list form) from the given sequence\n",
    "lst = ['ravi', 'shubham', 'saket']\n",
    "out = random.choices(lst, k=10)\n",
    "print(out)\n"
   ]
  },
  {
   "cell_type": "code",
   "execution_count": 16,
   "metadata": {},
   "outputs": [
    {
     "name": "stdout",
     "output_type": "stream",
     "text": [
      "[4]\n"
     ]
    }
   ],
   "source": [
    "# sample(seq, k): return the unique items from the seq\n",
    "lst = [4, 6, 7, 8, 9]\n",
    "out = random.sample(lst, k=1)\n",
    "print(out)"
   ]
  },
  {
   "cell_type": "code",
   "execution_count": 19,
   "metadata": {},
   "outputs": [
    {
     "name": "stdout",
     "output_type": "stream",
     "text": [
      "['saket', 'shubham', 'ravi']\n"
     ]
    }
   ],
   "source": [
    "# shuffle(): to shuffle the elements of mutable object \n",
    "lst = ['ravi', 'shubham', 'saket']\n",
    "random.shuffle(lst)\n",
    "print(lst)"
   ]
  },
  {
   "cell_type": "code",
   "execution_count": 20,
   "metadata": {},
   "outputs": [
    {
     "name": "stdout",
     "output_type": "stream",
     "text": [
      "0.6703590862931759\n"
     ]
    }
   ],
   "source": [
    "# random(): generate and return the real number between 0 and 1\n",
    "out = random.random()\n",
    "print(out)"
   ]
  },
  {
   "cell_type": "code",
   "execution_count": 22,
   "metadata": {},
   "outputs": [
    {
     "name": "stdout",
     "output_type": "stream",
     "text": [
      "21.36841957945731\n"
     ]
    }
   ],
   "source": [
    "# uniform(): return the real value between given range\n",
    "out = random.uniform(2, 30)\n",
    "print(out) "
   ]
  },
  {
   "cell_type": "code",
   "execution_count": 42,
   "metadata": {},
   "outputs": [
    {
     "name": "stdout",
     "output_type": "stream",
     "text": [
      "16.292871794712568\n"
     ]
    }
   ],
   "source": [
    "# trianglular(start, stop, mode)\n",
    "out = random.triangular(1, 20, 15)\n",
    "print(out)"
   ]
  }
 ],
 "metadata": {
  "interpreter": {
   "hash": "490f1c68ed42f2c5a574e22fb9e03ff49b98516de8582ff1c5d4fb43fb70f61b"
  },
  "kernelspec": {
   "display_name": "Python 3.10.4 64-bit",
   "language": "python",
   "name": "python3"
  },
  "language_info": {
   "codemirror_mode": {
    "name": "ipython",
    "version": 3
   },
   "file_extension": ".py",
   "mimetype": "text/x-python",
   "name": "python",
   "nbconvert_exporter": "python",
   "pygments_lexer": "ipython3",
   "version": "3.10.4"
  },
  "orig_nbformat": 4
 },
 "nbformat": 4,
 "nbformat_minor": 2
}
