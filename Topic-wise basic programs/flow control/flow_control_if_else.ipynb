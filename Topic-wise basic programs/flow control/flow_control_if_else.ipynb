{
 "cells": [
  {
   "cell_type": "code",
   "execution_count": 5,
   "metadata": {},
   "outputs": [
    {
     "name": "stdout",
     "output_type": "stream",
     "text": [
      "statement after if\n"
     ]
    }
   ],
   "source": [
    "# if only statement \n",
    "num = -23\n",
    "if num > 0:\n",
    "    print(\"Number is positive\")\n",
    "\n",
    "print(\"statement after if\")\n"
   ]
  },
  {
   "cell_type": "code",
   "execution_count": 9,
   "metadata": {},
   "outputs": [
    {
     "name": "stdout",
     "output_type": "stream",
     "text": [
      "8 Positive\n"
     ]
    }
   ],
   "source": [
    "# if - else\n",
    "\n",
    "num = 8\n",
    "if num > 0:\n",
    "    print(f'{num} Positive')\n",
    "else:    \n",
    "    print(f'{num} Negative')"
   ]
  },
  {
   "cell_type": "code",
   "execution_count": null,
   "metadata": {},
   "outputs": [],
   "source": [
    "# if-elif-else\n",
    "\n",
    "num = 2\n",
    "if num == 0:\n",
    "    print('Number is Zero')\n",
    "elif num > 0:\n",
    "    print('Number is positive')\n",
    "else:\n",
    "    print('Number is negative')        "
   ]
  },
  {
   "cell_type": "code",
   "execution_count": 3,
   "metadata": {},
   "outputs": [
    {
     "name": "stdout",
     "output_type": "stream",
     "text": [
      "Number is Even\n"
     ]
    }
   ],
   "source": [
    "num = 4\n",
    "if num % 2 == 0:\n",
    "    print('Number is Even')\n",
    "else:    \n",
    "    print('Number is Odd')"
   ]
  },
  {
   "cell_type": "code",
   "execution_count": 9,
   "metadata": {},
   "outputs": [
    {
     "name": "stdout",
     "output_type": "stream",
     "text": [
      "Number is Positive\n",
      "After if statement\n"
     ]
    }
   ],
   "source": [
    "# if only statement\n",
    "num = 2\n",
    "if num > 0:\n",
    "    print('Number is Positive')\n",
    "print('After if statement')"
   ]
  },
  {
   "cell_type": "code",
   "execution_count": 12,
   "metadata": {},
   "outputs": [
    {
     "name": "stdout",
     "output_type": "stream",
     "text": [
      "Number is negative\n",
      "after if-else\n"
     ]
    }
   ],
   "source": [
    "# if - else statements\n",
    "num = -3\n",
    "if num > 0:\n",
    "    print('Number is positive')\n",
    "else:\n",
    "    print('Number is negative')   \n",
    "\n",
    "print('after if-else')  \n"
   ]
  },
  {
   "cell_type": "code",
   "execution_count": null,
   "metadata": {},
   "outputs": [],
   "source": [
    "# if - elif -else statements\n",
    "num = -3\n",
    "if num == 0:\n",
    "    print('Number is zero')\n",
    "elif num > 0:\n",
    "    print('Number is positive')\n",
    "else:\n",
    "    print('Number is negative')   \n",
    "\n",
    "print('after if-else') "
   ]
  },
  {
   "cell_type": "code",
   "execution_count": 5,
   "metadata": {},
   "outputs": [],
   "source": [
    "# if - else statement\n",
    "num = -23\n",
    "if num > 0:\n",
    "    print('Number is Positive')\n",
    "else:\n",
    "    print('Number is negative ')    \n",
    "\n",
    "print('after if - statement')"
   ]
  },
  {
   "cell_type": "code",
   "execution_count": 7,
   "metadata": {},
   "outputs": [
    {
     "name": "stdout",
     "output_type": "stream",
     "text": [
      "Underflow Condition\n",
      "filled height 6.496815286624204\n",
      "Remaining height 3.503184713375796\n"
     ]
    }
   ],
   "source": [
    "h = 10\n",
    "r = 5\n",
    "F = 15\n",
    "t = eval(input('Enter the time for the pump to be on '))\n",
    "Vwtr = F * t\n",
    "Vtank = 3.14 * r ** 2 * h\n",
    "if Vwtr < Vtank:\n",
    "    print('Underflow Condition')\n",
    "    ht = Vwtr / (3.14 * r ** 2)\n",
    "    hr = h - ht\n",
    "    print('filled height', ht)\n",
    "    print('Remaining height', hr)\n",
    "elif Vwtr > Vtank:\n",
    "    print('Overflow Condition')\n",
    "    print('Volume', Vwtr - Vtank)\n",
    "else:\n",
    "    print('Tank Full')        "
   ]
  },
  {
   "cell_type": "code",
   "execution_count": 15,
   "metadata": {},
   "outputs": [
    {
     "name": "stdout",
     "output_type": "stream",
     "text": [
      "Even\n"
     ]
    }
   ],
   "source": [
    "# even odd program\n",
    "num = 34\n",
    "out = 'Even' if num % 2 == 0 else 'Odd'\n",
    "print(out)        "
   ]
  },
  {
   "cell_type": "code",
   "execution_count": 24,
   "metadata": {},
   "outputs": [
    {
     "name": "stdout",
     "output_type": "stream",
     "text": [
      "4\n"
     ]
    }
   ],
   "source": [
    "num1 = int(input('Enter the first number '))\n",
    "num2 = int(input('Enter the second number'))\n",
    "out = [num1-num2, num2-num1][num2>num1]\n",
    "print(out)\n"
   ]
  },
  {
   "cell_type": "code",
   "execution_count": 13,
   "metadata": {},
   "outputs": [
    {
     "name": "stdout",
     "output_type": "stream",
     "text": [
      "after if statement\n"
     ]
    }
   ],
   "source": [
    "# if-else statement\n",
    "\n",
    "num = -3\n",
    "if num > 0:\n",
    "    print('Number is positive')\n",
    "else:\n",
    "    print('Number is negative')    \n",
    "print('after if-else statement')\n"
   ]
  }
 ],
 "metadata": {
  "interpreter": {
   "hash": "ac63e7d2902d829a95718f514f583b39cb52f10e7c5524becb094a341f2ea3ca"
  },
  "kernelspec": {
   "display_name": "Python 3.10.2 64-bit (windows store)",
   "language": "python",
   "name": "python3"
  },
  "language_info": {
   "codemirror_mode": {
    "name": "ipython",
    "version": 3
   },
   "file_extension": ".py",
   "mimetype": "text/x-python",
   "name": "python",
   "nbconvert_exporter": "python",
   "pygments_lexer": "ipython3",
   "version": "3.10.2"
  },
  "orig_nbformat": 4
 },
 "nbformat": 4,
 "nbformat_minor": 2
}
