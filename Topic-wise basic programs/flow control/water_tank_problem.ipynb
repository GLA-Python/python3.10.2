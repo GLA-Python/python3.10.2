{
 "cells": [
  {
   "cell_type": "code",
   "execution_count": 3,
   "metadata": {},
   "outputs": [
    {
     "name": "stdout",
     "output_type": "stream",
     "text": [
      "Overflow Condition\n",
      "Volume 715.0\n"
     ]
    }
   ],
   "source": [
    "# water tank problem \n",
    "h = 10\n",
    "r = 5\n",
    "F = 15\n",
    "t = float(input('Enter the time '))\n",
    "\n",
    "# logic section\n",
    "Vtank =  3.14 * r ** 2 * h\n",
    "Vwtr = F * t\n",
    "\n",
    "if Vwtr > Vtank:\n",
    "    print('Overflow Condition')\n",
    "    print('Volume', Vwtr - Vtank)\n",
    "elif Vwtr < Vtank:\n",
    "    print('Under flow Condition')\n",
    "    ht = Vwtr / (3.14 * r ** 2)\n",
    "    hr = h - ht\n",
    "    print('Filled Height', ht)\n",
    "    print('Remaining Height', hr)\n",
    "else:\n",
    "    print('Tank Full ')"
   ]
  }
 ],
 "metadata": {
  "interpreter": {
   "hash": "ac63e7d2902d829a95718f514f583b39cb52f10e7c5524becb094a341f2ea3ca"
  },
  "kernelspec": {
   "display_name": "Python 3.10.2 64-bit (windows store)",
   "language": "python",
   "name": "python3"
  },
  "language_info": {
   "codemirror_mode": {
    "name": "ipython",
    "version": 3
   },
   "file_extension": ".py",
   "mimetype": "text/x-python",
   "name": "python",
   "nbconvert_exporter": "python",
   "pygments_lexer": "ipython3",
   "version": "3.10.2"
  },
  "orig_nbformat": 4
 },
 "nbformat": 4,
 "nbformat_minor": 2
}
