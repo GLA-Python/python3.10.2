{
 "cells": [
  {
   "cell_type": "code",
   "execution_count": 12,
   "metadata": {},
   "outputs": [
    {
     "name": "stdout",
     "output_type": "stream",
     "text": [
      "Overflow\n",
      "565.0\n"
     ]
    }
   ],
   "source": [
    "from math import pi \n",
    "# water tank problem \n",
    "h = 10\n",
    "r = 5\n",
    "F = 15\n",
    "t = float(input('Enter the time '))\n",
    "\n",
    "# logic section\n",
    "Vtank =  3.14 * r ** 2 * h\n",
    "Vwtr = F * t\n",
    "\n",
    "if Vwtr > Vtank:\n",
    "    print('Overflow')\n",
    "    print(round(Vwtr - Vtank, 2))\n",
    "elif Vwtr < Vtank:\n",
    "    print('Underflow')\n",
    "    ht = Vwtr / (3.14 * r ** 2)\n",
    "    hr = h - ht\n",
    "    print(round(ht, 2))\n",
    "    print(round(hr, 2))\n",
    "else:\n",
    "    print('The water tank is full, turn off the pump. Thank you')"
   ]
  },
  {
   "cell_type": "code",
   "execution_count": 5,
   "metadata": {},
   "outputs": [
    {
     "name": "stdout",
     "output_type": "stream",
     "text": [
      "path e:\\Python39\\batch21-22\\Even Sem\\python3.10.2\\Topic-wise basic programs\\flow control\n",
      "<_io.TextIOWrapper name='sample.py' mode='r' encoding='cp1252'>\n"
     ]
    }
   ],
   "source": [
    "import os\n",
    "print('path', os.getcwd())\n",
    "import sample\n",
    "f = open('sample.py')\n",
    "print(f.read())"
   ]
  }
 ],
 "metadata": {
  "interpreter": {
   "hash": "ac63e7d2902d829a95718f514f583b39cb52f10e7c5524becb094a341f2ea3ca"
  },
  "kernelspec": {
   "display_name": "Python 3.10.2 64-bit (windows store)",
   "language": "python",
   "name": "python3"
  },
  "language_info": {
   "codemirror_mode": {
    "name": "ipython",
    "version": 3
   },
   "file_extension": ".py",
   "mimetype": "text/x-python",
   "name": "python",
   "nbconvert_exporter": "python",
   "pygments_lexer": "ipython3",
   "version": "3.10.2"
  },
  "orig_nbformat": 4
 },
 "nbformat": 4,
 "nbformat_minor": 2
}
