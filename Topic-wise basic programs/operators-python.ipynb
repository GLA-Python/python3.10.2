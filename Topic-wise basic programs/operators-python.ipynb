{
 "cells": [
  {
   "cell_type": "markdown",
   "metadata": {},
   "source": [
    "## what is operators?\n",
    "*a character or characters that determine the action that is to be performed or considered*\n"
   ]
  },
  {
   "cell_type": "code",
   "execution_count": 2,
   "metadata": {},
   "outputs": [
    {
     "name": "stdout",
     "output_type": "stream",
     "text": [
      "Real Division 3.3333333333333335\n",
      "Integer Division 3\n"
     ]
    }
   ],
   "source": [
    "# arithmatic operatos \n",
    "a = 10\n",
    "b = 3\n",
    "out1 = a / b  # real divison\n",
    "out2 = a // b # floor division \n",
    "print('Real Division', out1)\n",
    "print('Integer Division', out2) "
   ]
  },
  {
   "cell_type": "code",
   "execution_count": 3,
   "metadata": {},
   "outputs": [
    {
     "name": "stdout",
     "output_type": "stream",
     "text": [
      "0\n"
     ]
    }
   ],
   "source": [
    "# assignmnet operators \n",
    "a = 100\n",
    "a //= 200\n",
    "print(a) "
   ]
  },
  {
   "cell_type": "code",
   "execution_count": 4,
   "metadata": {},
   "outputs": [
    {
     "name": "stdout",
     "output_type": "stream",
     "text": [
      "ravi\n"
     ]
    }
   ],
   "source": [
    "# logical operators \n",
    "a = 'ravi'\n",
    "b = None\n",
    "out = a and b or a\n",
    "print(out)"
   ]
  },
  {
   "cell_type": "code",
   "execution_count": 5,
   "metadata": {},
   "outputs": [
    {
     "name": "stdout",
     "output_type": "stream",
     "text": [
      "The distance between point (2, 3) and point (4, 5) is 2.8284271247461903\n"
     ]
    }
   ],
   "source": [
    "# program: Write a python script to calculate the distance between two points.\n",
    "# input section \n",
    "x1 = int(input('Enter x1 '))\n",
    "y1 = int(input('Enter y1 '))\n",
    "x2 = int(input('Enter x2 '))\n",
    "y2 = int(input('Enter y2 '))\n",
    "\n",
    "# logic section \n",
    "d = ((x2 - x1) ** 2 + (y2 - y1) ** 2) ** .5\n",
    "\n",
    "# output section \n",
    "print(f'The distance between point ({x1}, {y1}) and point ({x2}, {y2}) is {d}')"
   ]
  }
 ],
 "metadata": {
  "interpreter": {
   "hash": "ac63e7d2902d829a95718f514f583b39cb52f10e7c5524becb094a341f2ea3ca"
  },
  "kernelspec": {
   "display_name": "Python 3.10.2 64-bit (windows store)",
   "language": "python",
   "name": "python3"
  },
  "language_info": {
   "codemirror_mode": {
    "name": "ipython",
    "version": 3
   },
   "file_extension": ".py",
   "mimetype": "text/x-python",
   "name": "python",
   "nbconvert_exporter": "python",
   "pygments_lexer": "ipython3",
   "version": "3.10.2"
  },
  "orig_nbformat": 4
 },
 "nbformat": 4,
 "nbformat_minor": 2
}
