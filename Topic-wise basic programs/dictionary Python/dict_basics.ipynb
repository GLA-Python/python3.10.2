{
 "cells": [
  {
   "cell_type": "code",
   "execution_count": 1,
   "metadata": {},
   "outputs": [
    {
     "name": "stdout",
     "output_type": "stream",
     "text": [
      "{'name': 'abhishek', 'rolln': 34, 'section': 'F', 'college': 'GLA'} <class 'dict'>\n",
      "['abhishek', 34, 'F', 'GLA'] <class 'list'>\n"
     ]
    }
   ],
   "source": [
    "info = ['abhishek', 34, 'F', 'GLA']\n",
    "dct = {'name':'abhishek', 'rolln': 34, 'section': 'F', 'college': 'GLA'}\n",
    "\n",
    "name_lst = info[0]\n",
    "name_dct = dct['name']\n",
    "\n",
    "print(dct, type(dct))\n",
    "print(info, type(info))"
   ]
  },
  {
   "cell_type": "code",
   "execution_count": 7,
   "metadata": {},
   "outputs": [
    {
     "name": "stdout",
     "output_type": "stream",
     "text": [
      "{} <class 'dict'>\n"
     ]
    }
   ],
   "source": [
    "# how to initialize the dictionary in Python\n",
    "dct = {}  # dictionary format\n",
    "# dct = dict()  # dict class constructor \n",
    "print(dct, type(dct))"
   ]
  },
  {
   "cell_type": "code",
   "execution_count": 9,
   "metadata": {},
   "outputs": [
    {
     "name": "stdout",
     "output_type": "stream",
     "text": [
      "{'name': 'abhishek', 'rolln': 34, 'section': 'F', 'college': 'GLA', 'Name': 'ravi'}\n"
     ]
    }
   ],
   "source": [
    "# dictionary keys are unique \n",
    "dct = {'name':'abhishek', 'rolln': 34, 'section': 'F', 'college': 'GLA', 'Name': 'ravi'}\n",
    "print(dct)\n"
   ]
  },
  {
   "cell_type": "code",
   "execution_count": 15,
   "metadata": {},
   "outputs": [
    {
     "name": "stdout",
     "output_type": "stream",
     "text": [
      "{'name': 'abhishek', 2: 'two', (3, 5): 'tuple', 'list': ['232', 434]}\n"
     ]
    }
   ],
   "source": [
    "# keys are immutable in nature \n",
    "info = {'name': 'abhishek', 2:'two', (3, 5): 'tuple', 'list':['232', 434]}\n",
    "print(info)\n"
   ]
  },
  {
   "cell_type": "code",
   "execution_count": 18,
   "metadata": {},
   "outputs": [
    {
     "name": "stdout",
     "output_type": "stream",
     "text": [
      "{1: 434, 2: 100, 323: {3: 4300}}\n"
     ]
    }
   ],
   "source": [
    "info = {1: 434, 2:100, 323: {3:4300}}\n",
    "print(info)"
   ]
  },
  {
   "cell_type": "code",
   "execution_count": 2,
   "metadata": {},
   "outputs": [
    {
     "name": "stdout",
     "output_type": "stream",
     "text": [
      "{'name': 'abhishek', 'rolln': 20, 1.0: 'int'}\n"
     ]
    }
   ],
   "source": [
    "# dictionary operation \n",
    "dct = {'name': 'abhishek', 'rolln': 20, 1.0: 'float', 1:'int'}\n",
    "# out = dct['name']\n",
    "# dct[1] = 'int'\n",
    "print(dct)"
   ]
  },
  {
   "cell_type": "code",
   "execution_count": null,
   "metadata": {},
   "outputs": [],
   "source": []
  }
 ],
 "metadata": {
  "interpreter": {
   "hash": "8786318122129ba10eb40c9c8a2ede770fe6a9df50dfcd3c6edc33520e4c5279"
  },
  "kernelspec": {
   "display_name": "Python 3.7.2 32-bit",
   "language": "python",
   "name": "python3"
  },
  "language_info": {
   "codemirror_mode": {
    "name": "ipython",
    "version": 3
   },
   "file_extension": ".py",
   "mimetype": "text/x-python",
   "name": "python",
   "nbconvert_exporter": "python",
   "pygments_lexer": "ipython3",
   "version": "3.10.4"
  },
  "orig_nbformat": 4
 },
 "nbformat": 4,
 "nbformat_minor": 2
}
