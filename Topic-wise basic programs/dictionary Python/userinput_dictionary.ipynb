{
 "cells": [
  {
   "cell_type": "code",
   "execution_count": 3,
   "metadata": {},
   "outputs": [
    {
     "name": "stdout",
     "output_type": "stream",
     "text": [
      "{3: 400, 5: 788} <class 'dict'>\n"
     ]
    }
   ],
   "source": [
    "# dictionary input\n",
    "out = eval(input())\n",
    "print(out, type(out))"
   ]
  },
  {
   "cell_type": "code",
   "execution_count": 7,
   "metadata": {},
   "outputs": [
    {
     "name": "stdout",
     "output_type": "stream",
     "text": [
      "{'shikha': '23243434', 'ravi': '434343', 'ankit': '4343'}\n"
     ]
    }
   ],
   "source": [
    "# \n",
    "dct = {}\n",
    "num = int(input('Enter the number of items '))\n",
    "for i in range(num):\n",
    "    key, val = input('Enter the key and value').split()  # 'name ravi'\n",
    "    dct[key] = val\n",
    "\n",
    "print(dct)\n",
    "\n"
   ]
  },
  {
   "cell_type": "code",
   "execution_count": 11,
   "metadata": {},
   "outputs": [
    {
     "name": "stdout",
     "output_type": "stream",
     "text": [
      "None\n"
     ]
    }
   ],
   "source": [
    "info = {'name': 'ravi', 'section': 'J', 'cpi': 7.5}\n",
    "out = info.get('college')\n",
    "print(out)"
   ]
  },
  {
   "cell_type": "code",
   "execution_count": 3,
   "metadata": {},
   "outputs": [
    {
     "name": "stdout",
     "output_type": "stream",
     "text": [
      "**********\n",
      "****  ****\n",
      "***    ***\n",
      "**      **\n",
      "*        *\n"
     ]
    }
   ],
   "source": [
    "rows = 5\n",
    "for i in range(rows):\n",
    "    for j in range(1, (2*rows)+1):\n",
    "        if j <= rows-i or j > rows + i:\n",
    "            print('*', end='')\n",
    "        else:\n",
    "            print(' ', end='')\n",
    "    print()        "
   ]
  },
  {
   "cell_type": "code",
   "execution_count": 4,
   "metadata": {},
   "outputs": [
    {
     "name": "stdout",
     "output_type": "stream",
     "text": [
      "<class 'KeyboardInterrupt'>\n",
      "\n",
      "<class 'KeyboardInterrupt'>\n",
      "\n",
      "<class 'KeyboardInterrupt'>\n",
      "\n"
     ]
    }
   ],
   "source": [
    "# user dictionary \n",
    "# with the help of tje dnsnsddffdhfdjfdhfjdhfjdhfdjfhdfjdhjfd\n",
    "a = int(input())\n",
    "for i in range(a):\n",
    "    print(KeyboardInterrupt)\n",
    "    print() # line change \n",
    "\n"
   ]
  }
 ],
 "metadata": {
  "interpreter": {
   "hash": "e65f2adb31837d233cc97b3b943d57fac211464870b834ca167e6cf16cdc309b"
  },
  "kernelspec": {
   "display_name": "Python 3.10.4 64-bit",
   "language": "python",
   "name": "python3"
  },
  "language_info": {
   "codemirror_mode": {
    "name": "ipython",
    "version": 3
   },
   "file_extension": ".py",
   "mimetype": "text/x-python",
   "name": "python",
   "nbconvert_exporter": "python",
   "pygments_lexer": "ipython3",
   "version": "3.10.4"
  },
  "orig_nbformat": 4
 },
 "nbformat": 4,
 "nbformat_minor": 2
}
