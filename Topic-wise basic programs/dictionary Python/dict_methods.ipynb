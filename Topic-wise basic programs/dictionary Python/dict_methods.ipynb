{
 "cells": [
  {
   "cell_type": "code",
   "execution_count": 6,
   "metadata": {},
   "outputs": [
    {
     "name": "stdout",
     "output_type": "stream",
     "text": [
      "info {'name': 'Ajay', 'section': 'H1', 'college': 'GLA', 'rolln': 30}\n",
      "upd {'rolln': 30, 'section': 'H1'}\n"
     ]
    }
   ],
   "source": [
    "# methods\n",
    "info = {'name': 'Ajay', 'section': 'H', 'college': 'GLA'}\n",
    "\n",
    "upd = {'rolln': 30, 'section': 'H1'}\n",
    "info.update(upd)\n",
    "\n",
    "print('info', info)\n",
    "print('upd', upd)"
   ]
  },
  {
   "cell_type": "code",
   "execution_count": 9,
   "metadata": {},
   "outputs": [
    {
     "name": "stdout",
     "output_type": "stream",
     "text": [
      "{'name': 'NA', 'rolln': 'NA', 'college': 'NA', 'section': 'NA', 'cpi': 'NA'}\n"
     ]
    }
   ],
   "source": [
    "lst = ['name', 'rolln', 'college', 'section', 'cpi']\n",
    "out = {}.fromkeys(lst, 'NA')\n",
    "print(out)"
   ]
  },
  {
   "cell_type": "code",
   "execution_count": 12,
   "metadata": {},
   "outputs": [
    {
     "name": "stdout",
     "output_type": "stream",
     "text": [
      "{'name': 'Ravi', 'section': 'H', 'rolln': 34}\n"
     ]
    }
   ],
   "source": [
    "# setdefault()\n",
    "info = {'name': 'Ravi', 'section': 'H'}\n",
    "info.setdefault('rolln', 34)\n",
    "info.setdefault('name', 'Akash')\n",
    "print(info)"
   ]
  },
  {
   "cell_type": "code",
   "execution_count": 34,
   "metadata": {},
   "outputs": [
    {
     "name": "stdout",
     "output_type": "stream",
     "text": [
      "3 ['python']\n"
     ]
    }
   ],
   "source": [
    "marks = {'math': 34, 'python':3, 'english':34}\n",
    "out = {}\n",
    "for i in marks.values():\n",
    "    out[i] = []\n",
    "\n",
    "for i in marks.keys():\n",
    "    x = marks[i]\n",
    "    out[x].append(i)\n",
    "\n",
    "# print(out)\n",
    "for i in out:\n",
    "    if len(out[i]) == 1:\n",
    "        print(i, out[i])\n",
    "\n",
    "# 34: ['math', 'english'], 3: ['python']"
   ]
  },
  {
   "cell_type": "code",
   "execution_count": null,
   "metadata": {},
   "outputs": [],
   "source": []
  },
  {
   "cell_type": "code",
   "execution_count": 36,
   "metadata": {},
   "outputs": [
    {
     "name": "stdout",
     "output_type": "stream",
     "text": [
      "{'shikha': '323423', 'ravi': '23444'}\n"
     ]
    }
   ],
   "source": [
    "phonebook = {}\n",
    "for i in range(int(input())):\n",
    "    a, b = input().split() # ['shikha', '4343455']\n",
    "    phonebook[a] = b\n",
    "\n",
    "print(phonebook)"
   ]
  }
 ],
 "metadata": {
  "interpreter": {
   "hash": "e65f2adb31837d233cc97b3b943d57fac211464870b834ca167e6cf16cdc309b"
  },
  "kernelspec": {
   "display_name": "Python 3.10.4 64-bit",
   "language": "python",
   "name": "python3"
  },
  "language_info": {
   "codemirror_mode": {
    "name": "ipython",
    "version": 3
   },
   "file_extension": ".py",
   "mimetype": "text/x-python",
   "name": "python",
   "nbconvert_exporter": "python",
   "pygments_lexer": "ipython3",
   "version": "3.10.4"
  },
  "orig_nbformat": 4
 },
 "nbformat": 4,
 "nbformat_minor": 2
}
