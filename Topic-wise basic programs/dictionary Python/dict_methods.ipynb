{
 "cells": [
  {
   "cell_type": "code",
   "execution_count": 6,
   "metadata": {},
   "outputs": [
    {
     "name": "stdout",
     "output_type": "stream",
     "text": [
      "info {'name': 'Ajay', 'section': 'H1', 'college': 'GLA', 'rolln': 30}\n",
      "upd {'rolln': 30, 'section': 'H1'}\n"
     ]
    }
   ],
   "source": [
    "# methods\n",
    "info = {'name': 'Ajay', 'section': 'H', 'college': 'GLA'}\n",
    "\n",
    "upd = {'rolln': 30, 'section': 'H1'}\n",
    "info.update(upd)\n",
    "\n",
    "print('info', info)\n",
    "print('upd', upd)"
   ]
  },
  {
   "cell_type": "code",
   "execution_count": 9,
   "metadata": {},
   "outputs": [
    {
     "name": "stdout",
     "output_type": "stream",
     "text": [
      "{'name': 'NA', 'rolln': 'NA', 'college': 'NA', 'section': 'NA', 'cpi': 'NA'}\n"
     ]
    }
   ],
   "source": [
    "lst = ['name', 'rolln', 'college', 'section', 'cpi']\n",
    "out = {}.fromkeys(lst, 'NA')\n",
    "print(out)"
   ]
  },
  {
   "cell_type": "code",
   "execution_count": 12,
   "metadata": {},
   "outputs": [
    {
     "name": "stdout",
     "output_type": "stream",
     "text": [
      "{'name': 'Ravi', 'section': 'H', 'rolln': 34}\n"
     ]
    }
   ],
   "source": [
    "# setdefault()\n",
    "info = {'name': 'Ravi', 'section': 'H'}\n",
    "info.setdefault('rolln', 34)\n",
    "info.setdefault('name', 'Akash')\n",
    "print(info)"
   ]
  },
  {
   "cell_type": "code",
   "execution_count": 34,
   "metadata": {},
   "outputs": [
    {
     "name": "stdout",
     "output_type": "stream",
     "text": [
      "3 ['python']\n"
     ]
    }
   ],
   "source": [
    "marks = {'math': 34, 'python':3, 'english':34}\n",
    "out = {}\n",
    "for i in marks.values():\n",
    "    out[i] = []\n",
    "\n",
    "for i in marks.keys():\n",
    "    x = marks[i]\n",
    "    out[x].append(i)\n",
    "\n",
    "# print(out)\n",
    "for i in out:\n",
    "    if len(out[i]) == 1:\n",
    "        print(i, out[i])\n",
    "\n",
    "# 34: ['math', 'english'], 3: ['python']"
   ]
  },
  {
   "cell_type": "code",
   "execution_count": null,
   "metadata": {},
   "outputs": [],
   "source": []
  },
  {
   "cell_type": "code",
   "execution_count": 36,
   "metadata": {},
   "outputs": [
    {
     "name": "stdout",
     "output_type": "stream",
     "text": [
      "{'shikha': '323423', 'ravi': '23444'}\n"
     ]
    }
   ],
   "source": [
    "phonebook = {}\n",
    "for i in range(int(input())):\n",
    "    a, b = input().split() # ['shikha', '4343455']\n",
    "    phonebook[a] = b\n",
    "\n",
    "print(phonebook)"
   ]
  },
  {
   "cell_type": "code",
   "execution_count": 2,
   "metadata": {},
   "outputs": [
    {
     "name": "stdout",
     "output_type": "stream",
     "text": [
      "Before method clear {'name': 'ravi', 'section': 'F'}\n",
      "After clear method {}\n"
     ]
    }
   ],
   "source": [
    "# clear(): remove all the items from dict object\n",
    "info = {'name': 'ravi', 'section': 'F'}\n",
    "print('Before method clear', info)\n",
    "info.clear()\n",
    "\n",
    "print('After clear method', info)\n"
   ]
  },
  {
   "cell_type": "code",
   "execution_count": 5,
   "metadata": {},
   "outputs": [
    {
     "name": "stdout",
     "output_type": "stream",
     "text": [
      "info1 {}\n",
      "info2 {'name': 'ravi', 'section': 'F'}\n"
     ]
    }
   ],
   "source": [
    "# copy(): return shallow copy of the dict object\n",
    "info1 = {'name': 'ravi', 'section': 'F'}\n",
    "info2 = info1.copy()\n",
    "info1.clear()\n",
    "print('info1', info1)\n",
    "print('info2', info2)"
   ]
  },
  {
   "cell_type": "code",
   "execution_count": 8,
   "metadata": {},
   "outputs": [
    {
     "name": "stdout",
     "output_type": "stream",
     "text": [
      "{'name': 'NA', 'section': 'NA', 'rolln': 'NA', 'cpi': 'NA', 'college': 'NA'}\n",
      "{'name': 'mukesh', 'section': 'NA', 'rolln': 'NA', 'cpi': 'NA', 'college': 'GLA'}\n"
     ]
    }
   ],
   "source": [
    "# fromkeys(): return a dict from the seq of keys\n",
    "lst = ['name', 'section', 'rolln', 'cpi', 'college']\n",
    "out = {}.fromkeys(lst, 'NA')\n",
    "print(out)  # temp\n",
    "upd = {'name': 'mukesh', 'college': 'GLA'}\n",
    "out.update(upd) \n",
    "print(out)\n"
   ]
  },
  {
   "cell_type": "code",
   "execution_count": 16,
   "metadata": {},
   "outputs": [
    {
     "name": "stdout",
     "output_type": "stream",
     "text": [
      "None\n"
     ]
    }
   ],
   "source": [
    "# get(): return value of the given key\n",
    "info = {'name': 'Mukesh', 'section': 'F', 'rolln': 34}\n",
    "out = info.get('Name')\n",
    "print(out)"
   ]
  },
  {
   "cell_type": "code",
   "execution_count": 21,
   "metadata": {},
   "outputs": [
    {
     "name": "stdout",
     "output_type": "stream",
     "text": [
      "name\n",
      "section\n"
     ]
    }
   ],
   "source": [
    "# items(): return raw form of the dict(return key value pair (list of tuples))\n",
    "info = {'name': 'ravi', 'section': 'F'}\n",
    "# [('name', 'ravi'), ('section', 'F')]\n",
    "out = info.items()\n",
    "print(out, type(out))\n",
    "for key, val in out:\n",
    "    print(key)\n"
   ]
  },
  {
   "cell_type": "code",
   "execution_count": 30,
   "metadata": {},
   "outputs": [
    {
     "name": "stdout",
     "output_type": "stream",
     "text": [
      "deleted item not available\n",
      "{'name': 'ravi', 'section': 'F'}\n"
     ]
    }
   ],
   "source": [
    "# pop()\n",
    "lst = {'name': 'ravi', 'section': 'F'}\n",
    "out = lst.pop('Name', 'not available')\n",
    "print('deleted item', out)\n",
    "print(lst)"
   ]
  },
  {
   "cell_type": "code",
   "execution_count": 38,
   "metadata": {},
   "outputs": [
    {
     "name": "stdout",
     "output_type": "stream",
     "text": [
      "{'name': 'ravi'}\n"
     ]
    }
   ],
   "source": [
    "lst = {'name': 'ravi', 'section': 'F'}\n",
    "lst.popitem()\n",
    "# lst.popitem()\n",
    "# print('deleted item', out)\n",
    "print(lst)"
   ]
  },
  {
   "cell_type": "code",
   "execution_count": 40,
   "metadata": {},
   "outputs": [
    {
     "name": "stdout",
     "output_type": "stream",
     "text": [
      "{'name': 'ravi', 'section': 'F', 'cpi': 7.5, 'college': 'GLA'}\n"
     ]
    }
   ],
   "source": [
    "# setdefault()\n",
    "info = {'name': 'ravi', 'section': 'F', 'cpi': 7.5}\n",
    "info.setdefault('cpi', 5.5)\n",
    "info.setdefault('college', 'GLA')\n",
    "print(info)"
   ]
  },
  {
   "cell_type": "code",
   "execution_count": null,
   "metadata": {},
   "outputs": [],
   "source": []
  }
 ],
 "metadata": {
  "interpreter": {
   "hash": "e65f2adb31837d233cc97b3b943d57fac211464870b834ca167e6cf16cdc309b"
  },
  "kernelspec": {
   "display_name": "Python 3.10.4 64-bit",
   "language": "python",
   "name": "python3"
  },
  "language_info": {
   "codemirror_mode": {
    "name": "ipython",
    "version": 3
   },
   "file_extension": ".py",
   "mimetype": "text/x-python",
   "name": "python",
   "nbconvert_exporter": "python",
   "pygments_lexer": "ipython3",
   "version": "3.10.4"
  },
  "orig_nbformat": 4
 },
 "nbformat": 4,
 "nbformat_minor": 2
}
