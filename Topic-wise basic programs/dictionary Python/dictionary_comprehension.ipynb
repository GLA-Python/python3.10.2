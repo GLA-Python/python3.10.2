{
 "cells": [
  {
   "cell_type": "code",
   "execution_count": 1,
   "metadata": {},
   "outputs": [
    {
     "name": "stdout",
     "output_type": "stream",
     "text": [
      "[1, 2, 3, 4, 5, 6]\n",
      "{1: 1, 2: 4, 3: 9, 4: 16, 5: 25, 6: 36}\n"
     ]
    }
   ],
   "source": [
    "# dictionary comprehension\n",
    "'''\n",
    "the consize way to create a dict object\n",
    "'''\n",
    "dct = {}\n",
    "lst = [1, 2, 3, 4, 5, 6]\n",
    "for i in lst:\n",
    "    dct[i] = i ** 2\n",
    "print(lst)\n",
    "print(dct)"
   ]
  },
  {
   "cell_type": "code",
   "execution_count": 2,
   "metadata": {},
   "outputs": [
    {
     "name": "stdout",
     "output_type": "stream",
     "text": [
      "{1: 1, 2: 4, 3: 9, 4: 16, 5: 25, 6: 36}\n"
     ]
    }
   ],
   "source": [
    "lst = [1, 2, 3, 4, 5, 6]\n",
    "dct = {i: i**2 for i in lst}\n",
    "print(dct)"
   ]
  },
  {
   "cell_type": "code",
   "execution_count": 7,
   "metadata": {},
   "outputs": [
    {
     "name": "stdout",
     "output_type": "stream",
     "text": [
      "[2, 4, 6]\n"
     ]
    }
   ],
   "source": [
    "# list comprehension\n",
    "lst = [1, 2, 3, 4, 5, 6]\n",
    "out = [i for i in lst if i % 2 == 0]\n",
    "print(out)    "
   ]
  },
  {
   "cell_type": "code",
   "execution_count": 17,
   "metadata": {},
   "outputs": [
    {
     "name": "stdout",
     "output_type": "stream",
     "text": [
      "{'name': 'ravi'}\n"
     ]
    }
   ],
   "source": [
    "# iterate over the dictionary\n",
    "dct = {'name': 'ravi', 'section': 'H'}\n",
    "v = 'H'\n",
    "for i in dct.copy():\n",
    "    if dct[i] == v:\n",
    "        dct.pop(i)\n",
    "print(dct)\n",
    "\n",
    "    "
   ]
  },
  {
   "cell_type": "code",
   "execution_count": 26,
   "metadata": {},
   "outputs": [
    {
     "name": "stdout",
     "output_type": "stream",
     "text": [
      "Key is not available\n"
     ]
    }
   ],
   "source": [
    "# get method: return the value of the given key\n",
    "info = {'name': 'ravi', 'section': 'H'}\n",
    "out = info.get('college', 'Key is not available')\n",
    "print(out)"
   ]
  },
  {
   "cell_type": "code",
   "execution_count": 27,
   "metadata": {},
   "outputs": [
    {
     "name": "stdout",
     "output_type": "stream",
     "text": [
      "{'name': 'ravi'}\n"
     ]
    }
   ],
   "source": [
    "\n",
    "dct = eval(input())  # {'name': 'ravi'}\n",
    "print(dct)"
   ]
  },
  {
   "cell_type": "code",
   "execution_count": 28,
   "metadata": {},
   "outputs": [
    {
     "name": "stdout",
     "output_type": "stream",
     "text": [
      "{'name': 'anirudh', 'class': 'H', 'cpi': '6.5'}\n"
     ]
    }
   ],
   "source": [
    "num = int(input('Enter the number of items '))\n",
    "dct = {}\n",
    "for i in range(num):\n",
    "    key = input('Enter the key')\n",
    "    val = input('Enter the value ')\n",
    "    dct[key] = val\n",
    "print(dct)"
   ]
  },
  {
   "cell_type": "code",
   "execution_count": 35,
   "metadata": {},
   "outputs": [
    {
     "name": "stdout",
     "output_type": "stream",
     "text": [
      "2\n",
      "4\n",
      "67\n",
      "0\n",
      "[None, None, None, None]\n"
     ]
    }
   ],
   "source": [
    "# list comprehension\n",
    "lst  = [2, 4, 67, 0]\n",
    "out = [print(i) for i in lst]\n",
    "    \n",
    "print(out)\n"
   ]
  },
  {
   "cell_type": "code",
   "execution_count": 47,
   "metadata": {},
   "outputs": [
    {
     "name": "stdout",
     "output_type": "stream",
     "text": [
      "{1: 1, 2: 4, 3: 9, 4: 16, 5: 25, 8: 64}\n"
     ]
    }
   ],
   "source": [
    "# dictionary comprehension: consize way to creeate a dictionary object\n",
    "lst = [1, 2, 3, 4, 5, 8]\n",
    "dct = {i: i**2 for i in lst}\n",
    "print(dct)"
   ]
  },
  {
   "cell_type": "code",
   "execution_count": 45,
   "metadata": {},
   "outputs": [
    {
     "name": "stdout",
     "output_type": "stream",
     "text": [
      "[1, 2, 3, 4, 5, 8]\n",
      "[1, 3, 5]\n"
     ]
    }
   ],
   "source": [
    "# list comprehension\n",
    "lst = [1, 2, 3, 4, 5, 8]\n",
    "out = [i for i in lst if i % 2 != 0]\n",
    "\n",
    "print(lst)\n",
    "print(out)"
   ]
  }
 ],
 "metadata": {
  "interpreter": {
   "hash": "e65f2adb31837d233cc97b3b943d57fac211464870b834ca167e6cf16cdc309b"
  },
  "kernelspec": {
   "display_name": "Python 3.10.4 64-bit",
   "language": "python",
   "name": "python3"
  },
  "language_info": {
   "codemirror_mode": {
    "name": "ipython",
    "version": 3
   },
   "file_extension": ".py",
   "mimetype": "text/x-python",
   "name": "python",
   "nbconvert_exporter": "python",
   "pygments_lexer": "ipython3",
   "version": "3.10.4"
  },
  "orig_nbformat": 4
 },
 "nbformat": 4,
 "nbformat_minor": 2
}
