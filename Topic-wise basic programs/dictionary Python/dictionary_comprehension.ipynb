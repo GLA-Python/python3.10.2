{
 "cells": [
  {
   "cell_type": "code",
   "execution_count": 1,
   "metadata": {},
   "outputs": [
    {
     "name": "stdout",
     "output_type": "stream",
     "text": [
      "[1, 2, 3, 4, 5, 6]\n",
      "{1: 1, 2: 4, 3: 9, 4: 16, 5: 25, 6: 36}\n"
     ]
    }
   ],
   "source": [
    "# dictionary comprehension\n",
    "'''\n",
    "the consize way to create a dict object\n",
    "'''\n",
    "dct = {}\n",
    "lst = [1, 2, 3, 4, 5, 6]\n",
    "for i in lst:\n",
    "    dct[i] = i ** 2\n",
    "print(lst)\n",
    "print(dct)"
   ]
  },
  {
   "cell_type": "code",
   "execution_count": 2,
   "metadata": {},
   "outputs": [
    {
     "name": "stdout",
     "output_type": "stream",
     "text": [
      "{1: 1, 2: 4, 3: 9, 4: 16, 5: 25, 6: 36}\n"
     ]
    }
   ],
   "source": [
    "lst = [1, 2, 3, 4, 5, 6]\n",
    "dct = {i: i**2 for i in lst}\n",
    "print(dct)"
   ]
  },
  {
   "cell_type": "code",
   "execution_count": 7,
   "metadata": {},
   "outputs": [
    {
     "name": "stdout",
     "output_type": "stream",
     "text": [
      "[2, 4, 6]\n"
     ]
    }
   ],
   "source": [
    "# list comprehension\n",
    "lst = [1, 2, 3, 4, 5, 6]\n",
    "out = [i for i in lst if i % 2 == 0]\n",
    "print(out)    "
   ]
  },
  {
   "cell_type": "code",
   "execution_count": 17,
   "metadata": {},
   "outputs": [
    {
     "name": "stdout",
     "output_type": "stream",
     "text": [
      "{'name': 'ravi'}\n"
     ]
    }
   ],
   "source": [
    "# iterate over the dictionary\n",
    "dct = {'name': 'ravi', 'section': 'H'}\n",
    "v = 'H'\n",
    "for i in dct.copy():\n",
    "    if dct[i] == v:\n",
    "        dct.pop(i)\n",
    "print(dct)\n",
    "\n",
    "    "
   ]
  },
  {
   "cell_type": "code",
   "execution_count": 26,
   "metadata": {},
   "outputs": [
    {
     "name": "stdout",
     "output_type": "stream",
     "text": [
      "Key is not available\n"
     ]
    }
   ],
   "source": [
    "# get method: return the value of the given key\n",
    "info = {'name': 'ravi', 'section': 'H'}\n",
    "out = info.get('college', 'Key is not available')\n",
    "print(out)"
   ]
  },
  {
   "cell_type": "code",
   "execution_count": 27,
   "metadata": {},
   "outputs": [
    {
     "name": "stdout",
     "output_type": "stream",
     "text": [
      "{'name': 'ravi'}\n"
     ]
    }
   ],
   "source": [
    "\n",
    "dct = eval(input())  # {'name': 'ravi'}\n",
    "print(dct)"
   ]
  },
  {
   "cell_type": "code",
   "execution_count": 28,
   "metadata": {},
   "outputs": [
    {
     "name": "stdout",
     "output_type": "stream",
     "text": [
      "{'name': 'anirudh', 'class': 'H', 'cpi': '6.5'}\n"
     ]
    }
   ],
   "source": [
    "num = int(input('Enter the number of items '))\n",
    "dct = {}\n",
    "for i in range(num):\n",
    "    key = input('Enter the key')\n",
    "    val = input('Enter the value ')\n",
    "    dct[key] = val\n",
    "print(dct)"
   ]
  },
  {
   "cell_type": "code",
   "execution_count": 35,
   "metadata": {},
   "outputs": [
    {
     "name": "stdout",
     "output_type": "stream",
     "text": [
      "2\n",
      "4\n",
      "67\n",
      "0\n",
      "[None, None, None, None]\n"
     ]
    }
   ],
   "source": [
    "# list comprehension\n",
    "lst  = [2, 4, 67, 0]\n",
    "out = [print(i) for i in lst]\n",
    "    \n",
    "print(out)\n"
   ]
  },
  {
   "cell_type": "code",
   "execution_count": 47,
   "metadata": {},
   "outputs": [
    {
     "name": "stdout",
     "output_type": "stream",
     "text": [
      "{1: 1, 2: 4, 3: 9, 4: 16, 5: 25, 8: 64}\n"
     ]
    }
   ],
   "source": [
    "# dictionary comprehension: consize way to creeate a dictionary object\n",
    "lst = [1, 2, 3, 4, 5, 8]\n",
    "dct = {i: i**2 for i in lst}\n",
    "print(dct)"
   ]
  },
  {
   "cell_type": "code",
   "execution_count": 45,
   "metadata": {},
   "outputs": [
    {
     "name": "stdout",
     "output_type": "stream",
     "text": [
      "[1, 2, 3, 4, 5, 8]\n",
      "[1, 3, 5]\n"
     ]
    }
   ],
   "source": [
    "# list comprehension\n",
    "lst = [1, 2, 3, 4, 5, 8]\n",
    "out = [i for i in lst if i % 2 != 0]\n",
    "\n",
    "print(lst)\n",
    "print(out)"
   ]
  },
  {
   "cell_type": "code",
   "execution_count": 2,
   "metadata": {},
   "outputs": [
    {
     "name": "stdout",
     "output_type": "stream",
     "text": [
      "{'rollno': 23}\n"
     ]
    }
   ],
   "source": [
    "# nested dictionary \n",
    "dct = {}\n",
    "# logic to add the elements \n",
    "key = eval(input('Enter the key '))\n",
    "val = eval(input('Enter the value '))\n",
    "# dct.update({key:val})\n",
    "dct[key] = val\n",
    "\n",
    "print(dct)"
   ]
  },
  {
   "cell_type": "code",
   "execution_count": 10,
   "metadata": {},
   "outputs": [
    {
     "name": "stdout",
     "output_type": "stream",
     "text": [
      "90888888\n"
     ]
    }
   ],
   "source": [
    "dct = {'marks': {'math': 30, 'python': 3}, \n",
    "'rolln': 45, \n",
    "'contact': {'father': {'home':90888888, 'office':545554}, 'mother': 9899998, 'student': 988787777}}\n",
    "\n",
    "info = dct['contact']['father']['home']\n",
    "print(info)"
   ]
  },
  {
   "cell_type": "code",
   "execution_count": 13,
   "metadata": {},
   "outputs": [
    {
     "ename": "SyntaxError",
     "evalue": "invalid syntax (<string>, line 0)",
     "output_type": "error",
     "traceback": [
      "Traceback \u001b[1;36m(most recent call last)\u001b[0m:\n",
      "  File \u001b[0;32m~\\AppData\\Local\\Programs\\Python\\Python310\\lib\\site-packages\\IPython\\core\\interactiveshell.py:3369\u001b[0m in \u001b[0;35mrun_code\u001b[0m\n    exec(code_obj, self.user_global_ns, self.user_ns)\n",
      "\u001b[1;36m  Input \u001b[1;32mIn [13]\u001b[1;36m in \u001b[1;35m<cell line: 3>\u001b[1;36m\u001b[0m\n\u001b[1;33m    key = eval(input('Enter the key '))\u001b[0m\n",
      "\u001b[1;36m  File \u001b[1;32m<string>\u001b[1;36m\u001b[0m\n\u001b[1;33m    \u001b[0m\n\u001b[1;37m    ^\u001b[0m\n\u001b[1;31mSyntaxError\u001b[0m\u001b[1;31m:\u001b[0m invalid syntax\n"
     ]
    }
   ],
   "source": [
    "dct = {}\n",
    "\n",
    "while 1:\n",
    "\n",
    "    key = eval(input('Enter the key '))\n",
    "    dct[key] = {}\n",
    "    while 1:\n",
    "        k1 = eval(input('Enter the key '))\n",
    "        v1 = eval(input('Enter the value '))\n",
    "        dct[key].update({k1:v1})\n",
    "\n",
    "        if input('Do you want to continue Y/N ') == 'N':\n",
    "            break\n",
    "\n",
    "    if input('Do you want to add another key Y/N') == 'N':\n",
    "        break\n",
    "print(dct)\n",
    "\n",
    "# logic of sum of all values \n",
    "marks_sum = sum(dct['marks'].values())\n",
    "print(marks_sum)"
   ]
  },
  {
   "cell_type": "code",
   "execution_count": 40,
   "metadata": {},
   "outputs": [
    {
     "name": "stdout",
     "output_type": "stream",
     "text": [
      "1000\n"
     ]
    }
   ],
   "source": [
    "dct = {2: 100, 30: 500, (3, 5): 1000, 'Hi': 0}\n",
    "x = 3, 5\n",
    "out = dct.get(x)\n",
    "print(out)"
   ]
  },
  {
   "cell_type": "code",
   "execution_count": 42,
   "metadata": {},
   "outputs": [
    {
     "name": "stdout",
     "output_type": "stream",
     "text": [
      "{3: ['python'], 34: ['math', 'english', 'physics']}\n"
     ]
    }
   ],
   "source": [
    "marks = {'python': 3, 'math': 34, 'english': 34, 'physics': 34}\n",
    "out = {}\n",
    "for key in marks:\n",
    "    if marks[key] in out:\n",
    "        out[marks[key]].append(key)\n",
    "    else:\n",
    "        out[marks[key]] =  [key]\n",
    "    \n",
    "print(out)\n",
    "# {3: ['python'], 34: ['math', 'english', 'physics']}"
   ]
  },
  {
   "cell_type": "code",
   "execution_count": 85,
   "metadata": {},
   "outputs": [
    {
     "name": "stdout",
     "output_type": "stream",
     "text": [
      "[2, 4, 5, 76, 8]\n",
      "{2: 4, 4: 16, 5: 25, 76: 5776, 8: 64}\n"
     ]
    }
   ],
   "source": [
    "# dictionary comprehension: The consize way to create a dictionary\n",
    "lst = [2, 4, 5, 76, 8]\n",
    "dct = {i: i**2 for i in lst}\n",
    "print(lst)\n",
    "print(dct)"
   ]
  },
  {
   "cell_type": "code",
   "execution_count": 65,
   "metadata": {},
   "outputs": [
    {
     "name": "stdout",
     "output_type": "stream",
     "text": [
      "shikha 9282384\n"
     ]
    }
   ],
   "source": [
    "# item search using value/key\n",
    "phonebook = {'shikha': '9282384', 'ravi': '876767676', 'ankit': '44343434'}\n",
    "# key = ''\n",
    "mob = '9282384'\n",
    "# out = phonebook.get(key, 'Mobile number not found')\n",
    "for i in phonebook:\n",
    "    if phonebook[i] == mob:\n",
    "        print(i, mob)\n",
    "        break\n",
    "else:\n",
    "    print('Mobile number not found')    \n",
    "# print(out)"
   ]
  },
  {
   "cell_type": "code",
   "execution_count": 81,
   "metadata": {},
   "outputs": [
    {
     "name": "stdout",
     "output_type": "stream",
     "text": [
      "4\n"
     ]
    }
   ],
   "source": [
    "dct = {(2, 4): 200, 'hi': 100, 20: 300}\n",
    "out = dct.get(2, 4)\n",
    "print(out)"
   ]
  },
  {
   "cell_type": "code",
   "execution_count": 53,
   "metadata": {},
   "outputs": [
    {
     "name": "stdout",
     "output_type": "stream",
     "text": [
      "[2, 4, 5, 76, 8]\n",
      "[5]\n"
     ]
    }
   ],
   "source": [
    "lst = [2, 4, 5, 76, 8]\n",
    "out = [i for i in lst if i%2!=0]\n",
    "print(lst)\n",
    "print(out)  "
   ]
  },
  {
   "cell_type": "code",
   "execution_count": 100,
   "metadata": {},
   "outputs": [
    {
     "name": "stdout",
     "output_type": "stream",
     "text": [
      "1\n"
     ]
    }
   ],
   "source": [
    "dct = {(1, 2): 100, 'hi': 0, (2, 5): 1, 2: -23}\n",
    "\n",
    "out = dct.get((2, 5))\n",
    "print(out)"
   ]
  },
  {
   "cell_type": "code",
   "execution_count": 112,
   "metadata": {},
   "outputs": [
    {
     "name": "stdout",
     "output_type": "stream",
     "text": [
      "{'python': 3, 'english': 20, 'math': 23}\n"
     ]
    }
   ],
   "source": [
    "# sort the dictionary with value\n",
    "def fun(x):\n",
    "    return x[-1]\n",
    "\n",
    "marks = {'math': 23, 'python': 3, 'english': 20}\n",
    "out = dict(sorted(marks.items(), key=fun))\n",
    "print(out)"
   ]
  },
  {
   "cell_type": "code",
   "execution_count": 111,
   "metadata": {},
   "outputs": [
    {
     "name": "stdout",
     "output_type": "stream",
     "text": [
      "[('bh', 0), ('ua', 1), ('hi', 3)]\n"
     ]
    }
   ],
   "source": [
    "def fun(x):\n",
    "    return x[-1]\n",
    "\n",
    "lst = [('hi', 3), ('bh', 0), ('ua', 1)]\n",
    "lst = sorted(lst, key=fun)\n",
    "print(lst)"
   ]
  },
  {
   "cell_type": "code",
   "execution_count": 116,
   "metadata": {},
   "outputs": [
    {
     "name": "stdout",
     "output_type": "stream",
     "text": [
      "['abhishek', 'rahul zzz', 'tushar saini']\n"
     ]
    }
   ],
   "source": [
    "def apna_fun(x):\n",
    "    return sum([ord(i) for i in x])\n",
    "\n",
    "\n",
    "lst = ['tushar saini', 'rahul zzz', 'abhishek']\n",
    "lst.sort(key=apna_fun)\n",
    "print(lst)"
   ]
  }
 ],
 "metadata": {
  "interpreter": {
   "hash": "e65f2adb31837d233cc97b3b943d57fac211464870b834ca167e6cf16cdc309b"
  },
  "kernelspec": {
   "display_name": "Python 3.10.4 64-bit",
   "language": "python",
   "name": "python3"
  },
  "language_info": {
   "codemirror_mode": {
    "name": "ipython",
    "version": 3
   },
   "file_extension": ".py",
   "mimetype": "text/x-python",
   "name": "python",
   "nbconvert_exporter": "python",
   "pygments_lexer": "ipython3",
   "version": "3.10.4"
  },
  "orig_nbformat": 4
 },
 "nbformat": 4,
 "nbformat_minor": 2
}
