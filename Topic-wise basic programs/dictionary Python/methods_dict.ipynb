{
 "cells": [
  {
   "cell_type": "code",
   "execution_count": 2,
   "metadata": {},
   "outputs": [
    {
     "name": "stdout",
     "output_type": "stream",
     "text": [
      "Before method clear {'name': 'ravi', 'section': 'J', 'cpi': 7.5}\n",
      "After clear method {}\n"
     ]
    }
   ],
   "source": [
    "# clear(): remove all the items from the object dict\n",
    "info = {'name': 'ravi', 'section': 'J', 'cpi': 7.5}\n",
    "print('Before method clear', info)\n",
    "info.clear()\n",
    "print('After clear method', info)\n"
   ]
  },
  {
   "cell_type": "code",
   "execution_count": 7,
   "metadata": {},
   "outputs": [
    {
     "name": "stdout",
     "output_type": "stream",
     "text": [
      "Info1 {'name': 'ravi', 'section': 'J', 'cpi': 7.5}\n",
      "Info2 {}\n"
     ]
    }
   ],
   "source": [
    "# copy(): return the shallow copy of the object dict\n",
    "info1 = {'name': 'ravi', 'section': 'J', 'cpi': 7.5}\n",
    "info2 = info1.copy()\n",
    "info2.clear()\n",
    "print('Info1', info1)\n",
    "print('Info2', info2)"
   ]
  },
  {
   "cell_type": "code",
   "execution_count": 11,
   "metadata": {},
   "outputs": [
    {
     "name": "stdout",
     "output_type": "stream",
     "text": [
      "{'name': 'NA', 'section': 'NA', 'college': 'NA', 'rolln': 'NA', 'cpi': 'NA'}\n",
      "{'name': 'Mukesh', 'section': 'NA', 'college': 'GLA', 'rolln': 'NA', 'cpi': 'NA'}\n"
     ]
    }
   ],
   "source": [
    "# fromkeys(): create and return the dictionary with keys in list(seq)\n",
    "lst = ['name', 'section', 'college', 'rolln', 'cpi']\n",
    "dct = dict.fromkeys(lst, 'NA')\n",
    "print(dct)\n",
    "upd = {'name': 'Mukesh', 'college': 'GLA'}\n",
    "dct.update(upd)\n",
    "print(dct)"
   ]
  },
  {
   "cell_type": "code",
   "execution_count": 18,
   "metadata": {},
   "outputs": [
    {
     "name": "stdout",
     "output_type": "stream",
     "text": [
      "ravi\n"
     ]
    }
   ],
   "source": [
    "# get(): return the value of the key\n",
    "info = {'name': 'ravi', 'section': 'J', 'cpi': 7.5}\n",
    "out = info.get('name', 'key is not available')\n",
    "print(out)"
   ]
  },
  {
   "cell_type": "code",
   "execution_count": 23,
   "metadata": {},
   "outputs": [
    {
     "name": "stdout",
     "output_type": "stream",
     "text": [
      "Deleted value ravi\n",
      "{'section': 'J', 'cpi': 7.5}\n"
     ]
    }
   ],
   "source": [
    "# pop(): remove the item using key and return value\n",
    "info = {'name': 'ravi', 'section': 'J', 'cpi': 7.5}\n",
    "out = info.pop('name', 'Key is not found')\n",
    "print('Deleted value', out)\n",
    "print(info)"
   ]
  },
  {
   "cell_type": "code",
   "execution_count": 33,
   "metadata": {},
   "outputs": [
    {
     "name": "stdout",
     "output_type": "stream",
     "text": [
      "dict_items([('name', 'ravi'), ('section', 'J'), ('cpi', 7.5)]) <class 'dict_items'>\n"
     ]
    }
   ],
   "source": [
    "# items(): return the list of tuples of key and values\n",
    "info = {'name': 'ravi', 'section': 'J', 'cpi': 7.5}\n",
    "out = info.items()\n",
    "print(out, type(out))\n"
   ]
  },
  {
   "cell_type": "code",
   "execution_count": 30,
   "metadata": {},
   "outputs": [
    {
     "name": "stdout",
     "output_type": "stream",
     "text": [
      "deleted pair ('cpi', 7.5)\n",
      "{'name': 'ravi', 'section': 'J'}\n"
     ]
    }
   ],
   "source": [
    "# popitem(): remove and return the last arbitrary pair in a dct object\n",
    "info = {'name': 'ravi', 'section': 'J', 'cpi': 7.5}\n",
    "# [('name', 'ravi'), ('section', 'J'), ('cpi', 7.5)]\n",
    "\n",
    "out = info.popitem()\n",
    "print('deleted pair', out)\n",
    "print(info)"
   ]
  },
  {
   "cell_type": "code",
   "execution_count": 35,
   "metadata": {},
   "outputs": [
    {
     "name": "stdout",
     "output_type": "stream",
     "text": [
      "{'name': 'ravi', 'section': 'J', 'cpi': 7.5, 'college': 'GLA'}\n"
     ]
    }
   ],
   "source": [
    "# setdefault(): set default value  of the keyif key is not found\n",
    "info = {'name': 'ravi', 'section': 'J', 'cpi': 7.5}\n",
    "info.setdefault('college', 'GLA')\n",
    "print(info)"
   ]
  },
  {
   "cell_type": "code",
   "execution_count": 38,
   "metadata": {},
   "outputs": [
    {
     "name": "stdout",
     "output_type": "stream",
     "text": [
      "{}\n"
     ]
    }
   ],
   "source": [
    "# clear(): remove all the items from dict object\n",
    "info = {'name': 'ravi', 'section': 'J', 'cpi': 7.5}\n",
    "info.clear()\n",
    "\n",
    "print(info)"
   ]
  },
  {
   "cell_type": "code",
   "execution_count": 44,
   "metadata": {},
   "outputs": [
    {
     "name": "stdout",
     "output_type": "stream",
     "text": [
      "{'name': None, 'section': None, 'rolln': None, 'mobn': None, 'college': None}\n",
      "{'name': 'Ankit', 'section': None, 'rolln': None, 'mobn': None, 'college': 'GLA'}\n"
     ]
    }
   ],
   "source": [
    "# fromkeys(): create and return the dictionary with the keys in a list\n",
    "lst = ['name', 'section', 'rolln', 'mobn', 'college']\n",
    "out = dict.fromkeys(lst)\n",
    "print(out)\n",
    "upd = {'name': 'Ankit', 'college': 'GLA'}\n",
    "out.update(upd)\n",
    "print(out)\n"
   ]
  },
  {
   "cell_type": "code",
   "execution_count": 49,
   "metadata": {},
   "outputs": [
    {
     "name": "stdout",
     "output_type": "stream",
     "text": [
      "{'name': 'ravi', 'section': 'J', 'cpi': 7.5}\n"
     ]
    }
   ],
   "source": [
    "# setdefault(): set the default value in a dict object if key is not available\n",
    "info = {'name': 'ravi', 'section': 'J', 'cpi': 7.5}\n",
    "info.setdefault('name', 'kapil')\n",
    "print(info)"
   ]
  },
  {
   "cell_type": "code",
   "execution_count": 55,
   "metadata": {},
   "outputs": [
    {
     "name": "stdout",
     "output_type": "stream",
     "text": [
      "dict_keys(['name', 'section', 'cpi'])\n"
     ]
    }
   ],
   "source": [
    "# items()\n",
    "info = {'name': 'ravi', 'section': 'J', 'cpi': 7.5}\n",
    "# [('name', 'ravi'), ('section', 'J'), ('cpi', 7.5) ]\n",
    "out = info.keys()\n",
    "print(out)"
   ]
  }
 ],
 "metadata": {
  "interpreter": {
   "hash": "e65f2adb31837d233cc97b3b943d57fac211464870b834ca167e6cf16cdc309b"
  },
  "kernelspec": {
   "display_name": "Python 3.10.4 64-bit",
   "language": "python",
   "name": "python3"
  },
  "language_info": {
   "codemirror_mode": {
    "name": "ipython",
    "version": 3
   },
   "file_extension": ".py",
   "mimetype": "text/x-python",
   "name": "python",
   "nbconvert_exporter": "python",
   "pygments_lexer": "ipython3",
   "version": "3.10.4"
  },
  "orig_nbformat": 4
 },
 "nbformat": 4,
 "nbformat_minor": 2
}
