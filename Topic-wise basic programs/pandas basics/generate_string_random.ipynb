{
 "cells": [
  {
   "cell_type": "code",
   "execution_count": 9,
   "metadata": {},
   "outputs": [
    {
     "name": "stdout",
     "output_type": "stream",
     "text": [
      "ABC\n",
      "ACB\n",
      "BAC\n",
      "BCA\n",
      "CAB\n",
      "CBA\n"
     ]
    }
   ],
   "source": [
    "# Permutation of a given string using inbuilt function\n",
    "# Input :  str = 'ABC'\n",
    "# Output : ABC \n",
    "#          ACB \n",
    "#          BAC \n",
    "#          BCA \n",
    "#          CAB \n",
    "#          CBA\n",
    "import itertools as tools\n",
    "out = tools.permutations('ABC', 3)\n",
    "for i in out:\n",
    "    print(*i, sep='')"
   ]
  },
  {
   "cell_type": "code",
   "execution_count": 12,
   "metadata": {},
   "outputs": [
    {
     "name": "stdout",
     "output_type": "stream",
     "text": [
      "['mango', 'mongo']\n"
     ]
    }
   ],
   "source": [
    "\n",
    "# Find all close matches of input string from a list\n",
    "import difflib\n",
    "word = 'mango'\n",
    "lst = ['mango', 'apple', 'banana', 'mongo', 'pineapple']\n",
    "out = difflib.get_close_matches(word, lst)\n",
    "print(out)"
   ]
  },
  {
   "cell_type": "code",
   "execution_count": 13,
   "metadata": {},
   "outputs": [
    {
     "name": "stdout",
     "output_type": "stream",
     "text": [
      "ZMZ\n",
      "TiO\n",
      "Exz\n",
      "hez\n",
      "Z2J\n",
      "XVc\n",
      "s4v\n",
      "KLZ\n",
      "UsZ\n",
      "DiM\n",
      ";dr\n",
      "Zkr\n",
      "4:r\n",
      "amr\n",
      "Target matched after 14 iterations\n"
     ]
    }
   ],
   "source": [
    "# Python program to generate and match\n",
    "# the string from all random strings\n",
    "# of same length\n",
    "\n",
    "# Importing string, random\n",
    "# and time modules\n",
    "import string\n",
    "import random\n",
    "import time\n",
    "\n",
    "# all possible characters including\n",
    "# lowercase, uppercase and special symbols\n",
    "possibleCharacters = string.ascii_lowercase + string.digits + string.ascii_uppercase + ' .,!?;:'\n",
    "\n",
    "# string to be generated\n",
    "t = \"amr\"\n",
    "\n",
    "# To take input from user\n",
    "# t = input(str(\"Enter your target text: \"))\n",
    "\n",
    "attemptThis = ''.join(random.choice(possibleCharacters) for i in range(len(t)))\n",
    "attemptNext = ''\n",
    "\n",
    "completed = False\n",
    "iteration = 0\n",
    "\n",
    "# Iterate while completed is false\n",
    "while completed == False:\n",
    "\tprint(attemptThis)\n",
    "\t\n",
    "\tattemptNext = ''\n",
    "\tcompleted = True\n",
    "\t\n",
    "\t# Fix the index if matches with\n",
    "\t# the strings to be generated\n",
    "\tfor i in range(len(t)):\n",
    "\t\tif attemptThis[i] != t[i]:\n",
    "\t\t\tcompleted = False\n",
    "\t\t\tattemptNext += random.choice(possibleCharacters)\n",
    "\t\telse:\n",
    "\t\t\tattemptNext += t[i]\n",
    "\t\t\t\n",
    "\t# increment the iteration\n",
    "\titeration += 1\n",
    "\tattemptThis = attemptNext\n",
    "\ttime.sleep(0.1)\n",
    "\n",
    "# Driver Code\n",
    "print(\"Target matched after \" + str(iteration) + \" iterations\")\n"
   ]
  }
 ],
 "metadata": {
  "interpreter": {
   "hash": "490f1c68ed42f2c5a574e22fb9e03ff49b98516de8582ff1c5d4fb43fb70f61b"
  },
  "kernelspec": {
   "display_name": "Python 3.10.4 64-bit",
   "language": "python",
   "name": "python3"
  },
  "language_info": {
   "codemirror_mode": {
    "name": "ipython",
    "version": 3
   },
   "file_extension": ".py",
   "mimetype": "text/x-python",
   "name": "python",
   "nbconvert_exporter": "python",
   "pygments_lexer": "ipython3",
   "version": "3.10.4"
  },
  "orig_nbformat": 4
 },
 "nbformat": 4,
 "nbformat_minor": 2
}
