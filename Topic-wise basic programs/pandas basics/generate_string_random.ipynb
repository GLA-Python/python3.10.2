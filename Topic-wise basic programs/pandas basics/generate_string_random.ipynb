{
 "cells": [
  {
   "cell_type": "code",
   "execution_count": 9,
   "metadata": {},
   "outputs": [
    {
     "name": "stdout",
     "output_type": "stream",
     "text": [
      "ABC\n",
      "ACB\n",
      "BAC\n",
      "BCA\n",
      "CAB\n",
      "CBA\n"
     ]
    }
   ],
   "source": [
    "# Permutation of a given string using inbuilt function\n",
    "# Input :  str = 'ABC'\n",
    "# Output : ABC \n",
    "#          ACB \n",
    "#          BAC \n",
    "#          BCA \n",
    "#          CAB \n",
    "#          CBA\n",
    "import itertools as tools\n",
    "out = tools.permutations('ABC', 3)\n",
    "for i in out:\n",
    "    print(*i, sep='')"
   ]
  },
  {
   "cell_type": "code",
   "execution_count": 12,
   "metadata": {},
   "outputs": [
    {
     "name": "stdout",
     "output_type": "stream",
     "text": [
      "['mango', 'mongo']\n"
     ]
    }
   ],
   "source": [
    "\n",
    "# Find all close matches of input string from a list\n",
    "import difflib\n",
    "word = 'mango'\n",
    "lst = ['mango', 'apple', 'banana', 'mongo', 'pineapple']\n",
    "out = difflib.get_close_matches(word, lst)\n",
    "print(out)"
   ]
  },
  {
   "cell_type": "code",
   "execution_count": 14,
   "metadata": {},
   "outputs": [
    {
     "name": "stdout",
     "output_type": "stream",
     "text": [
      "b4Y\n",
      "vCT\n",
      "T0g\n",
      "N8G\n",
      "D19\n",
      "6He\n",
      "tSi\n",
      "DK8\n",
      "4mL\n",
      "hm;\n",
      "em4\n",
      "9m?\n",
      "3md\n",
      "3mv\n",
      ",mH\n",
      "wmw\n",
      "qmF\n",
      "Vm,\n",
      "gm?\n",
      "xmh\n",
      "omQ\n",
      "WmI\n",
      "Lmw\n",
      "ZmQ\n",
      "lml\n",
      "pmS\n",
      "hmG\n",
      "tm.\n",
      "Jmf\n",
      "NmU\n",
      "MmM\n",
      "1mC\n",
      "tmq\n",
      " m1\n",
      "kmZ\n",
      "Mm:\n",
      "Vmh\n",
      "8m,\n",
      "tmA\n",
      "Omc\n",
      "xmv\n",
      "7mN\n",
      "LmP\n",
      "5md\n",
      "km8\n",
      ",mH\n",
      "Fmt\n",
      "4mD\n",
      "wmP\n",
      ":mI\n",
      "imj\n",
      "sml\n",
      "4mj\n",
      "SmF\n",
      "hmJ\n",
      "Dm,\n",
      "SmC\n",
      "GmR\n",
      "umc\n",
      "nmy\n",
      "2m;\n",
      "0m1\n",
      "ymJ\n",
      "KmY\n",
      "?m3\n",
      "bm5\n",
      "umL\n",
      "qmc\n",
      "bm1\n",
      "rm1\n",
      "lm4\n",
      "rm6\n",
      "Wmk\n",
      ".ma\n",
      "Mm1\n",
      "7mr\n",
      "umr\n",
      "imr\n",
      "Jmr\n",
      "smr\n",
      "1mr\n",
      "amr\n"
     ]
    }
   ],
   "source": [
    "\n",
    "import string\n",
    "import random\n",
    "\n",
    "possibleChar = string.ascii_lowercase + string.digits + string.ascii_uppercase + ' .,!?;:'\n",
    "\n",
    "# user string\n",
    "string = input(\"Enter your text string: \")\n",
    "\n",
    "inc = ''\n",
    "for i in range(len(string)):\n",
    "\tinc += random.choice(possibleChar)\n",
    "\n",
    "exc = ''\n",
    "b = False\n",
    "\n",
    "# find all combinations of string\n",
    "while b == False:\n",
    "\tprint(inc)\n",
    "\texc = ''\t\n",
    "\t# length of input string match\n",
    "\t# generated output string\n",
    "\tb = True\n",
    "\tfor i in range(len(string)):\n",
    "\t\tif inc[i] != string[i]:\n",
    "\t\t\tb = False\n",
    "\t\t\texc += random.choice(possibleChar)\n",
    "\t\telse:\n",
    "\t\t\texc += string[i]\n",
    "\tinc = exc\n",
    "\n",
    "\n"
   ]
  }
 ],
 "metadata": {
  "interpreter": {
   "hash": "490f1c68ed42f2c5a574e22fb9e03ff49b98516de8582ff1c5d4fb43fb70f61b"
  },
  "kernelspec": {
   "display_name": "Python 3.10.4 64-bit",
   "language": "python",
   "name": "python3"
  },
  "language_info": {
   "codemirror_mode": {
    "name": "ipython",
    "version": 3
   },
   "file_extension": ".py",
   "mimetype": "text/x-python",
   "name": "python",
   "nbconvert_exporter": "python",
   "pygments_lexer": "ipython3",
   "version": "3.10.4"
  },
  "orig_nbformat": 4
 },
 "nbformat": 4,
 "nbformat_minor": 2
}
