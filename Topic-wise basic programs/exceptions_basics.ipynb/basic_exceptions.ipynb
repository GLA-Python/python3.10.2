{
 "cells": [
  {
   "cell_type": "code",
   "execution_count": null,
   "metadata": {},
   "outputs": [],
   "source": [
    "# Topic: Exceptions Handling\n",
    "'''\n",
    "\n",
    "1. Syntax Error: caused by wrong syntax in the code\n",
    "2. Exceptions(Run time error): during the execution of the program \n",
    "\n",
    "'''"
   ]
  },
  {
   "cell_type": "code",
   "execution_count": 38,
   "metadata": {},
   "outputs": [
    {
     "name": "stdout",
     "output_type": "stream",
     "text": [
      "b\n"
     ]
    }
   ],
   "source": [
    "lst = ['a', 'b']\n",
    "try:\n",
    "    out = lst[1]\n",
    "    print(out)\n",
    "except:\n",
    "    print('Invalid Index') \n",
    "   "
   ]
  },
  {
   "cell_type": "code",
   "execution_count": 46,
   "metadata": {},
   "outputs": [
    {
     "name": "stdout",
     "output_type": "stream",
     "text": [
      "Not valid Variable name 'A' is not defined\n"
     ]
    }
   ],
   "source": [
    "a = 10\n",
    "try:\n",
    "    print(A)\n",
    "except NameError as e:\n",
    "    print('Not valid Variable', e) \n",
    "except ZeroDivisionError:\n",
    "    print('Divide by zero')       "
   ]
  },
  {
   "cell_type": "code",
   "execution_count": 49,
   "metadata": {},
   "outputs": [
    {
     "name": "stdout",
     "output_type": "stream",
     "text": [
      "start\n",
      "Invalid Index\n",
      "stop\n"
     ]
    }
   ],
   "source": [
    "print('start')\n",
    "lst = ['a', 'b']\n",
    "try:\n",
    "    out = lst[2]\n",
    "    print(out)\n",
    "except:\n",
    "    print('Invalid Index')\n",
    "else:\n",
    "    print('Operation Succesfull')        \n",
    "\n",
    "print('stop')"
   ]
  },
  {
   "cell_type": "code",
   "execution_count": 60,
   "metadata": {},
   "outputs": [
    {
     "name": "stdout",
     "output_type": "stream",
     "text": [
      "start\n",
      "stop\n"
     ]
    },
    {
     "ename": "TypeError",
     "evalue": "unsupported operand type(s) for /: 'int' and 'str'",
     "output_type": "error",
     "traceback": [
      "\u001b[1;31m---------------------------------------------------------------------------\u001b[0m",
      "\u001b[1;31mTypeError\u001b[0m                                 Traceback (most recent call last)",
      "\u001b[1;32mc:\\Users\\drami\\OneDrive\\Desktop\\GLA Classes\\Python Classes\\batch 2021-22\\python3.10.2\\Topic-wise basic programs\\exceptions_basics.ipynb\\basic_exceptions.ipynb Cell 5'\u001b[0m in \u001b[0;36m<cell line: 4>\u001b[1;34m()\u001b[0m\n\u001b[0;32m      <a href='vscode-notebook-cell:/c%3A/Users/drami/OneDrive/Desktop/GLA%20Classes/Python%20Classes/batch%202021-22/python3.10.2/Topic-wise%20basic%20programs/exceptions_basics.ipynb/basic_exceptions.ipynb#ch0000011?line=2'>3</a>\u001b[0m lst \u001b[39m=\u001b[39m [\u001b[39m'\u001b[39m\u001b[39ma\u001b[39m\u001b[39m'\u001b[39m, \u001b[39m'\u001b[39m\u001b[39mb\u001b[39m\u001b[39m'\u001b[39m]\n\u001b[0;32m      <a href='vscode-notebook-cell:/c%3A/Users/drami/OneDrive/Desktop/GLA%20Classes/Python%20Classes/batch%202021-22/python3.10.2/Topic-wise%20basic%20programs/exceptions_basics.ipynb/basic_exceptions.ipynb#ch0000011?line=3'>4</a>\u001b[0m \u001b[39mtry\u001b[39;00m:\n\u001b[1;32m----> <a href='vscode-notebook-cell:/c%3A/Users/drami/OneDrive/Desktop/GLA%20Classes/Python%20Classes/batch%202021-22/python3.10.2/Topic-wise%20basic%20programs/exceptions_basics.ipynb/basic_exceptions.ipynb#ch0000011?line=4'>5</a>\u001b[0m     out \u001b[39m=\u001b[39m \u001b[39m10\u001b[39;49m\u001b[39m/\u001b[39;49m\u001b[39m'\u001b[39;49m\u001b[39mh\u001b[39;49m\u001b[39m'\u001b[39;49m\n\u001b[0;32m      <a href='vscode-notebook-cell:/c%3A/Users/drami/OneDrive/Desktop/GLA%20Classes/Python%20Classes/batch%202021-22/python3.10.2/Topic-wise%20basic%20programs/exceptions_basics.ipynb/basic_exceptions.ipynb#ch0000011?line=5'>6</a>\u001b[0m     \u001b[39mprint\u001b[39m(out)\n\u001b[0;32m      <a href='vscode-notebook-cell:/c%3A/Users/drami/OneDrive/Desktop/GLA%20Classes/Python%20Classes/batch%202021-22/python3.10.2/Topic-wise%20basic%20programs/exceptions_basics.ipynb/basic_exceptions.ipynb#ch0000011?line=6'>7</a>\u001b[0m \u001b[39mexcept\u001b[39;00m \u001b[39mZeroDivisionError\u001b[39;00m \u001b[39mas\u001b[39;00m e:\n",
      "\u001b[1;31mTypeError\u001b[0m: unsupported operand type(s) for /: 'int' and 'str'"
     ]
    }
   ],
   "source": [
    "# 3 try-finally\n",
    "print('start')\n",
    "lst = ['a', 'b']\n",
    "try:\n",
    "    out = 10/'h'\n",
    "    print(out)\n",
    "except ZeroDivisionError as e:\n",
    "    print(e)    \n",
    "finally:\n",
    "    print('stop')"
   ]
  },
  {
   "cell_type": "code",
   "execution_count": 61,
   "metadata": {},
   "outputs": [
    {
     "ename": "AttributeError",
     "evalue": "'list' object has no attribute 'find'",
     "output_type": "error",
     "traceback": [
      "\u001b[1;31m---------------------------------------------------------------------------\u001b[0m",
      "\u001b[1;31mAttributeError\u001b[0m                            Traceback (most recent call last)",
      "\u001b[1;32mc:\\Users\\drami\\OneDrive\\Desktop\\GLA Classes\\Python Classes\\batch 2021-22\\python3.10.2\\Topic-wise basic programs\\exceptions_basics.ipynb\\basic_exceptions.ipynb Cell 6'\u001b[0m in \u001b[0;36m<cell line: 3>\u001b[1;34m()\u001b[0m\n\u001b[0;32m      <a href='vscode-notebook-cell:/c%3A/Users/drami/OneDrive/Desktop/GLA%20Classes/Python%20Classes/batch%202021-22/python3.10.2/Topic-wise%20basic%20programs/exceptions_basics.ipynb/basic_exceptions.ipynb#ch0000012?line=0'>1</a>\u001b[0m \u001b[39m# AttributeError\u001b[39;00m\n\u001b[0;32m      <a href='vscode-notebook-cell:/c%3A/Users/drami/OneDrive/Desktop/GLA%20Classes/Python%20Classes/batch%202021-22/python3.10.2/Topic-wise%20basic%20programs/exceptions_basics.ipynb/basic_exceptions.ipynb#ch0000012?line=1'>2</a>\u001b[0m lst \u001b[39m=\u001b[39m [\u001b[39m3\u001b[39m, \u001b[39m54\u001b[39m]\n\u001b[1;32m----> <a href='vscode-notebook-cell:/c%3A/Users/drami/OneDrive/Desktop/GLA%20Classes/Python%20Classes/batch%202021-22/python3.10.2/Topic-wise%20basic%20programs/exceptions_basics.ipynb/basic_exceptions.ipynb#ch0000012?line=2'>3</a>\u001b[0m out \u001b[39m=\u001b[39m lst\u001b[39m.\u001b[39;49mfind(\u001b[39m3\u001b[39m)\n\u001b[0;32m      <a href='vscode-notebook-cell:/c%3A/Users/drami/OneDrive/Desktop/GLA%20Classes/Python%20Classes/batch%202021-22/python3.10.2/Topic-wise%20basic%20programs/exceptions_basics.ipynb/basic_exceptions.ipynb#ch0000012?line=3'>4</a>\u001b[0m \u001b[39mprint\u001b[39m(out)\n",
      "\u001b[1;31mAttributeError\u001b[0m: 'list' object has no attribute 'find'"
     ]
    }
   ],
   "source": [
    "# AttributeError\n",
    "lst = [3, 54]\n",
    "out = lst.find(3)\n",
    "print(out)"
   ]
  },
  {
   "cell_type": "code",
   "execution_count": null,
   "metadata": {},
   "outputs": [],
   "source": [
    "a = int(input())\n",
    "print(a)"
   ]
  },
  {
   "cell_type": "code",
   "execution_count": null,
   "metadata": {},
   "outputs": [],
   "source": []
  },
  {
   "cell_type": "code",
   "execution_count": null,
   "metadata": {},
   "outputs": [],
   "source": [
    "a = 23\n",
    "if a % 2\n",
    "    print('Odd')\n",
    "else\n",
    "    print('Even')    "
   ]
  },
  {
   "cell_type": "code",
   "execution_count": 7,
   "metadata": {},
   "outputs": [
    {
     "name": "stdout",
     "output_type": "stream",
     "text": [
      "Start\n",
      "a\n",
      "Stop\n"
     ]
    }
   ],
   "source": [
    "print('Start')\n",
    "lst = ['a', 'b']\n",
    "try:    \n",
    "    out = lst2[0]\n",
    "    print(out)\n",
    "except:\n",
    "    print('Invalid Indexing')    \n",
    "print('Stop')"
   ]
  },
  {
   "cell_type": "code",
   "execution_count": 20,
   "metadata": {},
   "outputs": [
    {
     "name": "stdout",
     "output_type": "stream",
     "text": [
      "Wrong value in Expression division by zero\n"
     ]
    }
   ],
   "source": [
    "a = 23\n",
    "b = 'Hi'\n",
    "try:\n",
    "    out = a / 0\n",
    "    print(out)\n",
    "except ZeroDivisionError as e:\n",
    "    print('Wrong value in Expression', e)\n",
    "except TypeError as e: \n",
    "    print('Invalid Type', e)\n"
   ]
  },
  {
   "cell_type": "code",
   "execution_count": 24,
   "metadata": {},
   "outputs": [
    {
     "ename": "SyntaxError",
     "evalue": "'[' was never closed (<string>, line 1)",
     "output_type": "error",
     "traceback": [
      "Traceback \u001b[1;36m(most recent call last)\u001b[0m:\n",
      "  File \u001b[0;32mc:\\Users\\drami\\AppData\\Local\\Programs\\Python\\Python310\\lib\\site-packages\\IPython\\core\\interactiveshell.py:3369\u001b[0m in \u001b[0;35mrun_code\u001b[0m\n    exec(code_obj, self.user_global_ns, self.user_ns)\n",
      "\u001b[1;36m  Input \u001b[1;32mIn [24]\u001b[1;36m in \u001b[1;35m<cell line: 1>\u001b[1;36m\u001b[0m\n\u001b[1;33m    eval('[3, 5, 6')\u001b[0m\n",
      "\u001b[1;36m  File \u001b[1;32m<string>:1\u001b[1;36m\u001b[0m\n\u001b[1;33m    [3, 5, 6\u001b[0m\n\u001b[1;37m    ^\u001b[0m\n\u001b[1;31mSyntaxError\u001b[0m\u001b[1;31m:\u001b[0m '[' was never closed\n"
     ]
    }
   ],
   "source": [
    "eval('[3, 5, 6')"
   ]
  },
  {
   "cell_type": "code",
   "execution_count": 26,
   "metadata": {},
   "outputs": [
    {
     "name": "stdout",
     "output_type": "stream",
     "text": [
      "Start\n",
      "Invalid Indexing\n",
      "stop\n"
     ]
    }
   ],
   "source": [
    "# 2. try-except-else\n",
    "print('Start')\n",
    "lst = ['a', 'b']\n",
    "try:\n",
    "    out = lst[2]\n",
    "    print(out)\n",
    "except:\n",
    "    print('Invalid Indexing')\n",
    "else:\n",
    "    print('Operation Succesfull')\n",
    "print('stop') \n"
   ]
  },
  {
   "cell_type": "code",
   "execution_count": 32,
   "metadata": {},
   "outputs": [
    {
     "name": "stdout",
     "output_type": "stream",
     "text": [
      "Start\n",
      "Stop\n"
     ]
    },
    {
     "ename": "NameError",
     "evalue": "name 'E' is not defined",
     "output_type": "error",
     "traceback": [
      "\u001b[1;31m---------------------------------------------------------------------------\u001b[0m",
      "\u001b[1;31mIndexError\u001b[0m                                Traceback (most recent call last)",
      "\u001b[1;32mc:\\Users\\drami\\OneDrive\\Desktop\\GLA Classes\\Python Classes\\batch 2021-22\\python3.10.2\\Topic-wise basic programs\\exceptions_basics.ipynb\\basic_exceptions.ipynb Cell 8'\u001b[0m in \u001b[0;36m<cell line: 4>\u001b[1;34m()\u001b[0m\n\u001b[0;32m      <a href='vscode-notebook-cell:/c%3A/Users/drami/OneDrive/Desktop/GLA%20Classes/Python%20Classes/batch%202021-22/python3.10.2/Topic-wise%20basic%20programs/exceptions_basics.ipynb/basic_exceptions.ipynb#ch0000007?line=3'>4</a>\u001b[0m \u001b[39mtry\u001b[39;00m:\n\u001b[1;32m----> <a href='vscode-notebook-cell:/c%3A/Users/drami/OneDrive/Desktop/GLA%20Classes/Python%20Classes/batch%202021-22/python3.10.2/Topic-wise%20basic%20programs/exceptions_basics.ipynb/basic_exceptions.ipynb#ch0000007?line=4'>5</a>\u001b[0m     out \u001b[39m=\u001b[39m lst[\u001b[39m2\u001b[39;49m]\n\u001b[0;32m      <a href='vscode-notebook-cell:/c%3A/Users/drami/OneDrive/Desktop/GLA%20Classes/Python%20Classes/batch%202021-22/python3.10.2/Topic-wise%20basic%20programs/exceptions_basics.ipynb/basic_exceptions.ipynb#ch0000007?line=5'>6</a>\u001b[0m     \u001b[39mprint\u001b[39m(out)\n",
      "\u001b[1;31mIndexError\u001b[0m: list index out of range",
      "\nDuring handling of the above exception, another exception occurred:\n",
      "\u001b[1;31mNameError\u001b[0m                                 Traceback (most recent call last)",
      "\u001b[1;32mc:\\Users\\drami\\OneDrive\\Desktop\\GLA Classes\\Python Classes\\batch 2021-22\\python3.10.2\\Topic-wise basic programs\\exceptions_basics.ipynb\\basic_exceptions.ipynb Cell 8'\u001b[0m in \u001b[0;36m<cell line: 4>\u001b[1;34m()\u001b[0m\n\u001b[0;32m      <a href='vscode-notebook-cell:/c%3A/Users/drami/OneDrive/Desktop/GLA%20Classes/Python%20Classes/batch%202021-22/python3.10.2/Topic-wise%20basic%20programs/exceptions_basics.ipynb/basic_exceptions.ipynb#ch0000007?line=5'>6</a>\u001b[0m     \u001b[39mprint\u001b[39m(out)\n\u001b[0;32m      <a href='vscode-notebook-cell:/c%3A/Users/drami/OneDrive/Desktop/GLA%20Classes/Python%20Classes/batch%202021-22/python3.10.2/Topic-wise%20basic%20programs/exceptions_basics.ipynb/basic_exceptions.ipynb#ch0000007?line=6'>7</a>\u001b[0m \u001b[39mexcept\u001b[39;00m:\n\u001b[1;32m----> <a href='vscode-notebook-cell:/c%3A/Users/drami/OneDrive/Desktop/GLA%20Classes/Python%20Classes/batch%202021-22/python3.10.2/Topic-wise%20basic%20programs/exceptions_basics.ipynb/basic_exceptions.ipynb#ch0000007?line=7'>8</a>\u001b[0m     \u001b[39mprint\u001b[39m(\u001b[39m'\u001b[39m\u001b[39mmsg\u001b[39m\u001b[39m'\u001b[39m, E)\n\u001b[0;32m     <a href='vscode-notebook-cell:/c%3A/Users/drami/OneDrive/Desktop/GLA%20Classes/Python%20Classes/batch%202021-22/python3.10.2/Topic-wise%20basic%20programs/exceptions_basics.ipynb/basic_exceptions.ipynb#ch0000007?line=9'>10</a>\u001b[0m \u001b[39mfinally\u001b[39;00m:\n\u001b[0;32m     <a href='vscode-notebook-cell:/c%3A/Users/drami/OneDrive/Desktop/GLA%20Classes/Python%20Classes/batch%202021-22/python3.10.2/Topic-wise%20basic%20programs/exceptions_basics.ipynb/basic_exceptions.ipynb#ch0000007?line=10'>11</a>\u001b[0m     \u001b[39mprint\u001b[39m(\u001b[39m'\u001b[39m\u001b[39mStop\u001b[39m\u001b[39m'\u001b[39m)\n",
      "\u001b[1;31mNameError\u001b[0m: name 'E' is not defined"
     ]
    }
   ],
   "source": [
    "# 2. try-finally\n",
    "print('Start')\n",
    "lst = ['a', 'b']\n",
    "try:\n",
    "    out = lst[2]\n",
    "    print(out)\n",
    "except:\n",
    "    print('msg', E)\n",
    "\n",
    "finally:\n",
    "    print('Stop')    \n"
   ]
  }
 ],
 "metadata": {
  "interpreter": {
   "hash": "490f1c68ed42f2c5a574e22fb9e03ff49b98516de8582ff1c5d4fb43fb70f61b"
  },
  "kernelspec": {
   "display_name": "Python 3.10.4 64-bit",
   "language": "python",
   "name": "python3"
  },
  "language_info": {
   "codemirror_mode": {
    "name": "ipython",
    "version": 3
   },
   "file_extension": ".py",
   "mimetype": "text/x-python",
   "name": "python",
   "nbconvert_exporter": "python",
   "pygments_lexer": "ipython3",
   "version": "3.10.4"
  },
  "orig_nbformat": 4
 },
 "nbformat": 4,
 "nbformat_minor": 2
}
