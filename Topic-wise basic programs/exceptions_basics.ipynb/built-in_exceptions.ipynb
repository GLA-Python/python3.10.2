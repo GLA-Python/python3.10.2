{
 "cells": [
  {
   "cell_type": "code",
   "execution_count": 3,
   "metadata": {},
   "outputs": [
    {
     "data": {
      "text/plain": [
       "'\\n1. Syntax Error: caused by wrong syntax\\n2. Exceptions(Run Time Error): During the execution of the program\\n'"
      ]
     },
     "execution_count": 3,
     "metadata": {},
     "output_type": "execute_result"
    }
   ],
   "source": [
    "# topic: Exception Handling\n",
    "'''\n",
    "1. Syntax Error: caused by wrong syntax\n",
    "2. Exceptions(Run Time Error): During the execution of the program\n",
    "'''"
   ]
  },
  {
   "cell_type": "code",
   "execution_count": 4,
   "metadata": {},
   "outputs": [
    {
     "name": "stdout",
     "output_type": "stream",
     "text": [
      "start\n",
      "Operation Invalid\n",
      "Stop\n"
     ]
    }
   ],
   "source": [
    "\n",
    "print('start')\n",
    "lst = ['a', 'b']\n",
    "try:\n",
    "    out = lst[3]\n",
    "    print(out)\n",
    "except:\n",
    "    print('Operation Invalid')    \n",
    "print('Stop')\n",
    "\n"
   ]
  },
  {
   "cell_type": "code",
   "execution_count": 5,
   "metadata": {},
   "outputs": [
    {
     "name": "stdout",
     "output_type": "stream",
     "text": [
      "Invalid Operation\n"
     ]
    }
   ],
   "source": [
    "\n",
    "b = 10\n",
    "try:\n",
    "    print(b/0)\n",
    "except:\n",
    "    print('Invalid Operation')\n",
    "else:\n",
    "    print('Operation Succesfull')\n",
    "\n"
   ]
  },
  {
   "cell_type": "code",
   "execution_count": 6,
   "metadata": {},
   "outputs": [
    {
     "name": "stdout",
     "output_type": "stream",
     "text": [
      "Start\n",
      "stop\n"
     ]
    },
    {
     "ename": "NameError",
     "evalue": "name 'E' is not defined",
     "output_type": "error",
     "traceback": [
      "\u001b[1;31m---------------------------------------------------------------------------\u001b[0m",
      "\u001b[1;31mIndexError\u001b[0m                                Traceback (most recent call last)",
      "\u001b[1;32mc:\\Users\\drami\\OneDrive\\Desktop\\GLA Classes\\Python Classes\\batch 2021-22\\python3.10.2\\Topic-wise basic programs\\exceptions_basics.ipynb\\built-in_exceptions.ipynb Cell 4'\u001b[0m in \u001b[0;36m<cell line: 4>\u001b[1;34m()\u001b[0m\n\u001b[0;32m      <a href='vscode-notebook-cell:/c%3A/Users/drami/OneDrive/Desktop/GLA%20Classes/Python%20Classes/batch%202021-22/python3.10.2/Topic-wise%20basic%20programs/exceptions_basics.ipynb/built-in_exceptions.ipynb#ch0000003?line=3'>4</a>\u001b[0m \u001b[39mtry\u001b[39;00m:\n\u001b[1;32m----> <a href='vscode-notebook-cell:/c%3A/Users/drami/OneDrive/Desktop/GLA%20Classes/Python%20Classes/batch%202021-22/python3.10.2/Topic-wise%20basic%20programs/exceptions_basics.ipynb/built-in_exceptions.ipynb#ch0000003?line=4'>5</a>\u001b[0m     out \u001b[39m=\u001b[39m lst[\u001b[39m3\u001b[39;49m]\n\u001b[0;32m      <a href='vscode-notebook-cell:/c%3A/Users/drami/OneDrive/Desktop/GLA%20Classes/Python%20Classes/batch%202021-22/python3.10.2/Topic-wise%20basic%20programs/exceptions_basics.ipynb/built-in_exceptions.ipynb#ch0000003?line=5'>6</a>\u001b[0m     \u001b[39mprint\u001b[39m(out)\n",
      "\u001b[1;31mIndexError\u001b[0m: list index out of range",
      "\nDuring handling of the above exception, another exception occurred:\n",
      "\u001b[1;31mNameError\u001b[0m                                 Traceback (most recent call last)",
      "\u001b[1;32mc:\\Users\\drami\\OneDrive\\Desktop\\GLA Classes\\Python Classes\\batch 2021-22\\python3.10.2\\Topic-wise basic programs\\exceptions_basics.ipynb\\built-in_exceptions.ipynb Cell 4'\u001b[0m in \u001b[0;36m<cell line: 4>\u001b[1;34m()\u001b[0m\n\u001b[0;32m      <a href='vscode-notebook-cell:/c%3A/Users/drami/OneDrive/Desktop/GLA%20Classes/Python%20Classes/batch%202021-22/python3.10.2/Topic-wise%20basic%20programs/exceptions_basics.ipynb/built-in_exceptions.ipynb#ch0000003?line=5'>6</a>\u001b[0m     \u001b[39mprint\u001b[39m(out)\n\u001b[0;32m      <a href='vscode-notebook-cell:/c%3A/Users/drami/OneDrive/Desktop/GLA%20Classes/Python%20Classes/batch%202021-22/python3.10.2/Topic-wise%20basic%20programs/exceptions_basics.ipynb/built-in_exceptions.ipynb#ch0000003?line=6'>7</a>\u001b[0m \u001b[39mexcept\u001b[39;00m:\n\u001b[1;32m----> <a href='vscode-notebook-cell:/c%3A/Users/drami/OneDrive/Desktop/GLA%20Classes/Python%20Classes/batch%202021-22/python3.10.2/Topic-wise%20basic%20programs/exceptions_basics.ipynb/built-in_exceptions.ipynb#ch0000003?line=7'>8</a>\u001b[0m     \u001b[39mprint\u001b[39m(\u001b[39m'\u001b[39m\u001b[39mInvalid Operation\u001b[39m\u001b[39m'\u001b[39m, E)    \n\u001b[0;32m      <a href='vscode-notebook-cell:/c%3A/Users/drami/OneDrive/Desktop/GLA%20Classes/Python%20Classes/batch%202021-22/python3.10.2/Topic-wise%20basic%20programs/exceptions_basics.ipynb/built-in_exceptions.ipynb#ch0000003?line=8'>9</a>\u001b[0m \u001b[39mfinally\u001b[39;00m:\n\u001b[0;32m     <a href='vscode-notebook-cell:/c%3A/Users/drami/OneDrive/Desktop/GLA%20Classes/Python%20Classes/batch%202021-22/python3.10.2/Topic-wise%20basic%20programs/exceptions_basics.ipynb/built-in_exceptions.ipynb#ch0000003?line=9'>10</a>\u001b[0m     \u001b[39mprint\u001b[39m(\u001b[39m'\u001b[39m\u001b[39mstop\u001b[39m\u001b[39m'\u001b[39m)\n",
      "\u001b[1;31mNameError\u001b[0m: name 'E' is not defined"
     ]
    }
   ],
   "source": [
    "# try - finally\n",
    "print('Start')\n",
    "lst = ['a', 'b']\n",
    "try:\n",
    "    out = lst[3]\n",
    "    print(out)\n",
    "except:\n",
    "    print('Invalid Operation', E)    \n",
    "finally:\n",
    "    print('stop')\n"
   ]
  },
  {
   "cell_type": "code",
   "execution_count": null,
   "metadata": {},
   "outputs": [
    {
     "ename": "AttributeError",
     "evalue": "'list' object has no attribute 'find'",
     "output_type": "error",
     "traceback": [
      "\u001b[1;31m---------------------------------------------------------------------------\u001b[0m",
      "\u001b[1;31mAttributeError\u001b[0m                            Traceback (most recent call last)",
      "\u001b[1;32mc:\\Users\\drami\\OneDrive\\Desktop\\GLA Classes\\Python Classes\\batch 2021-22\\python3.10.2\\Topic-wise basic programs\\exceptions_basics.ipynb\\built-in_exceptions.ipynb Cell 5'\u001b[0m in \u001b[0;36m<cell line: 2>\u001b[1;34m()\u001b[0m\n\u001b[0;32m      <a href='vscode-notebook-cell:/c%3A/Users/drami/OneDrive/Desktop/GLA%20Classes/Python%20Classes/batch%202021-22/python3.10.2/Topic-wise%20basic%20programs/exceptions_basics.ipynb/built-in_exceptions.ipynb#ch0000004?line=0'>1</a>\u001b[0m lst \u001b[39m=\u001b[39m [\u001b[39m'\u001b[39m\u001b[39ma\u001b[39m\u001b[39m'\u001b[39m, \u001b[39m'\u001b[39m\u001b[39mb\u001b[39m\u001b[39m'\u001b[39m]\n\u001b[1;32m----> <a href='vscode-notebook-cell:/c%3A/Users/drami/OneDrive/Desktop/GLA%20Classes/Python%20Classes/batch%202021-22/python3.10.2/Topic-wise%20basic%20programs/exceptions_basics.ipynb/built-in_exceptions.ipynb#ch0000004?line=1'>2</a>\u001b[0m out \u001b[39m=\u001b[39m lst\u001b[39m.\u001b[39;49mfind(\u001b[39m'\u001b[39m\u001b[39ma\u001b[39m\u001b[39m'\u001b[39m)\n\u001b[0;32m      <a href='vscode-notebook-cell:/c%3A/Users/drami/OneDrive/Desktop/GLA%20Classes/Python%20Classes/batch%202021-22/python3.10.2/Topic-wise%20basic%20programs/exceptions_basics.ipynb/built-in_exceptions.ipynb#ch0000004?line=2'>3</a>\u001b[0m \u001b[39mprint\u001b[39m(out)\n",
      "\u001b[1;31mAttributeError\u001b[0m: 'list' object has no attribute 'find'"
     ]
    }
   ],
   "source": [
    "lst = ['a', 'b']\n",
    "out = lst.find('a')\n",
    "print(out)\n"
   ]
  },
  {
   "cell_type": "code",
   "execution_count": 9,
   "metadata": {},
   "outputs": [
    {
     "ename": "IndentationError",
     "evalue": "unindent does not match any outer indentation level (<tokenize>, line 3)",
     "output_type": "error",
     "traceback": [
      "\u001b[1;36m  File \u001b[1;32m<tokenize>:3\u001b[1;36m\u001b[0m\n\u001b[1;33m    print(a)\u001b[0m\n\u001b[1;37m    ^\u001b[0m\n\u001b[1;31mIndentationError\u001b[0m\u001b[1;31m:\u001b[0m unindent does not match any outer indentation level\n"
     ]
    }
   ],
   "source": [
    "try:\n",
    "    a=\"manoj\"\n",
    "    print(a)\n",
    "except IndentationError:\n",
    "    print(\"Indendation error\")"
   ]
  },
  {
   "cell_type": "code",
   "execution_count": 3,
   "metadata": {},
   "outputs": [
    {
     "name": "stdout",
     "output_type": "stream",
     "text": [
      "baz\n"
     ]
    }
   ],
   "source": [
    "try:\n",
    "    compile(\"\"\"def foo():\\nprint('bar')\"\"\", '<string>', 'exec')\n",
    "except IndentationError:\n",
    "    print('baz')"
   ]
  },
  {
   "cell_type": "code",
   "execution_count": 5,
   "metadata": {},
   "outputs": [
    {
     "name": "stdout",
     "output_type": "stream",
     "text": [
      "Not valid Operation\n"
     ]
    }
   ],
   "source": [
    "a = eval(input('Enter the first number'))\n",
    "b = eval(input('Enter the second number'))\n",
    "try:\n",
    "    out = a + b\n",
    "    print(out)\n",
    "except Exception:\n",
    "    print('Not valid Operation')    "
   ]
  },
  {
   "cell_type": "code",
   "execution_count": 15,
   "metadata": {},
   "outputs": [
    {
     "name": "stdout",
     "output_type": "stream",
     "text": [
      "1\n"
     ]
    }
   ],
   "source": [
    "ls = [1, 2, 3]\n",
    "try:\n",
    "    out = ls.index(2)\n",
    "    print(out)\n",
    "except:\n",
    "    print('Errors')    \n",
    "   "
   ]
  },
  {
   "cell_type": "code",
   "execution_count": 25,
   "metadata": {},
   "outputs": [],
   "source": [
    "lst = map(float, [3, 5])"
   ]
  },
  {
   "cell_type": "code",
   "execution_count": 39,
   "metadata": {},
   "outputs": [
    {
     "name": "stdout",
     "output_type": "stream",
     "text": [
      "Hello World\n",
      "Error\n",
      "inner block\n"
     ]
    }
   ],
   "source": [
    "try:\n",
    "    try:\n",
    "        print('Hello World')\n",
    "        raise AttributeError('user generated Error')\n",
    "    except AttributeError:\n",
    "        print('Error') \n",
    "    print('inner block')       \n",
    "except Exception as e:\n",
    "    print(e)        \n",
    "\n"
   ]
  },
  {
   "cell_type": "code",
   "execution_count": 60,
   "metadata": {},
   "outputs": [
    {
     "name": "stdout",
     "output_type": "stream",
     "text": [
      "Hello World\n",
      "Error found\n",
      "Inner try block\n"
     ]
    }
   ],
   "source": [
    "ls = '1234@'\n",
    "try:\n",
    "    try:\n",
    "        print('Hello World')\n",
    "        out = int(ls)\n",
    "        print(out)\n",
    "    except ValueError:\n",
    "        print('Error found')    \n",
    "    print('Inner try block')    \n",
    "except Exception as e:\n",
    "    print('Outer Except block', e)\n"
   ]
  },
  {
   "cell_type": "code",
   "execution_count": 61,
   "metadata": {},
   "outputs": [
    {
     "name": "stdout",
     "output_type": "stream",
     "text": [
      "a\n",
      "Error\n",
      "2\n"
     ]
    }
   ],
   "source": [
    "lst = ['a', 2, 0]\n",
    "for i in lst:\n",
    "    try:\n",
    "        print(i)\n",
    "        r = 1 / int(i)\n",
    "        break\n",
    "    except:\n",
    "        print('Error')"
   ]
  }
 ],
 "metadata": {
  "interpreter": {
   "hash": "490f1c68ed42f2c5a574e22fb9e03ff49b98516de8582ff1c5d4fb43fb70f61b"
  },
  "kernelspec": {
   "display_name": "Python 3.10.4 64-bit",
   "language": "python",
   "name": "python3"
  },
  "language_info": {
   "codemirror_mode": {
    "name": "ipython",
    "version": 3
   },
   "file_extension": ".py",
   "mimetype": "text/x-python",
   "name": "python",
   "nbconvert_exporter": "python",
   "pygments_lexer": "ipython3",
   "version": "3.10.4"
  },
  "orig_nbformat": 4
 },
 "nbformat": 4,
 "nbformat_minor": 2
}
