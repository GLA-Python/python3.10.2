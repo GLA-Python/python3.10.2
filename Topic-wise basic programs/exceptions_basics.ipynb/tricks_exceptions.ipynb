{
 "cells": [
  {
   "cell_type": "code",
   "execution_count": 2,
   "metadata": {},
   "outputs": [
    {
     "ename": "IndentationError",
     "evalue": "unindent does not match any outer indentation level (<tokenize>, line 8)",
     "output_type": "error",
     "traceback": [
      "\u001b[1;36m  File \u001b[1;32m<tokenize>:8\u001b[1;36m\u001b[0m\n\u001b[1;33m    print(\"next command\")\u001b[0m\n\u001b[1;37m    ^\u001b[0m\n\u001b[1;31mIndentationError\u001b[0m\u001b[1;31m:\u001b[0m unindent does not match any outer indentation level\n"
     ]
    }
   ],
   "source": [
    "# 4.\tExplain any five built-in Exceptions in Python with Example. What is the output of the following program?\n",
    "try:\n",
    "    try:\n",
    "\t    raise TypeError\n",
    "    except ValueError:\n",
    "        \n",
    "\t    print(\"inner Exception handled \")\n",
    "\tprint(\"next command\")\n",
    "except TypeError:\n",
    "        print(\"outer Exception handled\")\n",
    "else:\n",
    "        print(\"no Exceptions\")\n"
   ]
  },
  {
   "cell_type": "code",
   "execution_count": null,
   "metadata": {},
   "outputs": [
    {
     "name": "stdout",
     "output_type": "stream",
     "text": [
      "A\n",
      "Innner block\n"
     ]
    }
   ],
   "source": [
    "x, y = 130, 2\n",
    "try:\n",
    "    try :\n",
    "        z = x // y\n",
    "        char = chr(z)\n",
    "        print(char)\n",
    "    except ZeroDivisionError:\n",
    "        print(\"division by zero\")\n",
    "    except ValueError:\n",
    "        print(\"ValueError\")\n",
    "    print('Innner block')    \n",
    "except Exception:\n",
    "    print('Outer Exceptions')        \n"
   ]
  },
  {
   "cell_type": "code",
   "execution_count": null,
   "metadata": {},
   "outputs": [
    {
     "name": "stdout",
     "output_type": "stream",
     "text": [
      "Hello World\n",
      "Error\n",
      "Inner Block\n"
     ]
    }
   ],
   "source": [
    "try:\n",
    "    try:\n",
    "        print('Hello World')\n",
    "        raise ValueError('User Generated')\n",
    "    except ValueError:\n",
    "        print('Error')   \n",
    "    print('Inner Block')  \n",
    "except:\n",
    "    print('Outer block')       "
   ]
  },
  {
   "cell_type": "code",
   "execution_count": null,
   "metadata": {},
   "outputs": [
    {
     "name": "stdout",
     "output_type": "stream",
     "text": [
      "a\n",
      "Error\n",
      "0\n",
      "Error\n",
      "2\n"
     ]
    }
   ],
   "source": [
    "ls = ['a', 1, 2, 1]\n",
    "for i in ls:\n",
    "    try:\n",
    "        print(i)\n",
    "        r = 1 / int(i)\n",
    "        break\n",
    "    except:\n",
    "        print('Error')\n",
    "\n"
   ]
  },
  {
   "cell_type": "code",
   "execution_count": null,
   "metadata": {},
   "outputs": [
    {
     "name": "stdout",
     "output_type": "stream",
     "text": [
      "Try Again\n",
      "Try Again\n",
      "Try Again\n",
      "34\n"
     ]
    }
   ],
   "source": [
    "# read valid integer number \n",
    "while True:\n",
    "    try:\n",
    "        num = int(input('Enter a number: '))\n",
    "    except:\n",
    "        print('Try Again')    \n",
    "    else:    \n",
    "        print(num)\n",
    "        break\n"
   ]
  },
  {
   "cell_type": "code",
   "execution_count": null,
   "metadata": {},
   "outputs": [
    {
     "name": "stdout",
     "output_type": "stream",
     "text": [
      "Hello World\n",
      "Error\n",
      "Inner block\n"
     ]
    }
   ],
   "source": [
    "try:\n",
    "    try:\n",
    "        print('Hello World')\n",
    "        raise ValueError\n",
    "    except ValueError:\n",
    "        print('Error')  \n",
    "    print('Inner block')      \n",
    "except:\n",
    "    print('Outer block')        "
   ]
  },
  {
   "cell_type": "code",
   "execution_count": null,
   "metadata": {},
   "outputs": [
    {
     "ename": "TypeError",
     "evalue": "user generated",
     "output_type": "error",
     "traceback": [
      "\u001b[1;31m---------------------------------------------------------------------------\u001b[0m",
      "\u001b[1;31mTypeError\u001b[0m                                 Traceback (most recent call last)",
      "\u001b[1;32mc:\\Users\\drami\\OneDrive\\Desktop\\GLA Classes\\Python Classes\\batch 2021-22\\python3.10.2\\Topic-wise basic programs\\exceptions_basics.ipynb\\tricks_exceptions.ipynb Cell 4'\u001b[0m in \u001b[0;36m<cell line: 1>\u001b[1;34m()\u001b[0m\n\u001b[1;32m----> <a href='vscode-notebook-cell:/c%3A/Users/drami/OneDrive/Desktop/GLA%20Classes/Python%20Classes/batch%202021-22/python3.10.2/Topic-wise%20basic%20programs/exceptions_basics.ipynb/tricks_exceptions.ipynb#ch0000003?line=0'>1</a>\u001b[0m \u001b[39mraise\u001b[39;00m \u001b[39mTypeError\u001b[39;00m(\u001b[39m\"\u001b[39m\u001b[39muser generated\u001b[39m\u001b[39m\"\u001b[39m)\n",
      "\u001b[1;31mTypeError\u001b[0m: user generated"
     ]
    }
   ],
   "source": [
    "raise TypeError(\"user generated\")"
   ]
  },
  {
   "cell_type": "code",
   "execution_count": null,
   "metadata": {},
   "outputs": [
    {
     "name": "stdout",
     "output_type": "stream",
     "text": [
      "Enter the valid integer again \n",
      "454\n"
     ]
    }
   ],
   "source": [
    "# input true integer value\n",
    "while 1:\n",
    "    try:\n",
    "        num = int(input(\"Enter the number \"))\n",
    "    except:\n",
    "        print('Enter the valid integer again ')\n",
    "    else:\n",
    "        print(num)\n",
    "        break\n"
   ]
  },
  {
   "cell_type": "code",
   "execution_count": null,
   "metadata": {},
   "outputs": [
    {
     "name": "stdout",
     "output_type": "stream",
     "text": [
      "[1.0, 'inf', 0.029411764705882353, None, 0.5, 1.0]\n"
     ]
    }
   ],
   "source": [
    "ls = [1, 0, '34', 'hello', 2.4, '1']\n",
    "out = []\n",
    "for i in ls:\n",
    "    try:\n",
    "        r = 1 / int(i)\n",
    "    except ZeroDivisionError:\n",
    "        out.append('inf')\n",
    "    except:\n",
    "        out.append(None)\n",
    "    else:\n",
    "        out.append(r)\n",
    "print(out)            \n",
    "\n",
    "\n",
    "# [1, 'inf', 1/34, None, 1/2.4, 1]\n"
   ]
  },
  {
   "cell_type": "code",
   "execution_count": null,
   "metadata": {},
   "outputs": [
    {
     "ename": "NameError",
     "evalue": "name 'counter3' is not defined",
     "output_type": "error",
     "traceback": [
      "\u001b[1;31m---------------------------------------------------------------------------\u001b[0m",
      "\u001b[1;31mNameError\u001b[0m                                 Traceback (most recent call last)",
      "\u001b[1;32mc:\\Users\\drami\\OneDrive\\Desktop\\GLA Classes\\Python Classes\\batch 2021-22\\python3.10.2\\Topic-wise basic programs\\exceptions_basics.ipynb\\tricks_exceptions.ipynb Cell 10'\u001b[0m in \u001b[0;36m<cell line: 4>\u001b[1;34m()\u001b[0m\n\u001b[0;32m      <a href='vscode-notebook-cell:/c%3A/Users/drami/OneDrive/Desktop/GLA%20Classes/Python%20Classes/batch%202021-22/python3.10.2/Topic-wise%20basic%20programs/exceptions_basics.ipynb/tricks_exceptions.ipynb#ch0000009?line=1'>2</a>\u001b[0m     \u001b[39mglobal\u001b[39;00m counter3\n\u001b[0;32m      <a href='vscode-notebook-cell:/c%3A/Users/drami/OneDrive/Desktop/GLA%20Classes/Python%20Classes/batch%202021-22/python3.10.2/Topic-wise%20basic%20programs/exceptions_basics.ipynb/tricks_exceptions.ipynb#ch0000009?line=2'>3</a>\u001b[0m     counter \u001b[39m=\u001b[39m counter3 \u001b[39m+\u001b[39m \u001b[39m1\u001b[39m\n\u001b[1;32m----> <a href='vscode-notebook-cell:/c%3A/Users/drami/OneDrive/Desktop/GLA%20Classes/Python%20Classes/batch%202021-22/python3.10.2/Topic-wise%20basic%20programs/exceptions_basics.ipynb/tricks_exceptions.ipynb#ch0000009?line=3'>4</a>\u001b[0m let()\n",
      "\u001b[1;32mc:\\Users\\drami\\OneDrive\\Desktop\\GLA Classes\\Python Classes\\batch 2021-22\\python3.10.2\\Topic-wise basic programs\\exceptions_basics.ipynb\\tricks_exceptions.ipynb Cell 10'\u001b[0m in \u001b[0;36mlet\u001b[1;34m()\u001b[0m\n\u001b[0;32m      <a href='vscode-notebook-cell:/c%3A/Users/drami/OneDrive/Desktop/GLA%20Classes/Python%20Classes/batch%202021-22/python3.10.2/Topic-wise%20basic%20programs/exceptions_basics.ipynb/tricks_exceptions.ipynb#ch0000009?line=0'>1</a>\u001b[0m \u001b[39mdef\u001b[39;00m \u001b[39mlet\u001b[39m():\n\u001b[0;32m      <a href='vscode-notebook-cell:/c%3A/Users/drami/OneDrive/Desktop/GLA%20Classes/Python%20Classes/batch%202021-22/python3.10.2/Topic-wise%20basic%20programs/exceptions_basics.ipynb/tricks_exceptions.ipynb#ch0000009?line=1'>2</a>\u001b[0m     \u001b[39mglobal\u001b[39;00m counter3\n\u001b[1;32m----> <a href='vscode-notebook-cell:/c%3A/Users/drami/OneDrive/Desktop/GLA%20Classes/Python%20Classes/batch%202021-22/python3.10.2/Topic-wise%20basic%20programs/exceptions_basics.ipynb/tricks_exceptions.ipynb#ch0000009?line=2'>3</a>\u001b[0m     counter \u001b[39m=\u001b[39m counter3 \u001b[39m+\u001b[39m \u001b[39m1\u001b[39m\n",
      "\u001b[1;31mNameError\u001b[0m: name 'counter3' is not defined"
     ]
    }
   ],
   "source": [
    "\n",
    "def let():\n",
    "    global counter3\n",
    "    counter = counter3 + 1\n",
    "let()"
   ]
  },
  {
   "cell_type": "code",
   "execution_count": null,
   "metadata": {},
   "outputs": [
    {
     "name": "stdout",
     "output_type": "stream",
     "text": [
      "{'b': 1, 'a': 3, 'n': 2}\n"
     ]
    }
   ],
   "source": [
    "a = 'banana'\n",
    "print({i: a.count(i) for i in a})\n",
    "\n",
    "# {'b': 1, 'a': 3, 'n': 2}"
   ]
  },
  {
   "cell_type": "code",
   "execution_count": null,
   "metadata": {},
   "outputs": [
    {
     "name": "stdout",
     "output_type": "stream",
     "text": [
      "hellopython\n"
     ]
    }
   ],
   "source": [
    "st = \"hello\"\\\n",
    "    \"python\"\n",
    "print(st)"
   ]
  },
  {
   "cell_type": "code",
   "execution_count": null,
   "metadata": {},
   "outputs": [],
   "source": [
    "'''\n",
    "ValueError\n",
    "TypeError\n",
    "AttributeError\n",
    "ZeroDivisionError\n",
    "IndexError\n",
    "NameError\n",
    "EOFError\n",
    "IOError\n",
    "KeyError\n",
    "IndetationError\n",
    "SyntaxError\n",
    "OSError\n",
    "ImportError\n",
    "StopIteration\n",
    "UnicodeEncodeError\n",
    "UnicodeDecodeError\n",
    "KeyboardInterrupt\n",
    "FloatingPointError\n",
    "AssertionError\n",
    "NotimplementedError\n",
    "'''"
   ]
  },
  {
   "cell_type": "code",
   "execution_count": 7,
   "metadata": {},
   "outputs": [
    {
     "ename": "NameError",
     "evalue": "name 'a1' is not defined",
     "output_type": "error",
     "traceback": [
      "\u001b[1;31m---------------------------------------------------------------------------\u001b[0m",
      "\u001b[1;31mNameError\u001b[0m                                 Traceback (most recent call last)",
      "Input \u001b[1;32mIn [7]\u001b[0m, in \u001b[0;36m<cell line: 8>\u001b[1;34m()\u001b[0m\n\u001b[0;32m      5\u001b[0m     a1 \u001b[39m=\u001b[39m \u001b[39m1\u001b[39m\n\u001b[0;32m      7\u001b[0m     \u001b[39mprint\u001b[39m(a,b)\n\u001b[1;32m----> 8\u001b[0m \u001b[39mprint\u001b[39m(fun())\n",
      "Input \u001b[1;32mIn [7]\u001b[0m, in \u001b[0;36mfun\u001b[1;34m()\u001b[0m\n\u001b[0;32m      2\u001b[0m \u001b[39mdef\u001b[39;00m \u001b[39mfun\u001b[39m():\n\u001b[0;32m      3\u001b[0m     \u001b[39mglobal\u001b[39;00m a1\n\u001b[1;32m----> 4\u001b[0m     b\u001b[39m=\u001b[39ma1\n\u001b[0;32m      5\u001b[0m     a1 \u001b[39m=\u001b[39m \u001b[39m1\u001b[39m\n\u001b[0;32m      7\u001b[0m     \u001b[39mprint\u001b[39m(a,b)\n",
      "\u001b[1;31mNameError\u001b[0m: name 'a1' is not defined"
     ]
    }
   ],
   "source": [
    "\n",
    "b=10\n",
    "def fun():\n",
    "    global a1\n",
    "    b=a1\n",
    "    a1 = 1\n",
    "\n",
    "    print(a,b)\n",
    "print(fun())"
   ]
  },
  {
   "cell_type": "code",
   "execution_count": 9,
   "metadata": {},
   "outputs": [
    {
     "name": "stdout",
     "output_type": "stream",
     "text": [
      "Try Again\n",
      "Try Again\n",
      "23\n"
     ]
    }
   ],
   "source": [
    "# read true integer value\n",
    "while 1:\n",
    "    try:\n",
    "        num = int(input('Enter the Integer'))\n",
    "    except:\n",
    "        print('Try Again')  \n",
    "    else:      \n",
    "        print(num)\n",
    "        break"
   ]
  },
  {
   "cell_type": "code",
   "execution_count": 10,
   "metadata": {},
   "outputs": [
    {
     "name": "stdout",
     "output_type": "stream",
     "text": [
      "[0.5, 0.029411764705882353, None, None, 1.0, 0.08333333333333333, 'inf']\n"
     ]
    }
   ],
   "source": [
    "lst = [2, '34', None, 'hello', True, 12, 0]\n",
    "out = []\n",
    "for i in lst:\n",
    "    try:\n",
    "        r = 1 / int(i)\n",
    "    except ZeroDivisionError:\n",
    "        out.append('inf')    \n",
    "    except: \n",
    "        out.append(None) \n",
    "    else:\n",
    "        out.append(r)\n",
    "print(out)              "
   ]
  }
 ],
 "metadata": {
  "interpreter": {
   "hash": "490f1c68ed42f2c5a574e22fb9e03ff49b98516de8582ff1c5d4fb43fb70f61b"
  },
  "kernelspec": {
   "display_name": "Python 3.10.4 64-bit",
   "language": "python",
   "name": "python3"
  },
  "language_info": {
   "codemirror_mode": {
    "name": "ipython",
    "version": 3
   },
   "file_extension": ".py",
   "mimetype": "text/x-python",
   "name": "python",
   "nbconvert_exporter": "python",
   "pygments_lexer": "ipython3",
   "version": "3.10.4"
  },
  "orig_nbformat": 4
 },
 "nbformat": 4,
 "nbformat_minor": 2
}
